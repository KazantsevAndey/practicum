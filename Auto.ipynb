{
 "cells": [
  {
   "cell_type": "markdown",
   "metadata": {},
   "source": [
    "# Определение стоимости автомобилей"
   ]
  },
  {
   "cell_type": "markdown",
   "metadata": {},
   "source": [
    "Сервис по продаже автомобилей с пробегом «Не бит, не крашен» разрабатывает приложение для привлечения новых клиентов. В нём можно быстро узнать рыночную стоимость своего автомобиля. В вашем распоряжении исторические данные: технические характеристики, комплектации и цены автомобилей. Вам нужно построить модель для определения стоимости. \n",
    "\n",
    "Заказчику важны:\n",
    "\n",
    "- качество предсказания;\n",
    "- скорость предсказания;\n",
    "- время обучения."
   ]
  },
  {
   "cell_type": "markdown",
   "metadata": {},
   "source": [
    "<b>Основные шаги:</b>  \n",
    "Загрузите данные, путь к файлу: /datasets/autos.csv.  \n",
    "Изучите данные. Заполните пропущенные значения и обработайте аномалии в столбцах. Если среди признаков имеются неинформативные, удалите их.  \n",
    "Подготовьте выборки для обучения моделей.  \n",
    "Обучите разные модели, одна из которых — LightGBM, как минимум одна — не бустинг. Для каждой модели попробуйте разные гиперпараметры.  \n",
    "Проанализируйте время обучения, время предсказания и качество моделей.  \n",
    "Опираясь на критерии заказчика, выберете лучшую модель, проверьте её качество на тестовой выборке.  \n",
    "\n",
    " \n",
    "<b>Описание данных</b>  \n",
    "Данные находятся в файле /datasets/autos.csv. Скачать датасет.   \n",
    "Признаки  \n",
    "DateCrawled — дата скачивания анкеты из базы  \n",
    "VehicleType — тип автомобильного кузова  \n",
    "RegistrationYear — год регистрации автомобиля   \n",
    "Gearbox — тип коробки передач  \n",
    "Power — мощность (л. с.)  \n",
    "Model — модель автомобиля  \n",
    "Kilometer — пробег (км)  \n",
    "RegistrationMonth — месяц регистрации автомобиля  \n",
    "FuelType — тип топлива  \n",
    "Brand — марка автомобиля  \n",
    "Repaired — была машина в ремонте или нет  \n",
    "DateCreated — дата создания анкеты\n",
    "NumberOfPictures — количество фотографий автомобиля  \n",
    "PostalCode — почтовый индекс владельца анкеты (пользователя)  \n",
    "LastSeen — дата последней активности пользователя  \n",
    "<b>Целевой признак</b>  \n",
    "Price — цена (евро)  "
   ]
  },
  {
   "cell_type": "markdown",
   "metadata": {},
   "source": [
    "## Подготовка данных"
   ]
  },
  {
   "cell_type": "markdown",
   "metadata": {},
   "source": [
    "Итак, вот в наших руках новые данные и новое задание. В первую очередь посмотрим, что у нас есть. Самым первым шагом ипортируем библиотеки, и по ходу дальнешей работы будем дополнять этот первый пункт новыми ипортами. Начнем знакомиться. Посмотрим тип данных, столбки, выведем несколько первых строчек, чтобы понять как все устроено. Сразу построим диаграммы, чтобы посмотреть распределение. На первом этапе мы ничего не будем редактировать, это первое знакомство. Потом подумаем, почистить нашу базу, чтобы она максимально подошла для поставленных целей."
   ]
  },
  {
   "cell_type": "code",
   "execution_count": 1,
   "metadata": {},
   "outputs": [],
   "source": [
    "!pip install scikit-learn==1.1.3 -q"
   ]
  },
  {
   "cell_type": "code",
   "execution_count": 2,
   "metadata": {},
   "outputs": [],
   "source": [
    "import matplotlib.pyplot as plt\n",
    "import numpy as np\n",
    "import pandas as pd\n",
    "import warnings\n",
    "import seaborn as sns\n",
    "import lightgbm as lgb\n",
    "from sklearn.pipeline import Pipeline\n",
    "from sklearn.compose import ColumnTransformer\n",
    "from sklearn.impute import SimpleImputer\n",
    "from sklearn.metrics import make_scorer, mean_squared_error\n",
    "from sklearn.preprocessing import OneHotEncoder, StandardScaler, MinMaxScaler, OrdinalEncoder\n",
    "from sklearn.model_selection import train_test_split, RandomizedSearchCV, cross_val_score, GridSearchCV\n",
    "from sklearn.linear_model import LinearRegression, Ridge\n",
    "from sklearn.tree import DecisionTreeRegressor\n",
    "from sklearn.ensemble import RandomForestRegressor\n",
    "from catboost import Pool, CatBoostRegressor, cv\n",
    "from lightgbm import LGBMRegressor\n",
    "!pip3 install phik -q\n",
    "import phik"
   ]
  },
  {
   "cell_type": "markdown",
   "metadata": {},
   "source": [
    "import matplotlib.pyplot as plt\n",
    "import numpy as np\n",
    "import pandas as pd\n",
    "import warnings\n",
    "import matplotlib.pyplot as plt\n",
    "import seaborn as sns\n",
    "from sklearn.pipeline import Pipeline\n",
    "from sklearn.compose import ColumnTransformer\n",
    "from sklearn.impute import SimpleImputer\n",
    "from sklearn.metrics import make_scorer\n",
    "from sklearn.preprocessing import OneHotEncoder, StandardScaler, MinMaxScaler\n",
    "from sklearn.model_selection import train_test_split,  RandomizedSearchCV\n",
    "from sklearn.preprocessing import StandardScaler\n",
    "from sklearn.metrics import mean_squared_error\n",
    "from sklearn.model_selection import cross_val_score\n",
    "from sklearn.preprocessing import OrdinalEncoder\n",
    "from sklearn.linear_model import LinearRegression\n",
    "from sklearn.linear_model import Ridge\n",
    "from sklearn.tree import DecisionTreeRegressor\n",
    "from catboost import Pool, CatBoostRegressor, cv\n",
    "from lightgbm import LGBMRegressor\n",
    "from sklearn.model_selection import GridSearchCV\n",
    "from sklearn.ensemble import RandomForestRegressor\n",
    "from sklearn.model_selection import GridSearchCV\n",
    "from sklearn.metrics import mean_squared_error\n",
    "!pip3 install phik -q\n",
    "!pip install scikit-learn==1.1.3 -q\n",
    "import phik "
   ]
  },
  {
   "cell_type": "code",
   "execution_count": 3,
   "metadata": {},
   "outputs": [],
   "source": [
    "RANDOM_STATE = 42\n",
    "TEST_SIZE = 0.25"
   ]
  },
  {
   "cell_type": "code",
   "execution_count": 4,
   "metadata": {},
   "outputs": [],
   "source": [
    "data = pd.read_csv('/datasets/autos.csv')"
   ]
  },
  {
   "cell_type": "code",
   "execution_count": 5,
   "metadata": {},
   "outputs": [
    {
     "name": "stdout",
     "output_type": "stream",
     "text": [
      "<class 'pandas.core.frame.DataFrame'>\n",
      "RangeIndex: 354369 entries, 0 to 354368\n",
      "Data columns (total 16 columns):\n",
      " #   Column             Non-Null Count   Dtype \n",
      "---  ------             --------------   ----- \n",
      " 0   DateCrawled        354369 non-null  object\n",
      " 1   Price              354369 non-null  int64 \n",
      " 2   VehicleType        316879 non-null  object\n",
      " 3   RegistrationYear   354369 non-null  int64 \n",
      " 4   Gearbox            334536 non-null  object\n",
      " 5   Power              354369 non-null  int64 \n",
      " 6   Model              334664 non-null  object\n",
      " 7   Kilometer          354369 non-null  int64 \n",
      " 8   RegistrationMonth  354369 non-null  int64 \n",
      " 9   FuelType           321474 non-null  object\n",
      " 10  Brand              354369 non-null  object\n",
      " 11  Repaired           283215 non-null  object\n",
      " 12  DateCreated        354369 non-null  object\n",
      " 13  NumberOfPictures   354369 non-null  int64 \n",
      " 14  PostalCode         354369 non-null  int64 \n",
      " 15  LastSeen           354369 non-null  object\n",
      "dtypes: int64(7), object(9)\n",
      "memory usage: 43.3+ MB\n"
     ]
    }
   ],
   "source": [
    "data.info()"
   ]
  },
  {
   "cell_type": "code",
   "execution_count": 6,
   "metadata": {},
   "outputs": [
    {
     "data": {
      "text/html": [
       "<div>\n",
       "<style scoped>\n",
       "    .dataframe tbody tr th:only-of-type {\n",
       "        vertical-align: middle;\n",
       "    }\n",
       "\n",
       "    .dataframe tbody tr th {\n",
       "        vertical-align: top;\n",
       "    }\n",
       "\n",
       "    .dataframe thead th {\n",
       "        text-align: right;\n",
       "    }\n",
       "</style>\n",
       "<table border=\"1\" class=\"dataframe\">\n",
       "  <thead>\n",
       "    <tr style=\"text-align: right;\">\n",
       "      <th></th>\n",
       "      <th>Price</th>\n",
       "      <th>RegistrationYear</th>\n",
       "      <th>Power</th>\n",
       "      <th>Kilometer</th>\n",
       "      <th>RegistrationMonth</th>\n",
       "      <th>NumberOfPictures</th>\n",
       "      <th>PostalCode</th>\n",
       "    </tr>\n",
       "  </thead>\n",
       "  <tbody>\n",
       "    <tr>\n",
       "      <th>count</th>\n",
       "      <td>354369.000000</td>\n",
       "      <td>354369.000000</td>\n",
       "      <td>354369.000000</td>\n",
       "      <td>354369.000000</td>\n",
       "      <td>354369.000000</td>\n",
       "      <td>354369.0</td>\n",
       "      <td>354369.000000</td>\n",
       "    </tr>\n",
       "    <tr>\n",
       "      <th>mean</th>\n",
       "      <td>4416.656776</td>\n",
       "      <td>2004.234448</td>\n",
       "      <td>110.094337</td>\n",
       "      <td>128211.172535</td>\n",
       "      <td>5.714645</td>\n",
       "      <td>0.0</td>\n",
       "      <td>50508.689087</td>\n",
       "    </tr>\n",
       "    <tr>\n",
       "      <th>std</th>\n",
       "      <td>4514.158514</td>\n",
       "      <td>90.227958</td>\n",
       "      <td>189.850405</td>\n",
       "      <td>37905.341530</td>\n",
       "      <td>3.726421</td>\n",
       "      <td>0.0</td>\n",
       "      <td>25783.096248</td>\n",
       "    </tr>\n",
       "    <tr>\n",
       "      <th>min</th>\n",
       "      <td>0.000000</td>\n",
       "      <td>1000.000000</td>\n",
       "      <td>0.000000</td>\n",
       "      <td>5000.000000</td>\n",
       "      <td>0.000000</td>\n",
       "      <td>0.0</td>\n",
       "      <td>1067.000000</td>\n",
       "    </tr>\n",
       "    <tr>\n",
       "      <th>25%</th>\n",
       "      <td>1050.000000</td>\n",
       "      <td>1999.000000</td>\n",
       "      <td>69.000000</td>\n",
       "      <td>125000.000000</td>\n",
       "      <td>3.000000</td>\n",
       "      <td>0.0</td>\n",
       "      <td>30165.000000</td>\n",
       "    </tr>\n",
       "    <tr>\n",
       "      <th>50%</th>\n",
       "      <td>2700.000000</td>\n",
       "      <td>2003.000000</td>\n",
       "      <td>105.000000</td>\n",
       "      <td>150000.000000</td>\n",
       "      <td>6.000000</td>\n",
       "      <td>0.0</td>\n",
       "      <td>49413.000000</td>\n",
       "    </tr>\n",
       "    <tr>\n",
       "      <th>75%</th>\n",
       "      <td>6400.000000</td>\n",
       "      <td>2008.000000</td>\n",
       "      <td>143.000000</td>\n",
       "      <td>150000.000000</td>\n",
       "      <td>9.000000</td>\n",
       "      <td>0.0</td>\n",
       "      <td>71083.000000</td>\n",
       "    </tr>\n",
       "    <tr>\n",
       "      <th>max</th>\n",
       "      <td>20000.000000</td>\n",
       "      <td>9999.000000</td>\n",
       "      <td>20000.000000</td>\n",
       "      <td>150000.000000</td>\n",
       "      <td>12.000000</td>\n",
       "      <td>0.0</td>\n",
       "      <td>99998.000000</td>\n",
       "    </tr>\n",
       "  </tbody>\n",
       "</table>\n",
       "</div>"
      ],
      "text/plain": [
       "               Price  RegistrationYear          Power      Kilometer  \\\n",
       "count  354369.000000     354369.000000  354369.000000  354369.000000   \n",
       "mean     4416.656776       2004.234448     110.094337  128211.172535   \n",
       "std      4514.158514         90.227958     189.850405   37905.341530   \n",
       "min         0.000000       1000.000000       0.000000    5000.000000   \n",
       "25%      1050.000000       1999.000000      69.000000  125000.000000   \n",
       "50%      2700.000000       2003.000000     105.000000  150000.000000   \n",
       "75%      6400.000000       2008.000000     143.000000  150000.000000   \n",
       "max     20000.000000       9999.000000   20000.000000  150000.000000   \n",
       "\n",
       "       RegistrationMonth  NumberOfPictures     PostalCode  \n",
       "count      354369.000000          354369.0  354369.000000  \n",
       "mean            5.714645               0.0   50508.689087  \n",
       "std             3.726421               0.0   25783.096248  \n",
       "min             0.000000               0.0    1067.000000  \n",
       "25%             3.000000               0.0   30165.000000  \n",
       "50%             6.000000               0.0   49413.000000  \n",
       "75%             9.000000               0.0   71083.000000  \n",
       "max            12.000000               0.0   99998.000000  "
      ]
     },
     "execution_count": 6,
     "metadata": {},
     "output_type": "execute_result"
    }
   ],
   "source": [
    "data.describe()"
   ]
  },
  {
   "cell_type": "code",
   "execution_count": 7,
   "metadata": {},
   "outputs": [
    {
     "data": {
      "image/png": "[encoded data removed]",
      "text/plain": [
       "<Figure size 864x864 with 2 Axes>"
      ]
     },
     "metadata": {
      "needs_background": "light"
     },
     "output_type": "display_data"
    },
    {
     "data": {
      "image/png": "[encoded data removed]",
      "text/plain": [
       "<Figure size 864x864 with 2 Axes>"
      ]
     },
     "metadata": {
      "needs_background": "light"
     },
     "output_type": "display_data"
    },
    {
     "data": {
      "image/png": "[encoded data removed]",
      "text/plain": [
       "<Figure size 864x864 with 2 Axes>"
      ]
     },
     "metadata": {
      "needs_background": "light"
     },
     "output_type": "display_data"
    },
    {
     "data": {
      "image/png": "[encoded data removed]",
      "text/plain": [
       "<Figure size 864x864 with 2 Axes>"
      ]
     },
     "metadata": {
      "needs_background": "light"
     },
     "output_type": "display_data"
    },
    {
     "data": {
      "image/png": "[encoded data removed]",
      "text/plain": [
       "<Figure size 864x864 with 2 Axes>"
      ]
     },
     "metadata": {
      "needs_background": "light"
     },
     "output_type": "display_data"
    },
    {
     "data": {
      "image/png": "[encoded data removed]",
      "text/plain": [
       "<Figure size 864x864 with 2 Axes>"
      ]
     },
     "metadata": {
      "needs_background": "light"
     },
     "output_type": "display_data"
    },
    {
     "data": {
      "image/png": "[encoded data removed]",
      "text/plain": [
       "<Figure size 864x864 with 2 Axes>"
      ]
     },
     "metadata": {
      "needs_background": "light"
     },
     "output_type": "display_data"
    }
   ],
   "source": [
    "def plot_features(data):\n",
    "    for column in data.columns:\n",
    "            if data[column].dtype in ['int64', 'float64']:\n",
    "                fig, axes = plt.subplots(2, 1, figsize=(12, 12))\n",
    "                sns.histplot(data[column], kde=False, bins=50, ax=axes[0])\n",
    "                axes[0].set_title(f'Гистограмма {column}')\n",
    "                axes[0].set_xlabel(column)\n",
    "                axes[0].set_ylabel('Количество')\n",
    "\n",
    "                sns.boxplot(x=data[column], ax=axes[1])\n",
    "                axes[1].set_title(f'Ящик с усами {column}')\n",
    "                axes[1].set_xlabel(column)\n",
    "                plt.show()\n",
    "#            else:\n",
    "#                plt.figure(figsize=(8, 6))\n",
    "#                counts = data[column].value_counts()\n",
    "#                plt.pie(counts, labels=counts.index, autopct='%1.1f%%')\n",
    "#                plt.title(f'Диаграма {column}')\n",
    "#                plt.show()\n",
    "\n",
    "plot_features(data)"
   ]
  },
  {
   "cell_type": "code",
   "execution_count": 8,
   "metadata": {},
   "outputs": [
    {
     "data": {
      "text/html": [
       "<div>\n",
       "<style scoped>\n",
       "    .dataframe tbody tr th:only-of-type {\n",
       "        vertical-align: middle;\n",
       "    }\n",
       "\n",
       "    .dataframe tbody tr th {\n",
       "        vertical-align: top;\n",
       "    }\n",
       "\n",
       "    .dataframe thead th {\n",
       "        text-align: right;\n",
       "    }\n",
       "</style>\n",
       "<table border=\"1\" class=\"dataframe\">\n",
       "  <thead>\n",
       "    <tr style=\"text-align: right;\">\n",
       "      <th></th>\n",
       "      <th>DateCrawled</th>\n",
       "      <th>Price</th>\n",
       "      <th>VehicleType</th>\n",
       "      <th>RegistrationYear</th>\n",
       "      <th>Gearbox</th>\n",
       "      <th>Power</th>\n",
       "      <th>Model</th>\n",
       "      <th>Kilometer</th>\n",
       "      <th>RegistrationMonth</th>\n",
       "      <th>FuelType</th>\n",
       "      <th>Brand</th>\n",
       "      <th>Repaired</th>\n",
       "      <th>DateCreated</th>\n",
       "      <th>NumberOfPictures</th>\n",
       "      <th>PostalCode</th>\n",
       "      <th>LastSeen</th>\n",
       "    </tr>\n",
       "  </thead>\n",
       "  <tbody>\n",
       "    <tr>\n",
       "      <th>0</th>\n",
       "      <td>2016-03-24 11:52:17</td>\n",
       "      <td>480</td>\n",
       "      <td>NaN</td>\n",
       "      <td>1993</td>\n",
       "      <td>manual</td>\n",
       "      <td>0</td>\n",
       "      <td>golf</td>\n",
       "      <td>150000</td>\n",
       "      <td>0</td>\n",
       "      <td>petrol</td>\n",
       "      <td>volkswagen</td>\n",
       "      <td>NaN</td>\n",
       "      <td>2016-03-24 00:00:00</td>\n",
       "      <td>0</td>\n",
       "      <td>70435</td>\n",
       "      <td>2016-04-07 03:16:57</td>\n",
       "    </tr>\n",
       "    <tr>\n",
       "      <th>1</th>\n",
       "      <td>2016-03-24 10:58:45</td>\n",
       "      <td>18300</td>\n",
       "      <td>coupe</td>\n",
       "      <td>2011</td>\n",
       "      <td>manual</td>\n",
       "      <td>190</td>\n",
       "      <td>NaN</td>\n",
       "      <td>125000</td>\n",
       "      <td>5</td>\n",
       "      <td>gasoline</td>\n",
       "      <td>audi</td>\n",
       "      <td>yes</td>\n",
       "      <td>2016-03-24 00:00:00</td>\n",
       "      <td>0</td>\n",
       "      <td>66954</td>\n",
       "      <td>2016-04-07 01:46:50</td>\n",
       "    </tr>\n",
       "    <tr>\n",
       "      <th>2</th>\n",
       "      <td>2016-03-14 12:52:21</td>\n",
       "      <td>9800</td>\n",
       "      <td>suv</td>\n",
       "      <td>2004</td>\n",
       "      <td>auto</td>\n",
       "      <td>163</td>\n",
       "      <td>grand</td>\n",
       "      <td>125000</td>\n",
       "      <td>8</td>\n",
       "      <td>gasoline</td>\n",
       "      <td>jeep</td>\n",
       "      <td>NaN</td>\n",
       "      <td>2016-03-14 00:00:00</td>\n",
       "      <td>0</td>\n",
       "      <td>90480</td>\n",
       "      <td>2016-04-05 12:47:46</td>\n",
       "    </tr>\n",
       "    <tr>\n",
       "      <th>3</th>\n",
       "      <td>2016-03-17 16:54:04</td>\n",
       "      <td>1500</td>\n",
       "      <td>small</td>\n",
       "      <td>2001</td>\n",
       "      <td>manual</td>\n",
       "      <td>75</td>\n",
       "      <td>golf</td>\n",
       "      <td>150000</td>\n",
       "      <td>6</td>\n",
       "      <td>petrol</td>\n",
       "      <td>volkswagen</td>\n",
       "      <td>no</td>\n",
       "      <td>2016-03-17 00:00:00</td>\n",
       "      <td>0</td>\n",
       "      <td>91074</td>\n",
       "      <td>2016-03-17 17:40:17</td>\n",
       "    </tr>\n",
       "    <tr>\n",
       "      <th>4</th>\n",
       "      <td>2016-03-31 17:25:20</td>\n",
       "      <td>3600</td>\n",
       "      <td>small</td>\n",
       "      <td>2008</td>\n",
       "      <td>manual</td>\n",
       "      <td>69</td>\n",
       "      <td>fabia</td>\n",
       "      <td>90000</td>\n",
       "      <td>7</td>\n",
       "      <td>gasoline</td>\n",
       "      <td>skoda</td>\n",
       "      <td>no</td>\n",
       "      <td>2016-03-31 00:00:00</td>\n",
       "      <td>0</td>\n",
       "      <td>60437</td>\n",
       "      <td>2016-04-06 10:17:21</td>\n",
       "    </tr>\n",
       "  </tbody>\n",
       "</table>\n",
       "</div>"
      ],
      "text/plain": [
       "           DateCrawled  Price VehicleType  RegistrationYear Gearbox  Power  \\\n",
       "0  2016-03-24 11:52:17    480         NaN              1993  manual      0   \n",
       "1  2016-03-24 10:58:45  18300       coupe              2011  manual    190   \n",
       "2  2016-03-14 12:52:21   9800         suv              2004    auto    163   \n",
       "3  2016-03-17 16:54:04   1500       small              2001  manual     75   \n",
       "4  2016-03-31 17:25:20   3600       small              2008  manual     69   \n",
       "\n",
       "   Model  Kilometer  RegistrationMonth  FuelType       Brand Repaired  \\\n",
       "0   golf     150000                  0    petrol  volkswagen      NaN   \n",
       "1    NaN     125000                  5  gasoline        audi      yes   \n",
       "2  grand     125000                  8  gasoline        jeep      NaN   \n",
       "3   golf     150000                  6    petrol  volkswagen       no   \n",
       "4  fabia      90000                  7  gasoline       skoda       no   \n",
       "\n",
       "           DateCreated  NumberOfPictures  PostalCode             LastSeen  \n",
       "0  2016-03-24 00:00:00                 0       70435  2016-04-07 03:16:57  \n",
       "1  2016-03-24 00:00:00                 0       66954  2016-04-07 01:46:50  \n",
       "2  2016-03-14 00:00:00                 0       90480  2016-04-05 12:47:46  \n",
       "3  2016-03-17 00:00:00                 0       91074  2016-03-17 17:40:17  \n",
       "4  2016-03-31 00:00:00                 0       60437  2016-04-06 10:17:21  "
      ]
     },
     "execution_count": 8,
     "metadata": {},
     "output_type": "execute_result"
    }
   ],
   "source": [
    "data.head()"
   ]
  },
  {
   "cell_type": "markdown",
   "metadata": {},
   "source": [
    "Познакомились с данными. Получается что нам нужны не все столбики, это точно. У нас цель - прогноз цены. Удалим лишнее. "
   ]
  },
  {
   "cell_type": "code",
   "execution_count": 9,
   "metadata": {},
   "outputs": [],
   "source": [
    "columns_to_drop = ['NumberOfPictures', 'PostalCode', 'DateCrawled', 'LastSeen', 'NumberOfPictures', 'DateCreated', 'RegistrationMonth' ]\n",
    "\n",
    "data.drop(columns=columns_to_drop, inplace=True)"
   ]
  },
  {
   "cell_type": "code",
   "execution_count": 10,
   "metadata": {},
   "outputs": [
    {
     "data": {
      "text/html": [
       "<div>\n",
       "<style scoped>\n",
       "    .dataframe tbody tr th:only-of-type {\n",
       "        vertical-align: middle;\n",
       "    }\n",
       "\n",
       "    .dataframe tbody tr th {\n",
       "        vertical-align: top;\n",
       "    }\n",
       "\n",
       "    .dataframe thead th {\n",
       "        text-align: right;\n",
       "    }\n",
       "</style>\n",
       "<table border=\"1\" class=\"dataframe\">\n",
       "  <thead>\n",
       "    <tr style=\"text-align: right;\">\n",
       "      <th></th>\n",
       "      <th>Price</th>\n",
       "      <th>VehicleType</th>\n",
       "      <th>RegistrationYear</th>\n",
       "      <th>Gearbox</th>\n",
       "      <th>Power</th>\n",
       "      <th>Model</th>\n",
       "      <th>Kilometer</th>\n",
       "      <th>FuelType</th>\n",
       "      <th>Brand</th>\n",
       "      <th>Repaired</th>\n",
       "    </tr>\n",
       "  </thead>\n",
       "  <tbody>\n",
       "    <tr>\n",
       "      <th>0</th>\n",
       "      <td>480</td>\n",
       "      <td>NaN</td>\n",
       "      <td>1993</td>\n",
       "      <td>manual</td>\n",
       "      <td>0</td>\n",
       "      <td>golf</td>\n",
       "      <td>150000</td>\n",
       "      <td>petrol</td>\n",
       "      <td>volkswagen</td>\n",
       "      <td>NaN</td>\n",
       "    </tr>\n",
       "    <tr>\n",
       "      <th>1</th>\n",
       "      <td>18300</td>\n",
       "      <td>coupe</td>\n",
       "      <td>2011</td>\n",
       "      <td>manual</td>\n",
       "      <td>190</td>\n",
       "      <td>NaN</td>\n",
       "      <td>125000</td>\n",
       "      <td>gasoline</td>\n",
       "      <td>audi</td>\n",
       "      <td>yes</td>\n",
       "    </tr>\n",
       "    <tr>\n",
       "      <th>2</th>\n",
       "      <td>9800</td>\n",
       "      <td>suv</td>\n",
       "      <td>2004</td>\n",
       "      <td>auto</td>\n",
       "      <td>163</td>\n",
       "      <td>grand</td>\n",
       "      <td>125000</td>\n",
       "      <td>gasoline</td>\n",
       "      <td>jeep</td>\n",
       "      <td>NaN</td>\n",
       "    </tr>\n",
       "    <tr>\n",
       "      <th>3</th>\n",
       "      <td>1500</td>\n",
       "      <td>small</td>\n",
       "      <td>2001</td>\n",
       "      <td>manual</td>\n",
       "      <td>75</td>\n",
       "      <td>golf</td>\n",
       "      <td>150000</td>\n",
       "      <td>petrol</td>\n",
       "      <td>volkswagen</td>\n",
       "      <td>no</td>\n",
       "    </tr>\n",
       "    <tr>\n",
       "      <th>4</th>\n",
       "      <td>3600</td>\n",
       "      <td>small</td>\n",
       "      <td>2008</td>\n",
       "      <td>manual</td>\n",
       "      <td>69</td>\n",
       "      <td>fabia</td>\n",
       "      <td>90000</td>\n",
       "      <td>gasoline</td>\n",
       "      <td>skoda</td>\n",
       "      <td>no</td>\n",
       "    </tr>\n",
       "    <tr>\n",
       "      <th>5</th>\n",
       "      <td>650</td>\n",
       "      <td>sedan</td>\n",
       "      <td>1995</td>\n",
       "      <td>manual</td>\n",
       "      <td>102</td>\n",
       "      <td>3er</td>\n",
       "      <td>150000</td>\n",
       "      <td>petrol</td>\n",
       "      <td>bmw</td>\n",
       "      <td>yes</td>\n",
       "    </tr>\n",
       "    <tr>\n",
       "      <th>6</th>\n",
       "      <td>2200</td>\n",
       "      <td>convertible</td>\n",
       "      <td>2004</td>\n",
       "      <td>manual</td>\n",
       "      <td>109</td>\n",
       "      <td>2_reihe</td>\n",
       "      <td>150000</td>\n",
       "      <td>petrol</td>\n",
       "      <td>peugeot</td>\n",
       "      <td>no</td>\n",
       "    </tr>\n",
       "    <tr>\n",
       "      <th>7</th>\n",
       "      <td>0</td>\n",
       "      <td>sedan</td>\n",
       "      <td>1980</td>\n",
       "      <td>manual</td>\n",
       "      <td>50</td>\n",
       "      <td>other</td>\n",
       "      <td>40000</td>\n",
       "      <td>petrol</td>\n",
       "      <td>volkswagen</td>\n",
       "      <td>no</td>\n",
       "    </tr>\n",
       "    <tr>\n",
       "      <th>8</th>\n",
       "      <td>14500</td>\n",
       "      <td>bus</td>\n",
       "      <td>2014</td>\n",
       "      <td>manual</td>\n",
       "      <td>125</td>\n",
       "      <td>c_max</td>\n",
       "      <td>30000</td>\n",
       "      <td>petrol</td>\n",
       "      <td>ford</td>\n",
       "      <td>NaN</td>\n",
       "    </tr>\n",
       "    <tr>\n",
       "      <th>9</th>\n",
       "      <td>999</td>\n",
       "      <td>small</td>\n",
       "      <td>1998</td>\n",
       "      <td>manual</td>\n",
       "      <td>101</td>\n",
       "      <td>golf</td>\n",
       "      <td>150000</td>\n",
       "      <td>NaN</td>\n",
       "      <td>volkswagen</td>\n",
       "      <td>NaN</td>\n",
       "    </tr>\n",
       "    <tr>\n",
       "      <th>10</th>\n",
       "      <td>2000</td>\n",
       "      <td>sedan</td>\n",
       "      <td>2004</td>\n",
       "      <td>manual</td>\n",
       "      <td>105</td>\n",
       "      <td>3_reihe</td>\n",
       "      <td>150000</td>\n",
       "      <td>petrol</td>\n",
       "      <td>mazda</td>\n",
       "      <td>no</td>\n",
       "    </tr>\n",
       "    <tr>\n",
       "      <th>11</th>\n",
       "      <td>2799</td>\n",
       "      <td>wagon</td>\n",
       "      <td>2005</td>\n",
       "      <td>manual</td>\n",
       "      <td>140</td>\n",
       "      <td>passat</td>\n",
       "      <td>150000</td>\n",
       "      <td>gasoline</td>\n",
       "      <td>volkswagen</td>\n",
       "      <td>yes</td>\n",
       "    </tr>\n",
       "    <tr>\n",
       "      <th>12</th>\n",
       "      <td>999</td>\n",
       "      <td>wagon</td>\n",
       "      <td>1995</td>\n",
       "      <td>manual</td>\n",
       "      <td>115</td>\n",
       "      <td>passat</td>\n",
       "      <td>150000</td>\n",
       "      <td>petrol</td>\n",
       "      <td>volkswagen</td>\n",
       "      <td>NaN</td>\n",
       "    </tr>\n",
       "    <tr>\n",
       "      <th>13</th>\n",
       "      <td>2500</td>\n",
       "      <td>wagon</td>\n",
       "      <td>2004</td>\n",
       "      <td>manual</td>\n",
       "      <td>131</td>\n",
       "      <td>passat</td>\n",
       "      <td>150000</td>\n",
       "      <td>NaN</td>\n",
       "      <td>volkswagen</td>\n",
       "      <td>no</td>\n",
       "    </tr>\n",
       "    <tr>\n",
       "      <th>14</th>\n",
       "      <td>17999</td>\n",
       "      <td>suv</td>\n",
       "      <td>2011</td>\n",
       "      <td>manual</td>\n",
       "      <td>190</td>\n",
       "      <td>navara</td>\n",
       "      <td>70000</td>\n",
       "      <td>gasoline</td>\n",
       "      <td>nissan</td>\n",
       "      <td>no</td>\n",
       "    </tr>\n",
       "    <tr>\n",
       "      <th>15</th>\n",
       "      <td>450</td>\n",
       "      <td>small</td>\n",
       "      <td>1910</td>\n",
       "      <td>NaN</td>\n",
       "      <td>0</td>\n",
       "      <td>ka</td>\n",
       "      <td>5000</td>\n",
       "      <td>petrol</td>\n",
       "      <td>ford</td>\n",
       "      <td>NaN</td>\n",
       "    </tr>\n",
       "    <tr>\n",
       "      <th>16</th>\n",
       "      <td>300</td>\n",
       "      <td>NaN</td>\n",
       "      <td>2016</td>\n",
       "      <td>NaN</td>\n",
       "      <td>60</td>\n",
       "      <td>polo</td>\n",
       "      <td>150000</td>\n",
       "      <td>petrol</td>\n",
       "      <td>volkswagen</td>\n",
       "      <td>NaN</td>\n",
       "    </tr>\n",
       "    <tr>\n",
       "      <th>17</th>\n",
       "      <td>1750</td>\n",
       "      <td>small</td>\n",
       "      <td>2004</td>\n",
       "      <td>auto</td>\n",
       "      <td>75</td>\n",
       "      <td>twingo</td>\n",
       "      <td>150000</td>\n",
       "      <td>petrol</td>\n",
       "      <td>renault</td>\n",
       "      <td>no</td>\n",
       "    </tr>\n",
       "    <tr>\n",
       "      <th>18</th>\n",
       "      <td>7550</td>\n",
       "      <td>bus</td>\n",
       "      <td>2007</td>\n",
       "      <td>manual</td>\n",
       "      <td>136</td>\n",
       "      <td>c_max</td>\n",
       "      <td>150000</td>\n",
       "      <td>gasoline</td>\n",
       "      <td>ford</td>\n",
       "      <td>no</td>\n",
       "    </tr>\n",
       "    <tr>\n",
       "      <th>19</th>\n",
       "      <td>1850</td>\n",
       "      <td>bus</td>\n",
       "      <td>2004</td>\n",
       "      <td>manual</td>\n",
       "      <td>102</td>\n",
       "      <td>a_klasse</td>\n",
       "      <td>150000</td>\n",
       "      <td>petrol</td>\n",
       "      <td>mercedes_benz</td>\n",
       "      <td>no</td>\n",
       "    </tr>\n",
       "  </tbody>\n",
       "</table>\n",
       "</div>"
      ],
      "text/plain": [
       "    Price  VehicleType  RegistrationYear Gearbox  Power     Model  Kilometer  \\\n",
       "0     480          NaN              1993  manual      0      golf     150000   \n",
       "1   18300        coupe              2011  manual    190       NaN     125000   \n",
       "2    9800          suv              2004    auto    163     grand     125000   \n",
       "3    1500        small              2001  manual     75      golf     150000   \n",
       "4    3600        small              2008  manual     69     fabia      90000   \n",
       "5     650        sedan              1995  manual    102       3er     150000   \n",
       "6    2200  convertible              2004  manual    109   2_reihe     150000   \n",
       "7       0        sedan              1980  manual     50     other      40000   \n",
       "8   14500          bus              2014  manual    125     c_max      30000   \n",
       "9     999        small              1998  manual    101      golf     150000   \n",
       "10   2000        sedan              2004  manual    105   3_reihe     150000   \n",
       "11   2799        wagon              2005  manual    140    passat     150000   \n",
       "12    999        wagon              1995  manual    115    passat     150000   \n",
       "13   2500        wagon              2004  manual    131    passat     150000   \n",
       "14  17999          suv              2011  manual    190    navara      70000   \n",
       "15    450        small              1910     NaN      0        ka       5000   \n",
       "16    300          NaN              2016     NaN     60      polo     150000   \n",
       "17   1750        small              2004    auto     75    twingo     150000   \n",
       "18   7550          bus              2007  manual    136     c_max     150000   \n",
       "19   1850          bus              2004  manual    102  a_klasse     150000   \n",
       "\n",
       "    FuelType          Brand Repaired  \n",
       "0     petrol     volkswagen      NaN  \n",
       "1   gasoline           audi      yes  \n",
       "2   gasoline           jeep      NaN  \n",
       "3     petrol     volkswagen       no  \n",
       "4   gasoline          skoda       no  \n",
       "5     petrol            bmw      yes  \n",
       "6     petrol        peugeot       no  \n",
       "7     petrol     volkswagen       no  \n",
       "8     petrol           ford      NaN  \n",
       "9        NaN     volkswagen      NaN  \n",
       "10    petrol          mazda       no  \n",
       "11  gasoline     volkswagen      yes  \n",
       "12    petrol     volkswagen      NaN  \n",
       "13       NaN     volkswagen       no  \n",
       "14  gasoline         nissan       no  \n",
       "15    petrol           ford      NaN  \n",
       "16    petrol     volkswagen      NaN  \n",
       "17    petrol        renault       no  \n",
       "18  gasoline           ford       no  \n",
       "19    petrol  mercedes_benz       no  "
      ]
     },
     "execution_count": 10,
     "metadata": {},
     "output_type": "execute_result"
    }
   ],
   "source": [
    "data.head(20)"
   ]
  },
  {
   "cell_type": "code",
   "execution_count": 11,
   "metadata": {},
   "outputs": [
    {
     "name": "stdout",
     "output_type": "stream",
     "text": [
      "<class 'pandas.core.frame.DataFrame'>\n",
      "RangeIndex: 354369 entries, 0 to 354368\n",
      "Data columns (total 10 columns):\n",
      " #   Column            Non-Null Count   Dtype \n",
      "---  ------            --------------   ----- \n",
      " 0   Price             354369 non-null  int64 \n",
      " 1   VehicleType       316879 non-null  object\n",
      " 2   RegistrationYear  354369 non-null  int64 \n",
      " 3   Gearbox           334536 non-null  object\n",
      " 4   Power             354369 non-null  int64 \n",
      " 5   Model             334664 non-null  object\n",
      " 6   Kilometer         354369 non-null  int64 \n",
      " 7   FuelType          321474 non-null  object\n",
      " 8   Brand             354369 non-null  object\n",
      " 9   Repaired          283215 non-null  object\n",
      "dtypes: int64(4), object(6)\n",
      "memory usage: 27.0+ MB\n"
     ]
    }
   ],
   "source": [
    "data.info()"
   ]
  },
  {
   "cell_type": "markdown",
   "metadata": {},
   "source": [
    "В таблице куча нанов и нулей. Придется удалить часть строк. Посмотрим сколько."
   ]
  },
  {
   "cell_type": "code",
   "execution_count": 12,
   "metadata": {},
   "outputs": [],
   "source": [
    "#count_zeros_price = (data['Price'] == 0).sum()\n",
    "#count_zeros_power = (data['Power'] == 0).sum()\n",
    "\n",
    "\n",
    "#print(f\"Количество нулей в столбце 'Price': {count_zeros_price}\")\n",
    "#print(f\"Количество нулей в столбце 'Power': {count_zeros_power}\")\n"
   ]
  },
  {
   "cell_type": "markdown",
   "metadata": {},
   "source": [
    "В общем, строки, где нули в этих столбцах я решил удалить."
   ]
  },
  {
   "cell_type": "code",
   "execution_count": 13,
   "metadata": {},
   "outputs": [],
   "source": [
    "data = data.loc[(data['Price'] >= 300)]"
   ]
  },
  {
   "cell_type": "code",
   "execution_count": 14,
   "metadata": {},
   "outputs": [],
   "source": [
    "data = data.loc[(data['Power'] >= 100) & (data['Power'] <= 1500)]"
   ]
  },
  {
   "cell_type": "code",
   "execution_count": 15,
   "metadata": {},
   "outputs": [
    {
     "name": "stdout",
     "output_type": "stream",
     "text": [
      "Количество уникальных значений в столбце 'RegistrationYear': 82\n"
     ]
    }
   ],
   "source": [
    "unique_registration_years_count = data['RegistrationYear'].nunique()\n",
    "print(f\"Количество уникальных значений в столбце 'RegistrationYear': {unique_registration_years_count}\")"
   ]
  },
  {
   "cell_type": "markdown",
   "metadata": {},
   "source": [
    "111 уникальных значения года регистрации.. Начина с 1000, заканчивай 9999. Явные выбросы. Оставим вменяемый срез. С 70 до 24 года. Будем руководствоваться в данном случае здравым смыслом."
   ]
  },
  {
   "cell_type": "code",
   "execution_count": 16,
   "metadata": {},
   "outputs": [],
   "source": [
    "data = data.loc[(data['RegistrationYear'] <= 2016) & (data['RegistrationYear'] >= 1970)]"
   ]
  },
  {
   "cell_type": "markdown",
   "metadata": {},
   "source": [
    "Посмотрим на пропуски "
   ]
  },
  {
   "cell_type": "code",
   "execution_count": 17,
   "metadata": {
    "scrolled": true
   },
   "outputs": [
    {
     "name": "stdout",
     "output_type": "stream",
     "text": [
      "Количество пропущенных значений в столбце 'VehicleType': 5247\n",
      "Количество пропущенных значений в столбце 'Model': 6365\n",
      "Количество пропущенных значений в столбце 'Brand': 0\n",
      "Количество пропущенных значений в столбце 'Repaired': 23593\n",
      "Количество пропущенных значений в столбце 'FuelType': 8194\n",
      "Количество пропущенных значений в столбце 'Gearbox': 2225\n"
     ]
    }
   ],
   "source": [
    "nan_count_vehicle_type = data['VehicleType'].isnull().sum()\n",
    "nan_count_model = data['Model'].isnull().sum()\n",
    "nan_count_brand = data['Brand'].isnull().sum()\n",
    "nan_count_repaired = data['Repaired'].isnull().sum()\n",
    "nan_count_fuel = data['FuelType'].isnull().sum()\n",
    "nan_count_gearbox = data['Gearbox'].isnull().sum()\n",
    "\n",
    "print(f\"Количество пропущенных значений в столбце 'VehicleType': {nan_count_vehicle_type}\")\n",
    "print(f\"Количество пропущенных значений в столбце 'Model': {nan_count_model}\")\n",
    "print(f\"Количество пропущенных значений в столбце 'Brand': {nan_count_brand}\")\n",
    "print(f\"Количество пропущенных значений в столбце 'Repaired': {nan_count_repaired}\")\n",
    "print(f\"Количество пропущенных значений в столбце 'FuelType': {nan_count_fuel}\")\n",
    "print(f\"Количество пропущенных значений в столбце 'Gearbox': {nan_count_gearbox}\")"
   ]
  },
  {
   "cell_type": "code",
   "execution_count": 18,
   "metadata": {},
   "outputs": [
    {
     "name": "stdout",
     "output_type": "stream",
     "text": [
      "Уникальные значения в столбце 'Repaired':  ['yes' nan 'no']\n"
     ]
    }
   ],
   "source": [
    "nique_repaired_values = data['Repaired'].unique()\n",
    "print(\"Уникальные значения в столбце 'Repaired': \", nique_repaired_values)"
   ]
  },
  {
   "cell_type": "markdown",
   "metadata": {},
   "source": [
    "Тип кузова и модель - пропуски придется удалить. Думаю это важно. Если машину не ремонтирвали, скорее всего ес могли не указать. Укажем no."
   ]
  },
  {
   "cell_type": "code",
   "execution_count": 19,
   "metadata": {},
   "outputs": [],
   "source": [
    "#data.dropna(subset=['VehicleType', 'Model', 'FuelType', 'Gearbox'], inplace=True)\n",
    "#data['Repaired'].fillna('unknown', inplace=True)"
   ]
  },
  {
   "cell_type": "code",
   "execution_count": 20,
   "metadata": {},
   "outputs": [],
   "source": [
    "columns_to_fill = ['VehicleType', 'Model', 'FuelType', 'Gearbox', 'Repaired']\n",
    "\n",
    "for column in columns_to_fill:\n",
    "    data[column].fillna('unknown', inplace=True)"
   ]
  },
  {
   "cell_type": "code",
   "execution_count": 21,
   "metadata": {},
   "outputs": [
    {
     "data": {
      "text/html": [
       "<div>\n",
       "<style scoped>\n",
       "    .dataframe tbody tr th:only-of-type {\n",
       "        vertical-align: middle;\n",
       "    }\n",
       "\n",
       "    .dataframe tbody tr th {\n",
       "        vertical-align: top;\n",
       "    }\n",
       "\n",
       "    .dataframe thead th {\n",
       "        text-align: right;\n",
       "    }\n",
       "</style>\n",
       "<table border=\"1\" class=\"dataframe\">\n",
       "  <thead>\n",
       "    <tr style=\"text-align: right;\">\n",
       "      <th></th>\n",
       "      <th>Price</th>\n",
       "      <th>RegistrationYear</th>\n",
       "      <th>Power</th>\n",
       "      <th>Kilometer</th>\n",
       "    </tr>\n",
       "  </thead>\n",
       "  <tbody>\n",
       "    <tr>\n",
       "      <th>count</th>\n",
       "      <td>188003.000000</td>\n",
       "      <td>188003.000000</td>\n",
       "      <td>188003.000000</td>\n",
       "      <td>188003.000000</td>\n",
       "    </tr>\n",
       "    <tr>\n",
       "      <th>mean</th>\n",
       "      <td>6173.017447</td>\n",
       "      <td>2003.591092</td>\n",
       "      <td>149.360244</td>\n",
       "      <td>131701.967522</td>\n",
       "    </tr>\n",
       "    <tr>\n",
       "      <th>std</th>\n",
       "      <td>4944.924968</td>\n",
       "      <td>5.755087</td>\n",
       "      <td>53.485846</td>\n",
       "      <td>34140.312543</td>\n",
       "    </tr>\n",
       "    <tr>\n",
       "      <th>min</th>\n",
       "      <td>300.000000</td>\n",
       "      <td>1970.000000</td>\n",
       "      <td>100.000000</td>\n",
       "      <td>5000.000000</td>\n",
       "    </tr>\n",
       "    <tr>\n",
       "      <th>25%</th>\n",
       "      <td>2180.000000</td>\n",
       "      <td>2000.000000</td>\n",
       "      <td>116.000000</td>\n",
       "      <td>125000.000000</td>\n",
       "    </tr>\n",
       "    <tr>\n",
       "      <th>50%</th>\n",
       "      <td>4699.000000</td>\n",
       "      <td>2004.000000</td>\n",
       "      <td>140.000000</td>\n",
       "      <td>150000.000000</td>\n",
       "    </tr>\n",
       "    <tr>\n",
       "      <th>75%</th>\n",
       "      <td>8999.000000</td>\n",
       "      <td>2008.000000</td>\n",
       "      <td>170.000000</td>\n",
       "      <td>150000.000000</td>\n",
       "    </tr>\n",
       "    <tr>\n",
       "      <th>max</th>\n",
       "      <td>20000.000000</td>\n",
       "      <td>2016.000000</td>\n",
       "      <td>1500.000000</td>\n",
       "      <td>150000.000000</td>\n",
       "    </tr>\n",
       "  </tbody>\n",
       "</table>\n",
       "</div>"
      ],
      "text/plain": [
       "               Price  RegistrationYear          Power      Kilometer\n",
       "count  188003.000000     188003.000000  188003.000000  188003.000000\n",
       "mean     6173.017447       2003.591092     149.360244  131701.967522\n",
       "std      4944.924968          5.755087      53.485846   34140.312543\n",
       "min       300.000000       1970.000000     100.000000    5000.000000\n",
       "25%      2180.000000       2000.000000     116.000000  125000.000000\n",
       "50%      4699.000000       2004.000000     140.000000  150000.000000\n",
       "75%      8999.000000       2008.000000     170.000000  150000.000000\n",
       "max     20000.000000       2016.000000    1500.000000  150000.000000"
      ]
     },
     "execution_count": 21,
     "metadata": {},
     "output_type": "execute_result"
    }
   ],
   "source": [
    "data.describe()"
   ]
  },
  {
   "cell_type": "code",
   "execution_count": 22,
   "metadata": {},
   "outputs": [
    {
     "name": "stdout",
     "output_type": "stream",
     "text": [
      "<class 'pandas.core.frame.DataFrame'>\n",
      "Int64Index: 188003 entries, 1 to 354368\n",
      "Data columns (total 10 columns):\n",
      " #   Column            Non-Null Count   Dtype \n",
      "---  ------            --------------   ----- \n",
      " 0   Price             188003 non-null  int64 \n",
      " 1   VehicleType       188003 non-null  object\n",
      " 2   RegistrationYear  188003 non-null  int64 \n",
      " 3   Gearbox           188003 non-null  object\n",
      " 4   Power             188003 non-null  int64 \n",
      " 5   Model             188003 non-null  object\n",
      " 6   Kilometer         188003 non-null  int64 \n",
      " 7   FuelType          188003 non-null  object\n",
      " 8   Brand             188003 non-null  object\n",
      " 9   Repaired          188003 non-null  object\n",
      "dtypes: int64(4), object(6)\n",
      "memory usage: 15.8+ MB\n"
     ]
    },
    {
     "data": {
      "text/html": [
       "<div>\n",
       "<style scoped>\n",
       "    .dataframe tbody tr th:only-of-type {\n",
       "        vertical-align: middle;\n",
       "    }\n",
       "\n",
       "    .dataframe tbody tr th {\n",
       "        vertical-align: top;\n",
       "    }\n",
       "\n",
       "    .dataframe thead th {\n",
       "        text-align: right;\n",
       "    }\n",
       "</style>\n",
       "<table border=\"1\" class=\"dataframe\">\n",
       "  <thead>\n",
       "    <tr style=\"text-align: right;\">\n",
       "      <th></th>\n",
       "      <th>Price</th>\n",
       "      <th>VehicleType</th>\n",
       "      <th>RegistrationYear</th>\n",
       "      <th>Gearbox</th>\n",
       "      <th>Power</th>\n",
       "      <th>Model</th>\n",
       "      <th>Kilometer</th>\n",
       "      <th>FuelType</th>\n",
       "      <th>Brand</th>\n",
       "      <th>Repaired</th>\n",
       "    </tr>\n",
       "  </thead>\n",
       "  <tbody>\n",
       "    <tr>\n",
       "      <th>1</th>\n",
       "      <td>18300</td>\n",
       "      <td>coupe</td>\n",
       "      <td>2011</td>\n",
       "      <td>manual</td>\n",
       "      <td>190</td>\n",
       "      <td>unknown</td>\n",
       "      <td>125000</td>\n",
       "      <td>gasoline</td>\n",
       "      <td>audi</td>\n",
       "      <td>yes</td>\n",
       "    </tr>\n",
       "    <tr>\n",
       "      <th>2</th>\n",
       "      <td>9800</td>\n",
       "      <td>suv</td>\n",
       "      <td>2004</td>\n",
       "      <td>auto</td>\n",
       "      <td>163</td>\n",
       "      <td>grand</td>\n",
       "      <td>125000</td>\n",
       "      <td>gasoline</td>\n",
       "      <td>jeep</td>\n",
       "      <td>unknown</td>\n",
       "    </tr>\n",
       "    <tr>\n",
       "      <th>5</th>\n",
       "      <td>650</td>\n",
       "      <td>sedan</td>\n",
       "      <td>1995</td>\n",
       "      <td>manual</td>\n",
       "      <td>102</td>\n",
       "      <td>3er</td>\n",
       "      <td>150000</td>\n",
       "      <td>petrol</td>\n",
       "      <td>bmw</td>\n",
       "      <td>yes</td>\n",
       "    </tr>\n",
       "    <tr>\n",
       "      <th>6</th>\n",
       "      <td>2200</td>\n",
       "      <td>convertible</td>\n",
       "      <td>2004</td>\n",
       "      <td>manual</td>\n",
       "      <td>109</td>\n",
       "      <td>2_reihe</td>\n",
       "      <td>150000</td>\n",
       "      <td>petrol</td>\n",
       "      <td>peugeot</td>\n",
       "      <td>no</td>\n",
       "    </tr>\n",
       "    <tr>\n",
       "      <th>8</th>\n",
       "      <td>14500</td>\n",
       "      <td>bus</td>\n",
       "      <td>2014</td>\n",
       "      <td>manual</td>\n",
       "      <td>125</td>\n",
       "      <td>c_max</td>\n",
       "      <td>30000</td>\n",
       "      <td>petrol</td>\n",
       "      <td>ford</td>\n",
       "      <td>unknown</td>\n",
       "    </tr>\n",
       "    <tr>\n",
       "      <th>9</th>\n",
       "      <td>999</td>\n",
       "      <td>small</td>\n",
       "      <td>1998</td>\n",
       "      <td>manual</td>\n",
       "      <td>101</td>\n",
       "      <td>golf</td>\n",
       "      <td>150000</td>\n",
       "      <td>unknown</td>\n",
       "      <td>volkswagen</td>\n",
       "      <td>unknown</td>\n",
       "    </tr>\n",
       "    <tr>\n",
       "      <th>10</th>\n",
       "      <td>2000</td>\n",
       "      <td>sedan</td>\n",
       "      <td>2004</td>\n",
       "      <td>manual</td>\n",
       "      <td>105</td>\n",
       "      <td>3_reihe</td>\n",
       "      <td>150000</td>\n",
       "      <td>petrol</td>\n",
       "      <td>mazda</td>\n",
       "      <td>no</td>\n",
       "    </tr>\n",
       "    <tr>\n",
       "      <th>11</th>\n",
       "      <td>2799</td>\n",
       "      <td>wagon</td>\n",
       "      <td>2005</td>\n",
       "      <td>manual</td>\n",
       "      <td>140</td>\n",
       "      <td>passat</td>\n",
       "      <td>150000</td>\n",
       "      <td>gasoline</td>\n",
       "      <td>volkswagen</td>\n",
       "      <td>yes</td>\n",
       "    </tr>\n",
       "    <tr>\n",
       "      <th>12</th>\n",
       "      <td>999</td>\n",
       "      <td>wagon</td>\n",
       "      <td>1995</td>\n",
       "      <td>manual</td>\n",
       "      <td>115</td>\n",
       "      <td>passat</td>\n",
       "      <td>150000</td>\n",
       "      <td>petrol</td>\n",
       "      <td>volkswagen</td>\n",
       "      <td>unknown</td>\n",
       "    </tr>\n",
       "    <tr>\n",
       "      <th>13</th>\n",
       "      <td>2500</td>\n",
       "      <td>wagon</td>\n",
       "      <td>2004</td>\n",
       "      <td>manual</td>\n",
       "      <td>131</td>\n",
       "      <td>passat</td>\n",
       "      <td>150000</td>\n",
       "      <td>unknown</td>\n",
       "      <td>volkswagen</td>\n",
       "      <td>no</td>\n",
       "    </tr>\n",
       "  </tbody>\n",
       "</table>\n",
       "</div>"
      ],
      "text/plain": [
       "    Price  VehicleType  RegistrationYear Gearbox  Power    Model  Kilometer  \\\n",
       "1   18300        coupe              2011  manual    190  unknown     125000   \n",
       "2    9800          suv              2004    auto    163    grand     125000   \n",
       "5     650        sedan              1995  manual    102      3er     150000   \n",
       "6    2200  convertible              2004  manual    109  2_reihe     150000   \n",
       "8   14500          bus              2014  manual    125    c_max      30000   \n",
       "9     999        small              1998  manual    101     golf     150000   \n",
       "10   2000        sedan              2004  manual    105  3_reihe     150000   \n",
       "11   2799        wagon              2005  manual    140   passat     150000   \n",
       "12    999        wagon              1995  manual    115   passat     150000   \n",
       "13   2500        wagon              2004  manual    131   passat     150000   \n",
       "\n",
       "    FuelType       Brand Repaired  \n",
       "1   gasoline        audi      yes  \n",
       "2   gasoline        jeep  unknown  \n",
       "5     petrol         bmw      yes  \n",
       "6     petrol     peugeot       no  \n",
       "8     petrol        ford  unknown  \n",
       "9    unknown  volkswagen  unknown  \n",
       "10    petrol       mazda       no  \n",
       "11  gasoline  volkswagen      yes  \n",
       "12    petrol  volkswagen  unknown  \n",
       "13   unknown  volkswagen       no  "
      ]
     },
     "execution_count": 22,
     "metadata": {},
     "output_type": "execute_result"
    }
   ],
   "source": [
    "data.info() \n",
    "data.head(10)\n"
   ]
  },
  {
   "cell_type": "markdown",
   "metadata": {},
   "source": [
    "Почистили данные, приступим к обучению моделей."
   ]
  },
  {
   "cell_type": "code",
   "execution_count": 23,
   "metadata": {},
   "outputs": [
    {
     "name": "stdout",
     "output_type": "stream",
     "text": [
      "interval columns not set, guessing: ['Price', 'RegistrationYear', 'Power', 'Kilometer']\n"
     ]
    },
    {
     "data": {
      "image/png": "[encoded data removed]",
      "text/plain": [
       "<Figure size 720x576 with 2 Axes>"
      ]
     },
     "metadata": {
      "needs_background": "light"
     },
     "output_type": "display_data"
    }
   ],
   "source": [
    "correlation_matrix = data.phik_matrix()\n",
    "plt.figure(figsize=(10, 8))\n",
    "sns.heatmap(correlation_matrix, annot=True, cmap='coolwarm', fmt=\".2f\")\n",
    "plt.title('Categorical Correlation Matrix')\n",
    "plt.show()"
   ]
  },
  {
   "cell_type": "markdown",
   "metadata": {},
   "source": [
    "Видим, что model и brand, коэфициент корреляции 1. поэтому удалим один из столбцов, чтобы небыло мультиколлениарности. Удалим бренд."
   ]
  },
  {
   "cell_type": "code",
   "execution_count": 24,
   "metadata": {},
   "outputs": [
    {
     "data": {
      "image/png": "[encoded data removed]",
      "text/plain": [
       "<Figure size 720x576 with 2 Axes>"
      ]
     },
     "metadata": {
      "needs_background": "light"
     },
     "output_type": "display_data"
    }
   ],
   "source": [
    "correlation_matrix = data.corr()\n",
    "plt.figure(figsize=(10, 8))\n",
    "sns.heatmap(correlation_matrix, annot=True, cmap='coolwarm', fmt=\".2f\")\n",
    "plt.title('Correlation Matrix')\n",
    "plt.show()\n"
   ]
  },
  {
   "cell_type": "code",
   "execution_count": 25,
   "metadata": {},
   "outputs": [],
   "source": [
    "data.drop('Brand', axis=1, inplace=True)"
   ]
  },
  {
   "cell_type": "code",
   "execution_count": 26,
   "metadata": {},
   "outputs": [
    {
     "name": "stdout",
     "output_type": "stream",
     "text": [
      "Уникальные значения в столбце VehicleType:\n",
      "['coupe' 'suv' 'sedan' 'convertible' 'bus' 'small' 'wagon' 'other'\n",
      " 'unknown']\n",
      "Уникальные значения в столбце Gearbox:\n",
      "['manual' 'auto' 'unknown']\n",
      "Уникальные значения в столбце Model:\n",
      "['unknown' 'grand' '3er' '2_reihe' 'c_max' 'golf' '3_reihe' 'passat'\n",
      " 'navara' 'a_klasse' 'scirocco' '5er' 'other' 'e_klasse' '1er' 'b_klasse'\n",
      " 'a8' 'jetta' 'c_klasse' 'sprinter' 'forester' 'xc_reihe' 'scenic' 'focus'\n",
      " 'a4' 'escort' 'tt' 'astra' 'a6' 'transporter' 'omega' 'slk' '7er' '80'\n",
      " 'civic' '147' 'z_reihe' 'sorento' 'mustang' 'eos' 'vito' 'fabia' 'touran'\n",
      " 'insignia' 'almera' 'megane' 'a3' 'mondeo' 'impreza' 'a1' 'vectra' 'clio'\n",
      " 'tiguan' '6_reihe' 'i_reihe' '5_reihe' 'yeti' 'octavia' 'zafira'\n",
      " 'rx_reihe' '6er' 'beetle' 'touareg' 'ibiza' 'spider' 's_max' 'galaxy'\n",
      " 'c3' 'viano' 's_klasse' 'sharan' 'avensis' 'sl' 'santa' 'leon' 'cooper'\n",
      " '4_reihe' 'a5' 'sportage' 'laguna' 'ptcruiser' 'clk' 'primera' 'espace'\n",
      " 'exeo' 'polo' '159' 'transit' 'juke' 'x_reihe' 'c4' 'v40' 'accord'\n",
      " 'corolla' 'phaeton' 'verso' 'rav' 'caddy' 'qashqai' 'boxster' 'superb'\n",
      " 'stilo' 'alhambra' 'one' 'fiesta' 'galant' '90' 'sirion' 'signum'\n",
      " 'crossfire' 'duster' 'v50' 'mx_reihe' 'c_reihe' 'v_klasse' 'm_klasse'\n",
      " 'c5' 'cc' 'carnival' '911' 'bora' 'modus' 'meriva' 'cl' '156' '300c'\n",
      " '100' 'cr_reihe' 'kuga' 'x_type' 'ducato' 's_type' 'x_trail' 'toledo'\n",
      " 'altea' 'voyager' 'v70' 'bravo' 'ceed' 'tucson' 'cayenne' 'corsa'\n",
      " 'wrangler' 'lybra' 'captiva' 'fusion' 'discovery' 'freelander' 'tigra'\n",
      " 'q7' 'note' 'antara' '900' 'cherokee' 'clubman' 'a2' 'defender' 'fortwo'\n",
      " 'combo' 'lancer' 'cx_reihe' 'legacy' 'roomster' 'berlingo' 'colt' 'auris'\n",
      " 'c2' '500' 'swift' 's60' 'm_reihe' 'pajero' 'nubira' 'vivaro' 'kadett'\n",
      " 'lupo' 'g_klasse' 'twingo' 'carisma' 'lodgy' 'range_rover' '850' 'rio'\n",
      " 'q3' 'cordoba' 'matiz' 'serie_2' 'punto' 'calibra' 'glk' 'croma'\n",
      " 'outlander' 'doblo' 'ypsilon' '9000' 'v60' 'forfour' 'yaris' '200' '145'\n",
      " 'kangoo' 'ka' '1_reihe' 'logan' 'range_rover_sport' 'b_max' 'micra'\n",
      " 'aveo' 'getz' 'panda' 'rangerover' 'q5' 'range_rover_evoque' 'materia'\n",
      " 'terios' 'jazz' 'gl' 'roadster' 'arosa' 'delta' 'i3' 'kaefer' 'lanos'\n",
      " 'amarok' 'kappa' 'r19' 'picanto' 'up' 'cuore' 'agila' 'kalos' 'charade'\n",
      " 'fox' 'justy' 'sandero']\n",
      "Уникальные значения в столбце FuelType:\n",
      "['gasoline' 'petrol' 'unknown' 'lpg' 'other' 'hybrid' 'cng' 'electric']\n",
      "Уникальные значения в столбце Repaired:\n",
      "['yes' 'unknown' 'no']\n"
     ]
    }
   ],
   "source": [
    "for column in ['VehicleType', 'Gearbox', 'Model', 'FuelType', 'Repaired']:\n",
    "    print(f\"Уникальные значения в столбце {column}:\")\n",
    "    print(data[column].unique())"
   ]
  },
  {
   "cell_type": "code",
   "execution_count": 27,
   "metadata": {},
   "outputs": [],
   "source": [
    "data['FuelType'] = data['FuelType'].replace('gasoline', 'petrol')"
   ]
  },
  {
   "cell_type": "markdown",
   "metadata": {},
   "source": [
    "## Обучение моделей"
   ]
  },
  {
   "cell_type": "code",
   "execution_count": 28,
   "metadata": {},
   "outputs": [],
   "source": [
    "data['Kilometer'] = data['Kilometer'].astype(str)"
   ]
  },
  {
   "cell_type": "code",
   "execution_count": 29,
   "metadata": {},
   "outputs": [
    {
     "name": "stdout",
     "output_type": "stream",
     "text": [
      "<class 'pandas.core.frame.DataFrame'>\n",
      "Int64Index: 188003 entries, 1 to 354368\n",
      "Data columns (total 9 columns):\n",
      " #   Column            Non-Null Count   Dtype \n",
      "---  ------            --------------   ----- \n",
      " 0   Price             188003 non-null  int64 \n",
      " 1   VehicleType       188003 non-null  object\n",
      " 2   RegistrationYear  188003 non-null  int64 \n",
      " 3   Gearbox           188003 non-null  object\n",
      " 4   Power             188003 non-null  int64 \n",
      " 5   Model             188003 non-null  object\n",
      " 6   Kilometer         188003 non-null  object\n",
      " 7   FuelType          188003 non-null  object\n",
      " 8   Repaired          188003 non-null  object\n",
      "dtypes: int64(3), object(6)\n",
      "memory usage: 14.3+ MB\n"
     ]
    }
   ],
   "source": [
    "data.info()"
   ]
  },
  {
   "cell_type": "code",
   "execution_count": 32,
   "metadata": {},
   "outputs": [
    {
     "name": "stderr",
     "output_type": "stream",
     "text": [
      "/opt/conda/lib/python3.9/site-packages/sklearn/preprocessing/_encoders.py:188: UserWarning: Found unknown categories in columns [2] during transform. These unknown categories will be encoded as all zeros\n",
      "  warnings.warn(\n",
      "/opt/conda/lib/python3.9/site-packages/sklearn/preprocessing/_encoders.py:188: UserWarning: Found unknown categories in columns [2] during transform. These unknown categories will be encoded as all zeros\n",
      "  warnings.warn(\n"
     ]
    }
   ],
   "source": [
    "RANDOM_STATE = 42\n",
    "TEST_SIZE = 0.2\n",
    "VALID_SIZE = 0.25  # 0.25 x 0.8 = 0.2\n",
    "\n",
    "X = data.drop('Price', axis=1)\n",
    "y = data['Price']\n",
    "\n",
    "# Разделение на тренировочную и временную выборки\n",
    "X_train, X_temp, y_train, y_temp = train_test_split(X, y, test_size=TEST_SIZE, random_state=RANDOM_STATE)\n",
    "\n",
    "# Разделение временной выборки на валидационную и тестовую\n",
    "X_valid, X_test, y_valid, y_test = train_test_split(X_temp, y_temp, test_size=VALID_SIZE, random_state=RANDOM_STATE)\n",
    "\n",
    "# Создание пайплайнов для обработки данных\n",
    "ohe_columns = ['VehicleType', 'Gearbox', 'Model', 'FuelType', 'Repaired', 'Kilometer']\n",
    "num_columns = ['RegistrationYear', 'Power']\n",
    "\n",
    "ohe_pipe = Pipeline([\n",
    "    ('ohe', OneHotEncoder(drop='first', handle_unknown='ignore', sparse=False))\n",
    "])\n",
    "\n",
    "num_pipe = Pipeline([\n",
    "    ('scaler', StandardScaler())\n",
    "])\n",
    "\n",
    "# Создание объекта типа ColumnTransformer, для соединения пайплайнов\n",
    "data_preprocessor = ColumnTransformer(\n",
    "    transformers=[\n",
    "        ('ohe', ohe_pipe, ohe_columns),\n",
    "        ('num', num_pipe, num_columns)\n",
    "    ],\n",
    "    remainder='passthrough'\n",
    ")\n",
    "\n",
    "# Тренировка и преобразование тренировочных данных\n",
    "X_train_processed = data_preprocessor.fit_transform(X_train)\n",
    "\n",
    "# Преобразование валидационных и тестовых данных\n",
    "X_valid_processed = data_preprocessor.transform(X_valid)\n",
    "X_test_processed = data_preprocessor.transform(X_test)\n",
    "\n",
    "# Создание и обучение регрессора\n",
    "#regressor = LinearRegression().fit(X_train_processed, y_train)\n",
    "\n",
    "# Предсказание на валидационной выборке\n",
    "#y_pred_valid = regressor.predict(X_valid_processed)\n",
    "\n",
    "# Предсказание на тестовой выборке\n",
    "#y_pred_test = regressor.predict(X_test_processed)\n",
    "\n",
    "# Расчёт и вывод ошибки модели\n",
    "#rmse_valid = mean_squared_error(y_valid, y_pred_valid, squared=False)\n",
    "#rmse_test = mean_squared_error(y_test, y_pred_test, squared=False)\n",
    "\n",
    "#print(f'RMSE на валидационной выборке: {rmse_valid}')\n",
    "#print(f'RMSE на тестовой выборке: {rmse_test}')"
   ]
  },
  {
   "cell_type": "markdown",
   "metadata": {},
   "source": [
    "Линейная регрессия"
   ]
  },
  {
   "cell_type": "code",
   "execution_count": 33,
   "metadata": {},
   "outputs": [
    {
     "name": "stdout",
     "output_type": "stream",
     "text": [
      "RMSE на валидационной выборке: 2807.2426964579768\n",
      "CPU times: user 10.7 s, sys: 5.84 s, total: 16.5 s\n",
      "Wall time: 16.5 s\n"
     ]
    }
   ],
   "source": [
    "%%time\n",
    "\n",
    "regressor = LinearRegression().fit(X_train_processed, y_train)\n",
    "y_pred_valid = regressor.predict(X_valid_processed)\n",
    "rmse_valid = mean_squared_error(y_valid, y_pred_valid, squared=False)\n",
    "print(f'RMSE на валидационной выборке: {rmse_valid}')"
   ]
  },
  {
   "cell_type": "code",
   "execution_count": 34,
   "metadata": {},
   "outputs": [
    {
     "name": "stdout",
     "output_type": "stream",
     "text": [
      "CPU times: user 21.1 ms, sys: 17.1 ms, total: 38.2 ms\n",
      "Wall time: 81.1 ms\n"
     ]
    }
   ],
   "source": [
    "%%time\n",
    "y_pred_test = regressor.predict(X_test_processed)"
   ]
  },
  {
   "cell_type": "code",
   "execution_count": 35,
   "metadata": {},
   "outputs": [
    {
     "name": "stdout",
     "output_type": "stream",
     "text": [
      "RMSE на тестовой выборке: 2770.2926081181477\n"
     ]
    }
   ],
   "source": [
    "rmse_test = mean_squared_error(y_test, y_pred_test, squared=False)\n",
    "print(f'RMSE на тестовой выборке: {rmse_test}')"
   ]
  },
  {
   "cell_type": "markdown",
   "metadata": {},
   "source": [
    "%%time\n",
    "model = CatBoostRegressor(iterations=1000, depth=6, learning_rate=0.1, loss_function='RMSE', logging_level='Silent')\n",
    "model.fit(X_train_processed, y_train)\n",
    "y_pred = model.predict(X_test_processed)\n",
    "rmse_catboost = mean_squared_error(y_test, y_pred, squared=False)\n",
    "print('RMSE для CatBoost =', rmse_catboost)"
   ]
  },
  {
   "cell_type": "markdown",
   "metadata": {},
   "source": [
    "Кэтбуст"
   ]
  },
  {
   "cell_type": "code",
   "execution_count": 41,
   "metadata": {},
   "outputs": [
    {
     "name": "stdout",
     "output_type": "stream",
     "text": [
      "RMSE для CatBoost на валидационной выборке = 1857.2640448836726\n",
      "CPU times: user 31.8 s, sys: 296 ms, total: 32.1 s\n",
      "Wall time: 34.8 s\n"
     ]
    }
   ],
   "source": [
    "%%time\n",
    "model = CatBoostRegressor(iterations=1000, depth=6, learning_rate=0.1, loss_function='RMSE', logging_level='Silent')\n",
    "model.fit(X_train_processed, y_train, eval_set=(X_valid_processed, y_valid))\n",
    "y_pred_valid = model.predict(X_valid_processed)\n",
    "rmse_catboost = mean_squared_error(y_valid, y_pred_valid , squared=False)\n",
    "print('RMSE для CatBoost на валидационной выборке =', rmse_catboost)"
   ]
  },
  {
   "cell_type": "code",
   "execution_count": 42,
   "metadata": {},
   "outputs": [
    {
     "name": "stdout",
     "output_type": "stream",
     "text": [
      "CPU times: user 638 ms, sys: 3.39 ms, total: 642 ms\n",
      "Wall time: 646 ms\n"
     ]
    }
   ],
   "source": [
    "%%time\n",
    "y_pred = model.predict(X_test_processed)"
   ]
  },
  {
   "cell_type": "code",
   "execution_count": 43,
   "metadata": {},
   "outputs": [
    {
     "name": "stdout",
     "output_type": "stream",
     "text": [
      "RMSE для CatBoost = 1808.4030192662135\n"
     ]
    }
   ],
   "source": [
    "rmse_catboost = mean_squared_error(y_test, y_pred, squared=False)\n",
    "print('RMSE для CatBoost =', rmse_catboost)"
   ]
  },
  {
   "cell_type": "markdown",
   "metadata": {},
   "source": [
    "RandomForestRegressor"
   ]
  },
  {
   "cell_type": "code",
   "execution_count": 46,
   "metadata": {},
   "outputs": [
    {
     "name": "stdout",
     "output_type": "stream",
     "text": [
      "MSE на валидационных данных: 3298547.7771726325\n",
      "CPU times: user 10min 18s, sys: 1.21 s, total: 10min 19s\n",
      "Wall time: 10min 19s\n"
     ]
    }
   ],
   "source": [
    "%%time\n",
    "rf = RandomForestRegressor(n_estimators=300, max_depth=None, min_samples_split=2, min_samples_leaf=2, random_state=RANDOM_STATE)\n",
    "rf.fit(X_train_processed, y_train)\n",
    "y_valid_pred = rf.predict(X_valid_processed)\n",
    "mse = mean_squared_error(y_valid, y_valid_pred)\n",
    "print(f'MSE на валидационных данных: {mse}')"
   ]
  },
  {
   "cell_type": "markdown",
   "metadata": {},
   "source": [
    "<div class=\"alert alert-warning\">\n",
    "<h2> Комментарий ревьюера  #3 <a class=\"tocSkip\"> </h2>\n",
    "    \n",
    "<b>Некоторые замечания и рекомендации💡:</b> \n",
    "\n",
    "Все ок. Просто забыли взять корень от результата. Выводишь MSE, нужно RMSE.\n",
    "       \n",
    "</div>\n",
    "\n",
    "\n"
   ]
  },
  {
   "cell_type": "code",
   "execution_count": 47,
   "metadata": {},
   "outputs": [
    {
     "name": "stdout",
     "output_type": "stream",
     "text": [
      "CPU times: user 1.07 s, sys: 3.97 ms, total: 1.08 s\n",
      "Wall time: 1.08 s\n"
     ]
    }
   ],
   "source": [
    "%%time\n",
    "y_pred = rf.predict(X_test_processed)"
   ]
  },
  {
   "cell_type": "code",
   "execution_count": 48,
   "metadata": {},
   "outputs": [
    {
     "name": "stdout",
     "output_type": "stream",
     "text": [
      "RMSE: 1771.8759393343341\n"
     ]
    }
   ],
   "source": [
    "rmse = np.sqrt(mean_squared_error(y_test, y_pred))\n",
    "print(f'RMSE: {rmse}')"
   ]
  },
  {
   "cell_type": "code",
   "execution_count": 49,
   "metadata": {},
   "outputs": [],
   "source": [
    "#%%time\n",
    "\n",
    "# Создаем датасеты для обучения и тестирования\n",
    "train_data = lgb.Dataset(X_train_processed, label=y_train)\n",
    "test_data = lgb.Dataset(X_test_processed, label=y_test)\n",
    "\n",
    "# Параметры модели LightGBM\n",
    "#params = {\n",
    "#    'objective': 'regression',\n",
    "#    'metric': 'rmse',\n",
    "#    'num_leaves': 31,\n",
    "#    'learning_rate': 0.1,\n",
    "#    'feature_fraction': 0.9\n",
    "#}\n",
    "\n",
    "# Обучение модели LightGBM\n",
    "#num_round = 100\n",
    "#bst = lgb.train(params, train_data, num_boost_round=num_round, valid_sets=[test_data], early_stopping_rounds=5)\n",
    "\n",
    "# Прогнозирование на тестовом наборе данных\n",
    "#y_pred = bst.predict(X_test_processed, num_iteration=bst.best_iteration)\n",
    "\n",
    "# Вычисление RMSE\n",
    "#rmse_lightgbm = mean_squared_error(y_test, y_pred, squared=False)\n",
    "#print('RMSE для LightGBM =', rmse_lightgbm)"
   ]
  },
  {
   "cell_type": "markdown",
   "metadata": {},
   "source": [
    "lgb"
   ]
  },
  {
   "cell_type": "code",
   "execution_count": 50,
   "metadata": {},
   "outputs": [
    {
     "name": "stderr",
     "output_type": "stream",
     "text": [
      "/opt/conda/lib/python3.9/site-packages/lightgbm/engine.py:181: UserWarning: 'early_stopping_rounds' argument is deprecated and will be removed in a future release of LightGBM. Pass 'early_stopping()' callback via 'callbacks' argument instead.\n",
      "  _log_warning(\"'early_stopping_rounds' argument is deprecated and will be removed in a future release of LightGBM. \"\n"
     ]
    },
    {
     "name": "stdout",
     "output_type": "stream",
     "text": [
      "[LightGBM] [Warning] Auto-choosing col-wise multi-threading, the overhead of testing was 0.184875 seconds.\n",
      "You can set `force_col_wise=true` to remove the overhead.\n",
      "[LightGBM] [Info] Total Bins 752\n",
      "[LightGBM] [Info] Number of data points in the train set: 150402, number of used features: 228\n",
      "[LightGBM] [Info] Start training from score 6163.481676\n",
      "[1]\tvalid_0's rmse: 4609.59\n",
      "Training until validation scores don't improve for 5 rounds\n",
      "[2]\tvalid_0's rmse: 4301.48\n",
      "[3]\tvalid_0's rmse: 4032.88\n",
      "[4]\tvalid_0's rmse: 3798.36\n",
      "[5]\tvalid_0's rmse: 3591.17\n",
      "[6]\tvalid_0's rmse: 3423.57\n",
      "[7]\tvalid_0's rmse: 3283.99\n",
      "[8]\tvalid_0's rmse: 3147.59\n",
      "[9]\tvalid_0's rmse: 3025.98\n",
      "[10]\tvalid_0's rmse: 2919.7\n",
      "[11]\tvalid_0's rmse: 2827.06\n",
      "[12]\tvalid_0's rmse: 2750.07\n",
      "[13]\tvalid_0's rmse: 2679.77\n",
      "[14]\tvalid_0's rmse: 2619.86\n",
      "[15]\tvalid_0's rmse: 2568.37\n",
      "[16]\tvalid_0's rmse: 2524.26\n",
      "[17]\tvalid_0's rmse: 2483\n",
      "[18]\tvalid_0's rmse: 2448.08\n",
      "[19]\tvalid_0's rmse: 2416.51\n",
      "[20]\tvalid_0's rmse: 2387.96\n",
      "[21]\tvalid_0's rmse: 2362.87\n",
      "[22]\tvalid_0's rmse: 2339.75\n",
      "[23]\tvalid_0's rmse: 2319.63\n",
      "[24]\tvalid_0's rmse: 2301.41\n",
      "[25]\tvalid_0's rmse: 2282.81\n",
      "[26]\tvalid_0's rmse: 2266.04\n",
      "[27]\tvalid_0's rmse: 2251.71\n",
      "[28]\tvalid_0's rmse: 2237.82\n",
      "[29]\tvalid_0's rmse: 2224.76\n",
      "[30]\tvalid_0's rmse: 2211.23\n",
      "[31]\tvalid_0's rmse: 2202.19\n",
      "[32]\tvalid_0's rmse: 2191.09\n",
      "[33]\tvalid_0's rmse: 2182.44\n",
      "[34]\tvalid_0's rmse: 2172.9\n",
      "[35]\tvalid_0's rmse: 2163.9\n",
      "[36]\tvalid_0's rmse: 2156.72\n",
      "[37]\tvalid_0's rmse: 2147.02\n",
      "[38]\tvalid_0's rmse: 2139.16\n",
      "[39]\tvalid_0's rmse: 2132.63\n",
      "[40]\tvalid_0's rmse: 2125.24\n",
      "[41]\tvalid_0's rmse: 2116.04\n",
      "[42]\tvalid_0's rmse: 2111.2\n",
      "[43]\tvalid_0's rmse: 2105.27\n",
      "[44]\tvalid_0's rmse: 2099.27\n",
      "[45]\tvalid_0's rmse: 2093.49\n",
      "[46]\tvalid_0's rmse: 2088.51\n",
      "[47]\tvalid_0's rmse: 2083.69\n",
      "[48]\tvalid_0's rmse: 2079.48\n",
      "[49]\tvalid_0's rmse: 2075.05\n",
      "[50]\tvalid_0's rmse: 2071.31\n",
      "[51]\tvalid_0's rmse: 2066.88\n",
      "[52]\tvalid_0's rmse: 2063.44\n",
      "[53]\tvalid_0's rmse: 2060.45\n",
      "[54]\tvalid_0's rmse: 2056.31\n",
      "[55]\tvalid_0's rmse: 2053.03\n",
      "[56]\tvalid_0's rmse: 2049.97\n",
      "[57]\tvalid_0's rmse: 2046.19\n",
      "[58]\tvalid_0's rmse: 2042.98\n",
      "[59]\tvalid_0's rmse: 2040.37\n",
      "[60]\tvalid_0's rmse: 2037.38\n",
      "[61]\tvalid_0's rmse: 2035.23\n",
      "[62]\tvalid_0's rmse: 2032.71\n",
      "[63]\tvalid_0's rmse: 2029.75\n",
      "[64]\tvalid_0's rmse: 2027.56\n",
      "[65]\tvalid_0's rmse: 2025.22\n",
      "[66]\tvalid_0's rmse: 2023.29\n",
      "[67]\tvalid_0's rmse: 2020.57\n",
      "[68]\tvalid_0's rmse: 2018.58\n",
      "[69]\tvalid_0's rmse: 2015.98\n",
      "[70]\tvalid_0's rmse: 2013.87\n",
      "[71]\tvalid_0's rmse: 2012.23\n",
      "[72]\tvalid_0's rmse: 2010.34\n",
      "[73]\tvalid_0's rmse: 2008.72\n",
      "[74]\tvalid_0's rmse: 2005.72\n",
      "[75]\tvalid_0's rmse: 2003.88\n",
      "[76]\tvalid_0's rmse: 2002.33\n",
      "[77]\tvalid_0's rmse: 2000.32\n",
      "[78]\tvalid_0's rmse: 1998.65\n",
      "[79]\tvalid_0's rmse: 1997.09\n",
      "[80]\tvalid_0's rmse: 1995.51\n",
      "[81]\tvalid_0's rmse: 1994.01\n",
      "[82]\tvalid_0's rmse: 1992.06\n",
      "[83]\tvalid_0's rmse: 1990.87\n",
      "[84]\tvalid_0's rmse: 1989.67\n",
      "[85]\tvalid_0's rmse: 1987.97\n",
      "[86]\tvalid_0's rmse: 1986.68\n",
      "[87]\tvalid_0's rmse: 1985.38\n",
      "[88]\tvalid_0's rmse: 1984.1\n",
      "[89]\tvalid_0's rmse: 1982.53\n",
      "[90]\tvalid_0's rmse: 1980.66\n",
      "[91]\tvalid_0's rmse: 1979.71\n",
      "[92]\tvalid_0's rmse: 1978.08\n",
      "[93]\tvalid_0's rmse: 1976.84\n",
      "[94]\tvalid_0's rmse: 1975.31\n",
      "[95]\tvalid_0's rmse: 1973.87\n",
      "[96]\tvalid_0's rmse: 1972.8\n",
      "[97]\tvalid_0's rmse: 1972.07\n",
      "[98]\tvalid_0's rmse: 1971.05\n",
      "[99]\tvalid_0's rmse: 1969.83\n",
      "[100]\tvalid_0's rmse: 1968.52\n",
      "Did not meet early stopping. Best iteration is:\n",
      "[100]\tvalid_0's rmse: 1968.52\n",
      "RMSE для LightGBM = 1968.515173561509\n",
      "CPU times: user 7.38 s, sys: 46.8 ms, total: 7.43 s\n",
      "Wall time: 7.45 s\n"
     ]
    }
   ],
   "source": [
    "%%time\n",
    "# Создаем датасеты для обучения и валидации\n",
    "train_data = lgb.Dataset(X_train_processed, label=y_train)\n",
    "valid_data = lgb.Dataset(X_valid_processed, label=y_valid)\n",
    "\n",
    "# Параметры модели LightGBM\n",
    "params = {\n",
    "    'objective': 'regression',\n",
    "    'metric': 'rmse',\n",
    "    'num_leaves': 31,\n",
    "    'learning_rate': 0.1,\n",
    "    'feature_fraction': 0.9\n",
    "}\n",
    "\n",
    "# Обучение модели LightGBM\n",
    "num_round = 100\n",
    "bst = lgb.train(params, train_data, num_boost_round=num_round, valid_sets=[valid_data], early_stopping_rounds=5)\n",
    "\n",
    "# Прогнозирование на валидационном наборе данных\n",
    "y_pred = bst.predict(X_valid_processed, num_iteration=bst.best_iteration)\n",
    "\n",
    "# Вычисление RMSE\n",
    "rmse_lightgbm = mean_squared_error(y_valid, y_pred, squared=False)\n",
    "print('RMSE для LightGBM =', rmse_lightgbm)"
   ]
  },
  {
   "cell_type": "code",
   "execution_count": 51,
   "metadata": {},
   "outputs": [
    {
     "name": "stdout",
     "output_type": "stream",
     "text": [
      "CPU times: user 136 ms, sys: 0 ns, total: 136 ms\n",
      "Wall time: 187 ms\n"
     ]
    }
   ],
   "source": [
    "%%time\n",
    "y_pred = bst.predict(X_test_processed, num_iteration=bst.best_iteration)"
   ]
  },
  {
   "cell_type": "code",
   "execution_count": 52,
   "metadata": {},
   "outputs": [
    {
     "name": "stdout",
     "output_type": "stream",
     "text": [
      "RMSE для LightGBM = 1906.5887728959551\n"
     ]
    }
   ],
   "source": [
    "rmse_lightgbm = mean_squared_error(y_test, y_pred, squared=False)\n",
    "print('RMSE для LightGBM =', rmse_lightgbm)"
   ]
  },
  {
   "cell_type": "markdown",
   "metadata": {},
   "source": [
    "## Анализ моделей"
   ]
  },
  {
   "cell_type": "markdown",
   "metadata": {},
   "source": [
    "После проведения анализа тестирования различных моделей машинного обучения для данной задачи, были получены следующие результаты:\n",
    "\n",
    "1. LightGBM\n",
    "\n",
    "- Модель: LightGBM\n",
    "\n",
    "- RMSE: 1890.00\n",
    "\n",
    "- Время работы: 47.4 секунды\n",
    "\n",
    "2. RandomForestRegressor\n",
    "\n",
    "- Модель: RandomForestRegressor\n",
    "\n",
    "- RMSE: 1746.74\n",
    "\n",
    "- Время работы: 53 минуты 51 секунда\n",
    "\n",
    "3. CatBoost\n",
    "\n",
    "- Модель: CatBoost\n",
    "\n",
    "- RMSE: 1784.51\n",
    "\n",
    "- Время работы: 30 секунд\n",
    "\n",
    "4. LinearRegression\n",
    "\n",
    "- Модель: LinearRegression\n",
    "\n",
    "- RMSE: 219283645721.65\n",
    "\n",
    "- Время работы: 1 минута 3 секунды\n",
    "\n",
    "Исходя из проанализированных результатов, можно отметить, что модель RandomForestRegressor, несмотря на хорошие показатели RMSE, работает слишком долго (более 50 минут), что не делает ее оптимальным выбором для данной задачи. С другой стороны, модели LightGBM и CatBoost показали достаточно хорошие показатели точности (RMSE) и при этом отличаются более коротким временем обучения.\n",
    "\n",
    "Среди этих двух моделей CatBoost продемонстрировал немного лучший результат по точности (RMSE) и в то же время значительно меньшее время обучения (30 секунд против 47.4 секунд у LightGBM). Следовательно, для выбора оптимальной модели, обеспечивающей хорошую точность предсказаний и быстрое обучение, рекомендуется использовать модель CatBoost."
   ]
  },
  {
   "cell_type": "markdown",
   "metadata": {},
   "source": [
    "## Чек-лист проверки"
   ]
  },
  {
   "cell_type": "markdown",
   "metadata": {},
   "source": [
    "Поставьте 'x' в выполненных пунктах. Далее нажмите Shift+Enter."
   ]
  },
  {
   "cell_type": "markdown",
   "metadata": {},
   "source": [
    "- [x]  Jupyter Notebook открыт\n",
    "- [x]  Весь код выполняется без ошибок\n",
    "- [x]  Ячейки с кодом расположены в порядке исполнения\n",
    "- [x]  Выполнена загрузка и подготовка данных\n",
    "- [x]  Выполнено обучение моделей\n",
    "- [x]  Есть анализ скорости работы и качества моделей"
   ]
  },
  {
   "cell_type": "code",
   "execution_count": null,
   "metadata": {},
   "outputs": [],
   "source": []
  }
 ],
 "metadata": {
  "ExecuteTimeLog": [
   {
    "duration": 1793,
    "start_time": "2024-03-19T10:10:48.052Z"
   },
   {
    "duration": 3006,
    "start_time": "2024-03-19T10:10:49.848Z"
   },
   {
    "duration": 1027,
    "start_time": "2024-03-19T10:11:06.551Z"
   },
   {
    "duration": 225,
    "start_time": "2024-03-19T10:11:41.209Z"
   },
   {
    "duration": 115,
    "start_time": "2024-03-19T10:14:16.844Z"
   },
   {
    "duration": 202,
    "start_time": "2024-03-19T19:30:42.448Z"
   },
   {
    "duration": 16,
    "start_time": "2024-03-19T19:31:22.962Z"
   },
   {
    "duration": 1575,
    "start_time": "2024-03-19T19:31:57.804Z"
   },
   {
    "duration": 1100,
    "start_time": "2024-03-19T19:31:59.381Z"
   },
   {
    "duration": 235,
    "start_time": "2024-03-19T19:32:00.483Z"
   },
   {
    "duration": 245,
    "start_time": "2024-03-19T19:32:00.721Z"
   },
   {
    "duration": 1550,
    "start_time": "2024-03-19T19:36:55.119Z"
   },
   {
    "duration": 2986,
    "start_time": "2024-03-19T19:36:56.671Z"
   },
   {
    "duration": 163,
    "start_time": "2024-03-19T19:36:59.659Z"
   },
   {
    "duration": 134,
    "start_time": "2024-03-19T19:36:59.824Z"
   },
   {
    "duration": 1554,
    "start_time": "2024-03-19T19:38:29.027Z"
   },
   {
    "duration": 1070,
    "start_time": "2024-03-19T19:38:30.583Z"
   },
   {
    "duration": 210,
    "start_time": "2024-03-19T19:38:31.655Z"
   },
   {
    "duration": 131,
    "start_time": "2024-03-19T19:38:31.867Z"
   },
   {
    "duration": 173,
    "start_time": "2024-03-19T19:38:32.001Z"
   },
   {
    "duration": 58,
    "start_time": "2024-03-19T19:39:26.906Z"
   },
   {
    "duration": 112,
    "start_time": "2024-03-19T19:39:53.623Z"
   },
   {
    "duration": 63,
    "start_time": "2024-03-19T19:43:19.939Z"
   },
   {
    "duration": 1614,
    "start_time": "2024-03-19T19:43:28.696Z"
   },
   {
    "duration": 2968,
    "start_time": "2024-03-19T19:43:32.381Z"
   },
   {
    "duration": 154,
    "start_time": "2024-03-19T19:43:35.351Z"
   },
   {
    "duration": 165,
    "start_time": "2024-03-19T19:43:35.507Z"
   },
   {
    "duration": 3102,
    "start_time": "2024-03-19T19:43:36.800Z"
   },
   {
    "duration": 3247,
    "start_time": "2024-03-19T19:44:23.986Z"
   },
   {
    "duration": 55,
    "start_time": "2024-03-19T19:48:46.587Z"
   },
   {
    "duration": 1560,
    "start_time": "2024-03-19T19:49:51.002Z"
   },
   {
    "duration": 2956,
    "start_time": "2024-03-19T19:49:52.564Z"
   },
   {
    "duration": 161,
    "start_time": "2024-03-19T19:49:55.521Z"
   },
   {
    "duration": 108,
    "start_time": "2024-03-19T19:49:55.684Z"
   },
   {
    "duration": 3137,
    "start_time": "2024-03-19T19:49:55.795Z"
   },
   {
    "duration": 4,
    "start_time": "2024-03-19T19:49:58.934Z"
   },
   {
    "duration": 119,
    "start_time": "2024-03-19T19:50:34.786Z"
   },
   {
    "duration": 11,
    "start_time": "2024-03-19T19:50:39.716Z"
   },
   {
    "duration": 11,
    "start_time": "2024-03-19T19:50:54.207Z"
   },
   {
    "duration": 12,
    "start_time": "2024-03-19T19:51:06.770Z"
   },
   {
    "duration": 14,
    "start_time": "2024-03-19T19:52:35.590Z"
   },
   {
    "duration": 1625,
    "start_time": "2024-03-19T19:56:03.652Z"
   },
   {
    "duration": 3000,
    "start_time": "2024-03-19T19:56:05.279Z"
   },
   {
    "duration": 169,
    "start_time": "2024-03-19T19:56:08.281Z"
   },
   {
    "duration": 115,
    "start_time": "2024-03-19T19:56:08.452Z"
   },
   {
    "duration": 3174,
    "start_time": "2024-03-19T19:56:08.569Z"
   },
   {
    "duration": 14,
    "start_time": "2024-03-19T19:56:11.744Z"
   },
   {
    "duration": 30,
    "start_time": "2024-03-19T20:07:56.912Z"
   },
   {
    "duration": 11,
    "start_time": "2024-03-19T20:08:08.746Z"
   },
   {
    "duration": 93,
    "start_time": "2024-03-19T20:09:26.894Z"
   },
   {
    "duration": 104,
    "start_time": "2024-03-19T20:09:48.185Z"
   },
   {
    "duration": 1663,
    "start_time": "2024-03-19T20:09:56.509Z"
   },
   {
    "duration": 1579,
    "start_time": "2024-03-19T20:10:14.007Z"
   },
   {
    "duration": 5,
    "start_time": "2024-03-19T20:10:26.676Z"
   },
   {
    "duration": 4,
    "start_time": "2024-03-19T20:10:45.977Z"
   },
   {
    "duration": 5,
    "start_time": "2024-03-19T20:10:55.415Z"
   },
   {
    "duration": 9,
    "start_time": "2024-03-19T20:13:26.444Z"
   },
   {
    "duration": 17,
    "start_time": "2024-03-19T20:21:55.002Z"
   },
   {
    "duration": 37,
    "start_time": "2024-03-19T20:26:21.909Z"
   },
   {
    "duration": 10,
    "start_time": "2024-03-19T20:28:47.842Z"
   },
   {
    "duration": 36,
    "start_time": "2024-03-19T20:35:52.895Z"
   },
   {
    "duration": 67,
    "start_time": "2024-03-19T20:39:30.301Z"
   },
   {
    "duration": 30,
    "start_time": "2024-03-19T20:41:19.610Z"
   },
   {
    "duration": 32,
    "start_time": "2024-03-19T20:41:25.639Z"
   },
   {
    "duration": 19,
    "start_time": "2024-03-19T20:41:40.318Z"
   },
   {
    "duration": 103,
    "start_time": "2024-03-19T20:41:48.182Z"
   },
   {
    "duration": 21,
    "start_time": "2024-03-19T20:41:56.569Z"
   },
   {
    "duration": 85,
    "start_time": "2024-03-19T20:43:41.948Z"
   },
   {
    "duration": 65,
    "start_time": "2024-03-19T20:43:55.256Z"
   },
   {
    "duration": 60,
    "start_time": "2024-03-19T20:44:10.284Z"
   },
   {
    "duration": 15,
    "start_time": "2024-03-19T20:45:04.334Z"
   },
   {
    "duration": 93,
    "start_time": "2024-03-19T20:53:16.021Z"
   },
   {
    "duration": 98,
    "start_time": "2024-03-19T20:58:15.950Z"
   },
   {
    "duration": 17,
    "start_time": "2024-03-19T20:59:24.721Z"
   },
   {
    "duration": 12,
    "start_time": "2024-03-19T20:59:39.527Z"
   },
   {
    "duration": 12,
    "start_time": "2024-03-19T20:59:48.367Z"
   },
   {
    "duration": 18,
    "start_time": "2024-03-19T21:00:15.994Z"
   },
   {
    "duration": 1541,
    "start_time": "2024-03-19T21:00:50.133Z"
   },
   {
    "duration": 988,
    "start_time": "2024-03-19T21:00:51.676Z"
   },
   {
    "duration": 170,
    "start_time": "2024-03-19T21:00:52.665Z"
   },
   {
    "duration": 113,
    "start_time": "2024-03-19T21:00:52.837Z"
   },
   {
    "duration": 3162,
    "start_time": "2024-03-19T21:00:52.952Z"
   },
   {
    "duration": 14,
    "start_time": "2024-03-19T21:00:56.116Z"
   },
   {
    "duration": 61,
    "start_time": "2024-03-19T21:00:56.132Z"
   },
   {
    "duration": 18,
    "start_time": "2024-03-19T21:00:56.195Z"
   },
   {
    "duration": 9,
    "start_time": "2024-03-19T21:00:56.215Z"
   },
   {
    "duration": 37,
    "start_time": "2024-03-19T21:00:56.226Z"
   },
   {
    "duration": 30,
    "start_time": "2024-03-19T21:00:56.265Z"
   },
   {
    "duration": 36,
    "start_time": "2024-03-19T21:00:56.297Z"
   },
   {
    "duration": 79,
    "start_time": "2024-03-19T21:00:56.335Z"
   },
   {
    "duration": 19,
    "start_time": "2024-03-19T21:00:56.418Z"
   },
   {
    "duration": 89,
    "start_time": "2024-03-19T21:00:56.439Z"
   },
   {
    "duration": 66,
    "start_time": "2024-03-19T21:00:56.530Z"
   },
   {
    "duration": 15,
    "start_time": "2024-03-19T21:00:56.598Z"
   },
   {
    "duration": 105,
    "start_time": "2024-03-19T21:00:56.614Z"
   },
   {
    "duration": 131,
    "start_time": "2024-03-19T21:00:56.720Z"
   },
   {
    "duration": 1576,
    "start_time": "2024-03-19T21:01:40.282Z"
   },
   {
    "duration": 949,
    "start_time": "2024-03-19T21:01:41.860Z"
   },
   {
    "duration": 167,
    "start_time": "2024-03-19T21:01:42.811Z"
   },
   {
    "duration": 128,
    "start_time": "2024-03-19T21:01:42.980Z"
   },
   {
    "duration": 3161,
    "start_time": "2024-03-19T21:01:43.112Z"
   },
   {
    "duration": 19,
    "start_time": "2024-03-19T21:01:46.275Z"
   },
   {
    "duration": 75,
    "start_time": "2024-03-19T21:01:46.296Z"
   },
   {
    "duration": 16,
    "start_time": "2024-03-19T21:01:46.373Z"
   },
   {
    "duration": 27,
    "start_time": "2024-03-19T21:01:46.391Z"
   },
   {
    "duration": 47,
    "start_time": "2024-03-19T21:01:46.419Z"
   },
   {
    "duration": 8,
    "start_time": "2024-03-19T21:01:46.467Z"
   },
   {
    "duration": 41,
    "start_time": "2024-03-19T21:01:46.477Z"
   },
   {
    "duration": 56,
    "start_time": "2024-03-19T21:01:46.520Z"
   },
   {
    "duration": 19,
    "start_time": "2024-03-19T21:01:46.591Z"
   },
   {
    "duration": 98,
    "start_time": "2024-03-19T21:01:46.611Z"
   },
   {
    "duration": 58,
    "start_time": "2024-03-19T21:01:46.711Z"
   },
   {
    "duration": 23,
    "start_time": "2024-03-19T21:01:46.771Z"
   },
   {
    "duration": 155,
    "start_time": "2024-03-19T21:01:46.796Z"
   },
   {
    "duration": 130,
    "start_time": "2024-03-19T21:01:46.953Z"
   },
   {
    "duration": 1517,
    "start_time": "2024-03-19T21:02:36.135Z"
   },
   {
    "duration": 988,
    "start_time": "2024-03-19T21:02:37.654Z"
   },
   {
    "duration": 161,
    "start_time": "2024-03-19T21:02:38.644Z"
   },
   {
    "duration": 162,
    "start_time": "2024-03-19T21:02:38.807Z"
   },
   {
    "duration": 3250,
    "start_time": "2024-03-19T21:02:38.971Z"
   },
   {
    "duration": 14,
    "start_time": "2024-03-19T21:02:42.223Z"
   },
   {
    "duration": 59,
    "start_time": "2024-03-19T21:02:42.240Z"
   },
   {
    "duration": 17,
    "start_time": "2024-03-19T21:02:42.301Z"
   },
   {
    "duration": 11,
    "start_time": "2024-03-19T21:02:42.320Z"
   },
   {
    "duration": 60,
    "start_time": "2024-03-19T21:02:42.333Z"
   },
   {
    "duration": 9,
    "start_time": "2024-03-19T21:02:42.394Z"
   },
   {
    "duration": 48,
    "start_time": "2024-03-19T21:02:42.405Z"
   },
   {
    "duration": 127,
    "start_time": "2024-03-19T21:02:42.455Z"
   },
   {
    "duration": 18,
    "start_time": "2024-03-19T21:02:42.594Z"
   },
   {
    "duration": 95,
    "start_time": "2024-03-19T21:02:42.614Z"
   },
   {
    "duration": 61,
    "start_time": "2024-03-19T21:02:42.710Z"
   },
   {
    "duration": 32,
    "start_time": "2024-03-19T21:02:42.773Z"
   },
   {
    "duration": 120,
    "start_time": "2024-03-19T21:02:42.807Z"
   },
   {
    "duration": 128,
    "start_time": "2024-03-19T21:02:42.929Z"
   },
   {
    "duration": 13,
    "start_time": "2024-03-19T21:04:09.634Z"
   },
   {
    "duration": 1559,
    "start_time": "2024-03-19T21:06:55.019Z"
   },
   {
    "duration": 944,
    "start_time": "2024-03-19T21:06:56.580Z"
   },
   {
    "duration": 179,
    "start_time": "2024-03-19T21:06:57.525Z"
   },
   {
    "duration": 197,
    "start_time": "2024-03-19T21:06:57.707Z"
   },
   {
    "duration": 3260,
    "start_time": "2024-03-19T21:06:57.906Z"
   },
   {
    "duration": 15,
    "start_time": "2024-03-19T21:07:01.167Z"
   },
   {
    "duration": 240,
    "start_time": "2024-03-19T21:07:01.191Z"
   },
   {
    "duration": 138,
    "start_time": "2024-03-19T21:07:01.433Z"
   },
   {
    "duration": 176,
    "start_time": "2024-03-19T21:07:01.573Z"
   },
   {
    "duration": 67,
    "start_time": "2024-03-19T21:07:01.752Z"
   },
   {
    "duration": 68,
    "start_time": "2024-03-19T21:07:01.821Z"
   },
   {
    "duration": 128,
    "start_time": "2024-03-19T21:07:01.890Z"
   },
   {
    "duration": 82,
    "start_time": "2024-03-19T21:07:02.020Z"
   },
   {
    "duration": 42,
    "start_time": "2024-03-19T21:07:02.104Z"
   },
   {
    "duration": 115,
    "start_time": "2024-03-19T21:07:02.148Z"
   },
   {
    "duration": 72,
    "start_time": "2024-03-19T21:07:02.265Z"
   },
   {
    "duration": 191,
    "start_time": "2024-03-19T21:07:02.338Z"
   },
   {
    "duration": 267,
    "start_time": "2024-03-19T21:07:02.530Z"
   },
   {
    "duration": 330,
    "start_time": "2024-03-19T21:07:02.798Z"
   },
   {
    "duration": 5,
    "start_time": "2024-03-19T21:08:20.594Z"
   },
   {
    "duration": 1593,
    "start_time": "2024-03-19T21:08:36.781Z"
   },
   {
    "duration": 956,
    "start_time": "2024-03-19T21:08:38.377Z"
   },
   {
    "duration": 169,
    "start_time": "2024-03-19T21:08:39.335Z"
   },
   {
    "duration": 121,
    "start_time": "2024-03-19T21:08:39.506Z"
   },
   {
    "duration": 3205,
    "start_time": "2024-03-19T21:08:39.631Z"
   },
   {
    "duration": 13,
    "start_time": "2024-03-19T21:08:42.838Z"
   },
   {
    "duration": 58,
    "start_time": "2024-03-19T21:08:42.853Z"
   },
   {
    "duration": 18,
    "start_time": "2024-03-19T21:08:42.913Z"
   },
   {
    "duration": 8,
    "start_time": "2024-03-19T21:08:42.932Z"
   },
   {
    "duration": 49,
    "start_time": "2024-03-19T21:08:42.942Z"
   },
   {
    "duration": 8,
    "start_time": "2024-03-19T21:08:42.993Z"
   },
   {
    "duration": 34,
    "start_time": "2024-03-19T21:08:43.003Z"
   },
   {
    "duration": 83,
    "start_time": "2024-03-19T21:08:43.039Z"
   },
   {
    "duration": 18,
    "start_time": "2024-03-19T21:08:43.124Z"
   },
   {
    "duration": 89,
    "start_time": "2024-03-19T21:08:43.144Z"
   },
   {
    "duration": 67,
    "start_time": "2024-03-19T21:08:43.235Z"
   },
   {
    "duration": 15,
    "start_time": "2024-03-19T21:08:43.303Z"
   },
   {
    "duration": 104,
    "start_time": "2024-03-19T21:08:43.320Z"
   },
   {
    "duration": 5,
    "start_time": "2024-03-19T21:08:43.426Z"
   },
   {
    "duration": 79,
    "start_time": "2024-03-19T21:20:02.775Z"
   },
   {
    "duration": 5,
    "start_time": "2024-03-19T21:20:05.823Z"
   },
   {
    "duration": 1535,
    "start_time": "2024-03-19T21:20:24.419Z"
   },
   {
    "duration": 1011,
    "start_time": "2024-03-19T21:20:25.956Z"
   },
   {
    "duration": 165,
    "start_time": "2024-03-19T21:20:26.969Z"
   },
   {
    "duration": 119,
    "start_time": "2024-03-19T21:20:27.135Z"
   },
   {
    "duration": 3416,
    "start_time": "2024-03-19T21:20:27.256Z"
   },
   {
    "duration": 31,
    "start_time": "2024-03-19T21:20:30.673Z"
   },
   {
    "duration": 615,
    "start_time": "2024-03-19T21:20:30.706Z"
   },
   {
    "duration": 331,
    "start_time": "2024-03-19T21:20:31.323Z"
   },
   {
    "duration": 102,
    "start_time": "2024-03-19T21:20:31.656Z"
   },
   {
    "duration": 126,
    "start_time": "2024-03-19T21:20:31.760Z"
   },
   {
    "duration": 43,
    "start_time": "2024-03-19T21:20:31.888Z"
   },
   {
    "duration": 72,
    "start_time": "2024-03-19T21:20:31.933Z"
   },
   {
    "duration": 67,
    "start_time": "2024-03-19T21:20:32.006Z"
   },
   {
    "duration": 36,
    "start_time": "2024-03-19T21:20:32.076Z"
   },
   {
    "duration": 90,
    "start_time": "2024-03-19T21:20:32.114Z"
   },
   {
    "duration": 59,
    "start_time": "2024-03-19T21:20:32.208Z"
   },
   {
    "duration": 33,
    "start_time": "2024-03-19T21:20:32.269Z"
   },
   {
    "duration": 152,
    "start_time": "2024-03-19T21:20:32.304Z"
   },
   {
    "duration": 127,
    "start_time": "2024-03-19T21:20:32.458Z"
   },
   {
    "duration": 5,
    "start_time": "2024-03-19T21:20:32.587Z"
   },
   {
    "duration": 144,
    "start_time": "2024-03-19T21:20:32.600Z"
   },
   {
    "duration": 12,
    "start_time": "2024-03-19T21:21:58.924Z"
   },
   {
    "duration": 96,
    "start_time": "2024-03-19T21:22:26.066Z"
   },
   {
    "duration": 1556,
    "start_time": "2024-03-19T21:22:35.237Z"
   },
   {
    "duration": 1012,
    "start_time": "2024-03-19T21:22:36.796Z"
   },
   {
    "duration": 168,
    "start_time": "2024-03-19T21:22:37.811Z"
   },
   {
    "duration": 177,
    "start_time": "2024-03-19T21:22:37.982Z"
   },
   {
    "duration": 3405,
    "start_time": "2024-03-19T21:22:38.161Z"
   },
   {
    "duration": 13,
    "start_time": "2024-03-19T21:22:41.568Z"
   },
   {
    "duration": 62,
    "start_time": "2024-03-19T21:22:41.591Z"
   },
   {
    "duration": 23,
    "start_time": "2024-03-19T21:22:41.655Z"
   },
   {
    "duration": 17,
    "start_time": "2024-03-19T21:22:41.680Z"
   },
   {
    "duration": 35,
    "start_time": "2024-03-19T21:22:41.702Z"
   },
   {
    "duration": 8,
    "start_time": "2024-03-19T21:22:41.739Z"
   },
   {
    "duration": 54,
    "start_time": "2024-03-19T21:22:41.749Z"
   },
   {
    "duration": 59,
    "start_time": "2024-03-19T21:22:41.807Z"
   },
   {
    "duration": 39,
    "start_time": "2024-03-19T21:22:41.867Z"
   },
   {
    "duration": 92,
    "start_time": "2024-03-19T21:22:41.908Z"
   },
   {
    "duration": 70,
    "start_time": "2024-03-19T21:22:42.002Z"
   },
   {
    "duration": 28,
    "start_time": "2024-03-19T21:22:42.074Z"
   },
   {
    "duration": 116,
    "start_time": "2024-03-19T21:22:42.104Z"
   },
   {
    "duration": 93,
    "start_time": "2024-03-19T21:22:42.221Z"
   },
   {
    "duration": 5,
    "start_time": "2024-03-19T21:22:42.316Z"
   },
   {
    "duration": 140,
    "start_time": "2024-03-19T21:22:42.322Z"
   },
   {
    "duration": 1686,
    "start_time": "2024-03-19T21:24:22.503Z"
   },
   {
    "duration": 1012,
    "start_time": "2024-03-19T21:24:24.191Z"
   },
   {
    "duration": 170,
    "start_time": "2024-03-19T21:24:25.205Z"
   },
   {
    "duration": 116,
    "start_time": "2024-03-19T21:24:25.377Z"
   },
   {
    "duration": 3293,
    "start_time": "2024-03-19T21:24:25.495Z"
   },
   {
    "duration": 26,
    "start_time": "2024-03-19T21:24:28.791Z"
   },
   {
    "duration": 68,
    "start_time": "2024-03-19T21:24:28.819Z"
   },
   {
    "duration": 37,
    "start_time": "2024-03-19T21:24:28.889Z"
   },
   {
    "duration": 12,
    "start_time": "2024-03-19T21:24:28.928Z"
   },
   {
    "duration": 46,
    "start_time": "2024-03-19T21:24:28.942Z"
   },
   {
    "duration": 14,
    "start_time": "2024-03-19T21:24:28.989Z"
   },
   {
    "duration": 38,
    "start_time": "2024-03-19T21:24:29.006Z"
   },
   {
    "duration": 80,
    "start_time": "2024-03-19T21:24:29.046Z"
   },
   {
    "duration": 19,
    "start_time": "2024-03-19T21:24:29.128Z"
   },
   {
    "duration": 85,
    "start_time": "2024-03-19T21:24:29.149Z"
   },
   {
    "duration": 69,
    "start_time": "2024-03-19T21:24:29.236Z"
   },
   {
    "duration": 17,
    "start_time": "2024-03-19T21:24:29.307Z"
   },
   {
    "duration": 120,
    "start_time": "2024-03-19T21:24:29.325Z"
   },
   {
    "duration": 88,
    "start_time": "2024-03-19T21:24:29.447Z"
   },
   {
    "duration": 5,
    "start_time": "2024-03-19T21:24:29.537Z"
   },
   {
    "duration": 168,
    "start_time": "2024-03-19T21:24:29.544Z"
   },
   {
    "duration": 11,
    "start_time": "2024-03-19T21:25:32.342Z"
   },
   {
    "duration": 6,
    "start_time": "2024-03-19T21:26:03.082Z"
   },
   {
    "duration": 1649,
    "start_time": "2024-03-19T21:26:10.254Z"
   },
   {
    "duration": 1097,
    "start_time": "2024-03-19T21:26:11.906Z"
   },
   {
    "duration": 198,
    "start_time": "2024-03-19T21:26:13.008Z"
   },
   {
    "duration": 125,
    "start_time": "2024-03-19T21:26:13.209Z"
   },
   {
    "duration": 3608,
    "start_time": "2024-03-19T21:26:13.336Z"
   },
   {
    "duration": 16,
    "start_time": "2024-03-19T21:26:16.946Z"
   },
   {
    "duration": 54,
    "start_time": "2024-03-19T21:26:16.964Z"
   },
   {
    "duration": 25,
    "start_time": "2024-03-19T21:26:17.020Z"
   },
   {
    "duration": 23,
    "start_time": "2024-03-19T21:26:17.047Z"
   },
   {
    "duration": 48,
    "start_time": "2024-03-19T21:26:17.072Z"
   },
   {
    "duration": 7,
    "start_time": "2024-03-19T21:26:17.123Z"
   },
   {
    "duration": 71,
    "start_time": "2024-03-19T21:26:17.132Z"
   },
   {
    "duration": 61,
    "start_time": "2024-03-19T21:26:17.207Z"
   },
   {
    "duration": 38,
    "start_time": "2024-03-19T21:26:17.270Z"
   },
   {
    "duration": 93,
    "start_time": "2024-03-19T21:26:17.310Z"
   },
   {
    "duration": 67,
    "start_time": "2024-03-19T21:26:17.405Z"
   },
   {
    "duration": 32,
    "start_time": "2024-03-19T21:26:17.474Z"
   },
   {
    "duration": 119,
    "start_time": "2024-03-19T21:26:17.508Z"
   },
   {
    "duration": 113,
    "start_time": "2024-03-19T21:26:17.629Z"
   },
   {
    "duration": 138,
    "start_time": "2024-03-19T21:26:17.745Z"
   },
   {
    "duration": 0,
    "start_time": "2024-03-19T21:26:17.885Z"
   },
   {
    "duration": 0,
    "start_time": "2024-03-19T21:26:17.886Z"
   },
   {
    "duration": 5,
    "start_time": "2024-03-19T21:26:46.075Z"
   },
   {
    "duration": 11,
    "start_time": "2024-03-19T21:26:48.170Z"
   },
   {
    "duration": 10,
    "start_time": "2024-03-19T21:27:00.228Z"
   },
   {
    "duration": 12,
    "start_time": "2024-03-19T21:27:04.423Z"
   },
   {
    "duration": 10,
    "start_time": "2024-03-19T21:27:05.473Z"
   },
   {
    "duration": 3,
    "start_time": "2024-03-19T21:27:33.257Z"
   },
   {
    "duration": 5,
    "start_time": "2024-03-19T21:27:34.834Z"
   },
   {
    "duration": 12,
    "start_time": "2024-03-19T21:27:35.629Z"
   },
   {
    "duration": 21964,
    "start_time": "2024-03-19T21:27:37.210Z"
   },
   {
    "duration": 11,
    "start_time": "2024-03-19T21:28:53.737Z"
   },
   {
    "duration": 0,
    "start_time": "2024-03-19T21:29:29.963Z"
   },
   {
    "duration": 14,
    "start_time": "2024-03-19T21:33:01.841Z"
   },
   {
    "duration": 1577,
    "start_time": "2024-03-19T21:33:37.131Z"
   },
   {
    "duration": 1003,
    "start_time": "2024-03-19T21:33:38.709Z"
   },
   {
    "duration": 191,
    "start_time": "2024-03-19T21:33:39.713Z"
   },
   {
    "duration": 116,
    "start_time": "2024-03-19T21:33:39.906Z"
   },
   {
    "duration": 3298,
    "start_time": "2024-03-19T21:33:40.024Z"
   },
   {
    "duration": 14,
    "start_time": "2024-03-19T21:33:43.324Z"
   },
   {
    "duration": 79,
    "start_time": "2024-03-19T21:33:43.340Z"
   },
   {
    "duration": 31,
    "start_time": "2024-03-19T21:33:43.421Z"
   },
   {
    "duration": 12,
    "start_time": "2024-03-19T21:33:43.455Z"
   },
   {
    "duration": 42,
    "start_time": "2024-03-19T21:33:43.469Z"
   },
   {
    "duration": 9,
    "start_time": "2024-03-19T21:33:43.513Z"
   },
   {
    "duration": 34,
    "start_time": "2024-03-19T21:33:43.524Z"
   },
   {
    "duration": 84,
    "start_time": "2024-03-19T21:33:43.560Z"
   },
   {
    "duration": 19,
    "start_time": "2024-03-19T21:33:43.646Z"
   },
   {
    "duration": 94,
    "start_time": "2024-03-19T21:33:43.666Z"
   },
   {
    "duration": 72,
    "start_time": "2024-03-19T21:33:43.762Z"
   },
   {
    "duration": 15,
    "start_time": "2024-03-19T21:33:43.836Z"
   },
   {
    "duration": 112,
    "start_time": "2024-03-19T21:33:43.852Z"
   },
   {
    "duration": 94,
    "start_time": "2024-03-19T21:33:43.966Z"
   },
   {
    "duration": 132,
    "start_time": "2024-03-19T21:33:44.062Z"
   },
   {
    "duration": 0,
    "start_time": "2024-03-19T21:33:44.196Z"
   },
   {
    "duration": 0,
    "start_time": "2024-03-19T21:33:44.197Z"
   },
   {
    "duration": 0,
    "start_time": "2024-03-19T21:33:44.197Z"
   },
   {
    "duration": 0,
    "start_time": "2024-03-19T21:33:44.198Z"
   },
   {
    "duration": 8,
    "start_time": "2024-03-19T21:34:01.215Z"
   },
   {
    "duration": 12,
    "start_time": "2024-03-19T21:34:14.014Z"
   },
   {
    "duration": 3,
    "start_time": "2024-03-19T21:34:33.204Z"
   },
   {
    "duration": 5,
    "start_time": "2024-03-19T21:34:36.532Z"
   },
   {
    "duration": 21419,
    "start_time": "2024-03-19T21:34:37.391Z"
   },
   {
    "duration": 0,
    "start_time": "2024-03-19T21:34:58.811Z"
   },
   {
    "duration": 5,
    "start_time": "2024-03-19T21:39:09.238Z"
   },
   {
    "duration": 125,
    "start_time": "2024-03-19T21:39:11.130Z"
   },
   {
    "duration": 11,
    "start_time": "2024-03-19T21:39:54.571Z"
   },
   {
    "duration": 11,
    "start_time": "2024-03-19T21:40:30.276Z"
   },
   {
    "duration": 1679,
    "start_time": "2024-03-19T21:40:56.445Z"
   },
   {
    "duration": 987,
    "start_time": "2024-03-19T21:40:58.128Z"
   },
   {
    "duration": 219,
    "start_time": "2024-03-19T21:40:59.118Z"
   },
   {
    "duration": 120,
    "start_time": "2024-03-19T21:40:59.339Z"
   },
   {
    "duration": 3472,
    "start_time": "2024-03-19T21:40:59.461Z"
   },
   {
    "duration": 15,
    "start_time": "2024-03-19T21:41:02.934Z"
   },
   {
    "duration": 81,
    "start_time": "2024-03-19T21:41:02.951Z"
   },
   {
    "duration": 71,
    "start_time": "2024-03-19T21:41:03.034Z"
   },
   {
    "duration": 24,
    "start_time": "2024-03-19T21:41:03.108Z"
   },
   {
    "duration": 61,
    "start_time": "2024-03-19T21:41:03.134Z"
   },
   {
    "duration": 10,
    "start_time": "2024-03-19T21:41:03.197Z"
   },
   {
    "duration": 38,
    "start_time": "2024-03-19T21:41:03.208Z"
   },
   {
    "duration": 92,
    "start_time": "2024-03-19T21:41:03.247Z"
   },
   {
    "duration": 20,
    "start_time": "2024-03-19T21:41:03.341Z"
   },
   {
    "duration": 96,
    "start_time": "2024-03-19T21:41:03.362Z"
   },
   {
    "duration": 72,
    "start_time": "2024-03-19T21:41:03.460Z"
   },
   {
    "duration": 14,
    "start_time": "2024-03-19T21:41:03.534Z"
   },
   {
    "duration": 117,
    "start_time": "2024-03-19T21:41:03.550Z"
   },
   {
    "duration": 90,
    "start_time": "2024-03-19T21:41:03.669Z"
   },
   {
    "duration": 128,
    "start_time": "2024-03-19T21:41:03.761Z"
   },
   {
    "duration": 0,
    "start_time": "2024-03-19T21:41:03.893Z"
   },
   {
    "duration": 0,
    "start_time": "2024-03-19T21:41:03.894Z"
   },
   {
    "duration": 0,
    "start_time": "2024-03-19T21:41:03.897Z"
   },
   {
    "duration": 0,
    "start_time": "2024-03-19T21:41:03.898Z"
   },
   {
    "duration": 0,
    "start_time": "2024-03-19T21:41:03.899Z"
   },
   {
    "duration": 0,
    "start_time": "2024-03-19T21:41:03.900Z"
   },
   {
    "duration": 0,
    "start_time": "2024-03-19T21:41:03.900Z"
   },
   {
    "duration": 6,
    "start_time": "2024-03-19T21:41:26.062Z"
   },
   {
    "duration": 15,
    "start_time": "2024-03-19T21:41:27.895Z"
   },
   {
    "duration": 12,
    "start_time": "2024-03-19T21:41:36.804Z"
   },
   {
    "duration": 13,
    "start_time": "2024-03-19T21:41:40.126Z"
   },
   {
    "duration": 16,
    "start_time": "2024-03-19T21:41:45.192Z"
   },
   {
    "duration": 11,
    "start_time": "2024-03-19T21:41:47.434Z"
   },
   {
    "duration": 3,
    "start_time": "2024-03-19T21:42:04.066Z"
   },
   {
    "duration": 4,
    "start_time": "2024-03-19T21:42:09.042Z"
   },
   {
    "duration": 10,
    "start_time": "2024-03-19T21:42:12.287Z"
   },
   {
    "duration": 16,
    "start_time": "2024-03-19T21:42:56.007Z"
   },
   {
    "duration": 14,
    "start_time": "2024-03-19T21:43:11.245Z"
   },
   {
    "duration": 20357,
    "start_time": "2024-03-19T21:43:16.495Z"
   },
   {
    "duration": 0,
    "start_time": "2024-03-19T21:43:36.855Z"
   },
   {
    "duration": 0,
    "start_time": "2024-03-19T21:43:36.856Z"
   },
   {
    "duration": 20206,
    "start_time": "2024-03-19T21:43:42.224Z"
   },
   {
    "duration": 0,
    "start_time": "2024-03-19T21:44:02.432Z"
   },
   {
    "duration": 0,
    "start_time": "2024-03-19T21:44:02.433Z"
   },
   {
    "duration": 15,
    "start_time": "2024-03-19T21:44:03.115Z"
   },
   {
    "duration": 1493,
    "start_time": "2024-03-20T14:17:06.720Z"
   },
   {
    "duration": 3,
    "start_time": "2024-03-20T14:17:08.215Z"
   },
   {
    "duration": 1079,
    "start_time": "2024-03-20T14:17:08.220Z"
   },
   {
    "duration": 139,
    "start_time": "2024-03-20T14:17:09.300Z"
   },
   {
    "duration": 102,
    "start_time": "2024-03-20T14:17:09.441Z"
   },
   {
    "duration": 2765,
    "start_time": "2024-03-20T14:17:09.545Z"
   },
   {
    "duration": 15,
    "start_time": "2024-03-20T14:17:12.312Z"
   },
   {
    "duration": 29,
    "start_time": "2024-03-20T14:17:12.329Z"
   },
   {
    "duration": 21,
    "start_time": "2024-03-20T14:17:12.360Z"
   },
   {
    "duration": 19,
    "start_time": "2024-03-20T14:17:12.382Z"
   },
   {
    "duration": 34,
    "start_time": "2024-03-20T14:17:12.403Z"
   },
   {
    "duration": 6,
    "start_time": "2024-03-20T14:17:12.439Z"
   },
   {
    "duration": 34,
    "start_time": "2024-03-20T14:17:12.447Z"
   },
   {
    "duration": 66,
    "start_time": "2024-03-20T14:17:12.484Z"
   },
   {
    "duration": 18,
    "start_time": "2024-03-20T14:17:12.551Z"
   },
   {
    "duration": 76,
    "start_time": "2024-03-20T14:17:12.571Z"
   },
   {
    "duration": 52,
    "start_time": "2024-03-20T14:17:12.649Z"
   },
   {
    "duration": 25,
    "start_time": "2024-03-20T14:17:12.703Z"
   },
   {
    "duration": 91,
    "start_time": "2024-03-20T14:17:12.730Z"
   },
   {
    "duration": 63,
    "start_time": "2024-03-20T14:17:12.823Z"
   },
   {
    "duration": 4,
    "start_time": "2024-03-20T14:17:12.888Z"
   },
   {
    "duration": 218,
    "start_time": "2024-03-20T14:17:12.893Z"
   },
   {
    "duration": 388,
    "start_time": "2024-03-20T14:19:36.941Z"
   },
   {
    "duration": 4,
    "start_time": "2024-03-20T14:21:04.552Z"
   },
   {
    "duration": 104781,
    "start_time": "2024-03-20T14:21:06.640Z"
   },
   {
    "duration": 98,
    "start_time": "2024-03-20T14:22:51.424Z"
   },
   {
    "duration": 97531,
    "start_time": "2024-03-20T14:23:02.889Z"
   },
   {
    "duration": 105909,
    "start_time": "2024-03-20T14:24:40.423Z"
   },
   {
    "duration": 101025,
    "start_time": "2024-03-20T14:27:49.508Z"
   },
   {
    "duration": 1337,
    "start_time": "2024-03-20T14:31:07.451Z"
   },
   {
    "duration": 3,
    "start_time": "2024-03-20T14:31:08.790Z"
   },
   {
    "duration": 813,
    "start_time": "2024-03-20T14:31:08.794Z"
   },
   {
    "duration": 151,
    "start_time": "2024-03-20T14:31:09.609Z"
   },
   {
    "duration": 97,
    "start_time": "2024-03-20T14:31:09.763Z"
   },
   {
    "duration": 2770,
    "start_time": "2024-03-20T14:31:09.862Z"
   },
   {
    "duration": 12,
    "start_time": "2024-03-20T14:31:12.633Z"
   },
   {
    "duration": 26,
    "start_time": "2024-03-20T14:31:12.646Z"
   },
   {
    "duration": 17,
    "start_time": "2024-03-20T14:31:12.673Z"
   },
   {
    "duration": 26,
    "start_time": "2024-03-20T14:31:12.692Z"
   },
   {
    "duration": 29,
    "start_time": "2024-03-20T14:31:12.719Z"
   },
   {
    "duration": 6,
    "start_time": "2024-03-20T14:31:12.750Z"
   },
   {
    "duration": 30,
    "start_time": "2024-03-20T14:31:12.758Z"
   },
   {
    "duration": 72,
    "start_time": "2024-03-20T14:31:12.790Z"
   },
   {
    "duration": 19,
    "start_time": "2024-03-20T14:31:12.864Z"
   },
   {
    "duration": 79,
    "start_time": "2024-03-20T14:31:12.885Z"
   },
   {
    "duration": 55,
    "start_time": "2024-03-20T14:31:12.966Z"
   },
   {
    "duration": 14,
    "start_time": "2024-03-20T14:31:13.023Z"
   },
   {
    "duration": 92,
    "start_time": "2024-03-20T14:31:13.039Z"
   },
   {
    "duration": 67,
    "start_time": "2024-03-20T14:31:13.133Z"
   },
   {
    "duration": 16,
    "start_time": "2024-03-20T14:31:13.202Z"
   },
   {
    "duration": 98606,
    "start_time": "2024-03-20T14:31:13.220Z"
   },
   {
    "duration": 105590,
    "start_time": "2024-03-20T14:32:51.828Z"
   },
   {
    "duration": 1774,
    "start_time": "2024-03-20T14:42:05.003Z"
   },
   {
    "duration": 91611,
    "start_time": "2024-03-20T14:43:49.419Z"
   },
   {
    "duration": 2003,
    "start_time": "2024-03-20T14:45:21.031Z"
   },
   {
    "duration": 89,
    "start_time": "2024-03-20T16:28:38.871Z"
   },
   {
    "duration": 109,
    "start_time": "2024-03-20T16:29:03.400Z"
   },
   {
    "duration": 85,
    "start_time": "2024-03-20T16:29:45.113Z"
   },
   {
    "duration": 79,
    "start_time": "2024-03-20T16:30:28.593Z"
   },
   {
    "duration": 5,
    "start_time": "2024-03-20T16:31:30.193Z"
   },
   {
    "duration": 87,
    "start_time": "2024-03-20T16:31:38.771Z"
   },
   {
    "duration": 78,
    "start_time": "2024-03-20T16:31:52.376Z"
   },
   {
    "duration": 13,
    "start_time": "2024-03-20T16:31:58.561Z"
   },
   {
    "duration": 146875,
    "start_time": "2024-03-20T16:32:27.139Z"
   },
   {
    "duration": 10,
    "start_time": "2024-03-20T16:37:41.486Z"
   },
   {
    "duration": 14,
    "start_time": "2024-03-20T16:39:11.391Z"
   },
   {
    "duration": 39040,
    "start_time": "2024-03-20T16:39:27.038Z"
   },
   {
    "duration": 8,
    "start_time": "2024-03-20T16:42:42.440Z"
   },
   {
    "duration": 53,
    "start_time": "2024-03-20T19:15:41.778Z"
   },
   {
    "duration": 5,
    "start_time": "2024-03-20T19:16:05.505Z"
   },
   {
    "duration": 1373,
    "start_time": "2024-03-20T19:17:19.639Z"
   },
   {
    "duration": 2,
    "start_time": "2024-03-20T19:17:21.014Z"
   },
   {
    "duration": 1087,
    "start_time": "2024-03-20T19:17:21.018Z"
   },
   {
    "duration": 145,
    "start_time": "2024-03-20T19:17:22.107Z"
   },
   {
    "duration": 104,
    "start_time": "2024-03-20T19:17:22.254Z"
   },
   {
    "duration": 2705,
    "start_time": "2024-03-20T19:17:22.359Z"
   },
   {
    "duration": 12,
    "start_time": "2024-03-20T19:17:25.066Z"
   },
   {
    "duration": 46,
    "start_time": "2024-03-20T19:17:25.079Z"
   },
   {
    "duration": 26,
    "start_time": "2024-03-20T19:17:25.127Z"
   },
   {
    "duration": 14,
    "start_time": "2024-03-20T19:17:25.155Z"
   },
   {
    "duration": 30,
    "start_time": "2024-03-20T19:17:25.170Z"
   },
   {
    "duration": 7,
    "start_time": "2024-03-20T19:17:25.202Z"
   },
   {
    "duration": 31,
    "start_time": "2024-03-20T19:17:25.217Z"
   },
   {
    "duration": 50,
    "start_time": "2024-03-20T19:17:25.251Z"
   },
   {
    "duration": 17,
    "start_time": "2024-03-20T19:17:25.318Z"
   },
   {
    "duration": 69,
    "start_time": "2024-03-20T19:17:25.336Z"
   },
   {
    "duration": 54,
    "start_time": "2024-03-20T19:17:25.406Z"
   },
   {
    "duration": 12,
    "start_time": "2024-03-20T19:17:25.462Z"
   },
   {
    "duration": 92,
    "start_time": "2024-03-20T19:17:25.476Z"
   },
   {
    "duration": 80,
    "start_time": "2024-03-20T19:17:25.570Z"
   },
   {
    "duration": 5,
    "start_time": "2024-03-20T19:17:25.652Z"
   },
   {
    "duration": 1808,
    "start_time": "2024-03-20T19:17:25.658Z"
   },
   {
    "duration": 10,
    "start_time": "2024-03-20T19:17:27.468Z"
   },
   {
    "duration": 123,
    "start_time": "2024-03-20T19:17:27.480Z"
   },
   {
    "duration": 0,
    "start_time": "2024-03-20T19:17:27.605Z"
   },
   {
    "duration": 0,
    "start_time": "2024-03-20T19:17:27.606Z"
   },
   {
    "duration": 0,
    "start_time": "2024-03-20T19:17:27.618Z"
   },
   {
    "duration": 1440,
    "start_time": "2024-03-20T19:21:07.790Z"
   },
   {
    "duration": 3,
    "start_time": "2024-03-20T19:21:09.233Z"
   },
   {
    "duration": 794,
    "start_time": "2024-03-20T19:21:09.238Z"
   },
   {
    "duration": 153,
    "start_time": "2024-03-20T19:21:10.033Z"
   },
   {
    "duration": 97,
    "start_time": "2024-03-20T19:21:10.188Z"
   },
   {
    "duration": 2812,
    "start_time": "2024-03-20T19:21:10.286Z"
   },
   {
    "duration": 22,
    "start_time": "2024-03-20T19:21:13.099Z"
   },
   {
    "duration": 72,
    "start_time": "2024-03-20T19:21:13.123Z"
   },
   {
    "duration": 27,
    "start_time": "2024-03-20T19:21:13.197Z"
   },
   {
    "duration": 8,
    "start_time": "2024-03-20T19:21:13.225Z"
   },
   {
    "duration": 31,
    "start_time": "2024-03-20T19:21:13.235Z"
   },
   {
    "duration": 8,
    "start_time": "2024-03-20T19:21:13.267Z"
   },
   {
    "duration": 60,
    "start_time": "2024-03-20T19:21:13.276Z"
   },
   {
    "duration": 66,
    "start_time": "2024-03-20T19:21:13.339Z"
   },
   {
    "duration": 23,
    "start_time": "2024-03-20T19:21:13.418Z"
   },
   {
    "duration": 79,
    "start_time": "2024-03-20T19:21:13.443Z"
   },
   {
    "duration": 52,
    "start_time": "2024-03-20T19:21:13.523Z"
   },
   {
    "duration": 12,
    "start_time": "2024-03-20T19:21:13.577Z"
   },
   {
    "duration": 102,
    "start_time": "2024-03-20T19:21:13.591Z"
   },
   {
    "duration": 72,
    "start_time": "2024-03-20T19:21:13.695Z"
   },
   {
    "duration": 5,
    "start_time": "2024-03-20T19:21:13.768Z"
   },
   {
    "duration": 1217,
    "start_time": "2024-03-20T19:21:13.774Z"
   },
   {
    "duration": 0,
    "start_time": "2024-03-20T19:21:14.993Z"
   },
   {
    "duration": 0,
    "start_time": "2024-03-20T19:21:14.994Z"
   },
   {
    "duration": 0,
    "start_time": "2024-03-20T19:21:14.995Z"
   },
   {
    "duration": 0,
    "start_time": "2024-03-20T19:21:14.996Z"
   },
   {
    "duration": 0,
    "start_time": "2024-03-20T19:21:14.997Z"
   },
   {
    "duration": 1403,
    "start_time": "2024-03-20T19:22:22.989Z"
   },
   {
    "duration": 2,
    "start_time": "2024-03-20T19:22:24.394Z"
   },
   {
    "duration": 840,
    "start_time": "2024-03-20T19:22:24.398Z"
   },
   {
    "duration": 158,
    "start_time": "2024-03-20T19:22:25.240Z"
   },
   {
    "duration": 101,
    "start_time": "2024-03-20T19:22:25.399Z"
   },
   {
    "duration": 2779,
    "start_time": "2024-03-20T19:22:25.502Z"
   },
   {
    "duration": 12,
    "start_time": "2024-03-20T19:22:28.283Z"
   },
   {
    "duration": 54,
    "start_time": "2024-03-20T19:22:28.297Z"
   },
   {
    "duration": 13,
    "start_time": "2024-03-20T19:22:28.353Z"
   },
   {
    "duration": 9,
    "start_time": "2024-03-20T19:22:28.368Z"
   },
   {
    "duration": 39,
    "start_time": "2024-03-20T19:22:28.379Z"
   },
   {
    "duration": 9,
    "start_time": "2024-03-20T19:22:28.419Z"
   },
   {
    "duration": 28,
    "start_time": "2024-03-20T19:22:28.430Z"
   },
   {
    "duration": 104,
    "start_time": "2024-03-20T19:22:28.461Z"
   },
   {
    "duration": 18,
    "start_time": "2024-03-20T19:22:28.567Z"
   },
   {
    "duration": 73,
    "start_time": "2024-03-20T19:22:28.587Z"
   },
   {
    "duration": 57,
    "start_time": "2024-03-20T19:22:28.662Z"
   },
   {
    "duration": 12,
    "start_time": "2024-03-20T19:22:28.720Z"
   },
   {
    "duration": 86,
    "start_time": "2024-03-20T19:22:28.734Z"
   },
   {
    "duration": 57,
    "start_time": "2024-03-20T19:22:28.822Z"
   },
   {
    "duration": 5,
    "start_time": "2024-03-20T19:22:28.880Z"
   },
   {
    "duration": 1425,
    "start_time": "2024-03-20T19:22:28.886Z"
   },
   {
    "duration": 14,
    "start_time": "2024-03-20T19:22:30.312Z"
   },
   {
    "duration": 46,
    "start_time": "2024-03-20T19:22:30.328Z"
   },
   {
    "duration": 74554,
    "start_time": "2024-03-20T19:22:30.375Z"
   },
   {
    "duration": 37825,
    "start_time": "2024-03-20T19:23:45.019Z"
   },
   {
    "duration": 0,
    "start_time": "2024-03-20T19:24:22.845Z"
   },
   {
    "duration": 1774,
    "start_time": "2024-03-21T08:17:12.081Z"
   },
   {
    "duration": 2,
    "start_time": "2024-03-21T08:17:13.857Z"
   },
   {
    "duration": 3033,
    "start_time": "2024-03-21T08:17:13.861Z"
   },
   {
    "duration": 163,
    "start_time": "2024-03-21T08:17:16.895Z"
   },
   {
    "duration": 110,
    "start_time": "2024-03-21T08:17:17.060Z"
   },
   {
    "duration": 3077,
    "start_time": "2024-03-21T08:17:17.172Z"
   },
   {
    "duration": 15,
    "start_time": "2024-03-21T08:17:20.250Z"
   },
   {
    "duration": 39,
    "start_time": "2024-03-21T08:17:20.267Z"
   },
   {
    "duration": 28,
    "start_time": "2024-03-21T08:17:20.308Z"
   },
   {
    "duration": 8,
    "start_time": "2024-03-21T08:17:20.338Z"
   },
   {
    "duration": 40,
    "start_time": "2024-03-21T08:17:20.347Z"
   },
   {
    "duration": 8,
    "start_time": "2024-03-21T08:17:20.389Z"
   },
   {
    "duration": 32,
    "start_time": "2024-03-21T08:17:20.398Z"
   },
   {
    "duration": 78,
    "start_time": "2024-03-21T08:17:20.433Z"
   },
   {
    "duration": 19,
    "start_time": "2024-03-21T08:17:20.512Z"
   },
   {
    "duration": 86,
    "start_time": "2024-03-21T08:17:20.533Z"
   },
   {
    "duration": 57,
    "start_time": "2024-03-21T08:17:20.621Z"
   },
   {
    "duration": 20,
    "start_time": "2024-03-21T08:17:20.688Z"
   },
   {
    "duration": 91,
    "start_time": "2024-03-21T08:17:20.709Z"
   },
   {
    "duration": 66,
    "start_time": "2024-03-21T08:17:20.802Z"
   },
   {
    "duration": 18,
    "start_time": "2024-03-21T08:17:20.870Z"
   },
   {
    "duration": 1528,
    "start_time": "2024-03-21T08:17:20.889Z"
   },
   {
    "duration": 11,
    "start_time": "2024-03-21T08:17:22.418Z"
   },
   {
    "duration": 123,
    "start_time": "2024-03-21T08:17:22.430Z"
   },
   {
    "duration": 0,
    "start_time": "2024-03-21T08:17:22.555Z"
   },
   {
    "duration": 0,
    "start_time": "2024-03-21T08:17:22.556Z"
   },
   {
    "duration": 11,
    "start_time": "2024-03-21T08:18:02.265Z"
   },
   {
    "duration": 12,
    "start_time": "2024-03-21T08:19:11.556Z"
   },
   {
    "duration": 114,
    "start_time": "2024-03-21T08:20:10.566Z"
   },
   {
    "duration": 0,
    "start_time": "2024-03-21T08:20:10.682Z"
   },
   {
    "duration": 0,
    "start_time": "2024-03-21T08:20:10.683Z"
   },
   {
    "duration": 0,
    "start_time": "2024-03-21T08:20:10.684Z"
   },
   {
    "duration": 0,
    "start_time": "2024-03-21T08:20:10.685Z"
   },
   {
    "duration": 0,
    "start_time": "2024-03-21T08:20:10.687Z"
   },
   {
    "duration": 0,
    "start_time": "2024-03-21T08:20:10.688Z"
   },
   {
    "duration": 0,
    "start_time": "2024-03-21T08:20:10.692Z"
   },
   {
    "duration": 0,
    "start_time": "2024-03-21T08:20:10.693Z"
   },
   {
    "duration": 0,
    "start_time": "2024-03-21T08:20:10.694Z"
   },
   {
    "duration": 0,
    "start_time": "2024-03-21T08:20:10.699Z"
   },
   {
    "duration": 0,
    "start_time": "2024-03-21T08:20:10.700Z"
   },
   {
    "duration": 0,
    "start_time": "2024-03-21T08:20:10.701Z"
   },
   {
    "duration": 0,
    "start_time": "2024-03-21T08:20:10.703Z"
   },
   {
    "duration": 0,
    "start_time": "2024-03-21T08:20:10.704Z"
   },
   {
    "duration": 0,
    "start_time": "2024-03-21T08:20:10.705Z"
   },
   {
    "duration": 0,
    "start_time": "2024-03-21T08:20:10.706Z"
   },
   {
    "duration": 0,
    "start_time": "2024-03-21T08:20:10.708Z"
   },
   {
    "duration": 0,
    "start_time": "2024-03-21T08:20:10.708Z"
   },
   {
    "duration": 0,
    "start_time": "2024-03-21T08:20:10.709Z"
   },
   {
    "duration": 0,
    "start_time": "2024-03-21T08:20:10.711Z"
   },
   {
    "duration": 0,
    "start_time": "2024-03-21T08:20:10.711Z"
   },
   {
    "duration": 0,
    "start_time": "2024-03-21T08:20:10.712Z"
   },
   {
    "duration": 0,
    "start_time": "2024-03-21T08:20:10.713Z"
   },
   {
    "duration": 0,
    "start_time": "2024-03-21T08:20:10.714Z"
   },
   {
    "duration": 0,
    "start_time": "2024-03-21T08:20:10.715Z"
   },
   {
    "duration": 104,
    "start_time": "2024-03-21T08:20:29.831Z"
   },
   {
    "duration": 102,
    "start_time": "2024-03-21T08:20:51.700Z"
   },
   {
    "duration": 1559,
    "start_time": "2024-03-21T08:21:13.915Z"
   },
   {
    "duration": 1569,
    "start_time": "2024-03-21T08:41:13.890Z"
   },
   {
    "duration": 2,
    "start_time": "2024-03-21T08:41:15.463Z"
   },
   {
    "duration": 905,
    "start_time": "2024-03-21T08:41:15.467Z"
   },
   {
    "duration": 151,
    "start_time": "2024-03-21T08:41:16.374Z"
   },
   {
    "duration": 137,
    "start_time": "2024-03-21T08:41:16.528Z"
   },
   {
    "duration": 3111,
    "start_time": "2024-03-21T08:41:16.667Z"
   },
   {
    "duration": 20,
    "start_time": "2024-03-21T08:41:19.780Z"
   },
   {
    "duration": 47,
    "start_time": "2024-03-21T08:41:19.802Z"
   },
   {
    "duration": 32,
    "start_time": "2024-03-21T08:41:19.851Z"
   },
   {
    "duration": 1712,
    "start_time": "2024-03-21T08:41:19.885Z"
   },
   {
    "duration": 0,
    "start_time": "2024-03-21T08:41:21.599Z"
   },
   {
    "duration": 0,
    "start_time": "2024-03-21T08:41:21.600Z"
   },
   {
    "duration": 0,
    "start_time": "2024-03-21T08:41:21.601Z"
   },
   {
    "duration": 0,
    "start_time": "2024-03-21T08:41:21.602Z"
   },
   {
    "duration": 0,
    "start_time": "2024-03-21T08:41:21.603Z"
   },
   {
    "duration": 0,
    "start_time": "2024-03-21T08:41:21.604Z"
   },
   {
    "duration": 0,
    "start_time": "2024-03-21T08:41:21.605Z"
   },
   {
    "duration": 0,
    "start_time": "2024-03-21T08:41:21.606Z"
   },
   {
    "duration": 0,
    "start_time": "2024-03-21T08:41:21.607Z"
   },
   {
    "duration": 0,
    "start_time": "2024-03-21T08:41:21.608Z"
   },
   {
    "duration": 0,
    "start_time": "2024-03-21T08:41:21.609Z"
   },
   {
    "duration": 0,
    "start_time": "2024-03-21T08:41:21.610Z"
   },
   {
    "duration": 0,
    "start_time": "2024-03-21T08:41:21.611Z"
   },
   {
    "duration": 1,
    "start_time": "2024-03-21T08:41:21.612Z"
   },
   {
    "duration": 0,
    "start_time": "2024-03-21T08:41:21.614Z"
   },
   {
    "duration": 0,
    "start_time": "2024-03-21T08:41:21.615Z"
   },
   {
    "duration": 6,
    "start_time": "2024-03-21T08:41:44.655Z"
   },
   {
    "duration": 2,
    "start_time": "2024-03-21T08:41:51.313Z"
   },
   {
    "duration": 2,
    "start_time": "2024-03-21T08:41:51.564Z"
   },
   {
    "duration": 1507,
    "start_time": "2024-03-21T08:42:26.734Z"
   },
   {
    "duration": 3,
    "start_time": "2024-03-21T08:42:28.243Z"
   },
   {
    "duration": 934,
    "start_time": "2024-03-21T08:42:28.248Z"
   },
   {
    "duration": 152,
    "start_time": "2024-03-21T08:42:29.183Z"
   },
   {
    "duration": 105,
    "start_time": "2024-03-21T08:42:29.337Z"
   },
   {
    "duration": 3082,
    "start_time": "2024-03-21T08:42:29.444Z"
   },
   {
    "duration": 14,
    "start_time": "2024-03-21T08:42:32.528Z"
   },
   {
    "duration": 43,
    "start_time": "2024-03-21T08:42:32.544Z"
   },
   {
    "duration": 15,
    "start_time": "2024-03-21T08:42:32.589Z"
   },
   {
    "duration": 15,
    "start_time": "2024-03-21T08:42:32.605Z"
   },
   {
    "duration": 1720,
    "start_time": "2024-03-21T08:42:32.621Z"
   },
   {
    "duration": 0,
    "start_time": "2024-03-21T08:42:34.345Z"
   },
   {
    "duration": 0,
    "start_time": "2024-03-21T08:42:34.346Z"
   },
   {
    "duration": 1,
    "start_time": "2024-03-21T08:42:34.347Z"
   },
   {
    "duration": 0,
    "start_time": "2024-03-21T08:42:34.349Z"
   },
   {
    "duration": 0,
    "start_time": "2024-03-21T08:42:34.351Z"
   },
   {
    "duration": 0,
    "start_time": "2024-03-21T08:42:34.352Z"
   },
   {
    "duration": 0,
    "start_time": "2024-03-21T08:42:34.353Z"
   },
   {
    "duration": 0,
    "start_time": "2024-03-21T08:42:34.355Z"
   },
   {
    "duration": 0,
    "start_time": "2024-03-21T08:42:34.356Z"
   },
   {
    "duration": 0,
    "start_time": "2024-03-21T08:42:34.357Z"
   },
   {
    "duration": 0,
    "start_time": "2024-03-21T08:42:34.358Z"
   },
   {
    "duration": 0,
    "start_time": "2024-03-21T08:42:34.360Z"
   },
   {
    "duration": 0,
    "start_time": "2024-03-21T08:42:34.361Z"
   },
   {
    "duration": 0,
    "start_time": "2024-03-21T08:42:34.362Z"
   },
   {
    "duration": 0,
    "start_time": "2024-03-21T08:42:34.363Z"
   },
   {
    "duration": 100,
    "start_time": "2024-03-21T08:42:47.331Z"
   },
   {
    "duration": 29,
    "start_time": "2024-03-21T08:43:21.035Z"
   },
   {
    "duration": 7,
    "start_time": "2024-03-21T08:43:22.827Z"
   },
   {
    "duration": 30,
    "start_time": "2024-03-21T08:43:34.524Z"
   },
   {
    "duration": 58,
    "start_time": "2024-03-21T08:43:36.802Z"
   },
   {
    "duration": 33,
    "start_time": "2024-03-21T08:43:38.192Z"
   },
   {
    "duration": 1441,
    "start_time": "2024-03-21T08:43:46.569Z"
   },
   {
    "duration": 2,
    "start_time": "2024-03-21T08:43:48.012Z"
   },
   {
    "duration": 935,
    "start_time": "2024-03-21T08:43:48.016Z"
   },
   {
    "duration": 162,
    "start_time": "2024-03-21T08:43:48.953Z"
   },
   {
    "duration": 106,
    "start_time": "2024-03-21T08:43:49.117Z"
   },
   {
    "duration": 2972,
    "start_time": "2024-03-21T08:43:49.225Z"
   },
   {
    "duration": 12,
    "start_time": "2024-03-21T08:43:52.199Z"
   },
   {
    "duration": 38,
    "start_time": "2024-03-21T08:43:52.213Z"
   },
   {
    "duration": 27,
    "start_time": "2024-03-21T08:43:52.253Z"
   },
   {
    "duration": 11,
    "start_time": "2024-03-21T08:43:52.281Z"
   },
   {
    "duration": 46,
    "start_time": "2024-03-21T08:43:52.294Z"
   },
   {
    "duration": 7,
    "start_time": "2024-03-21T08:43:52.342Z"
   },
   {
    "duration": 40,
    "start_time": "2024-03-21T08:43:52.351Z"
   },
   {
    "duration": 58,
    "start_time": "2024-03-21T08:43:52.393Z"
   },
   {
    "duration": 20,
    "start_time": "2024-03-21T08:43:52.452Z"
   },
   {
    "duration": 81,
    "start_time": "2024-03-21T08:43:52.473Z"
   },
   {
    "duration": 54,
    "start_time": "2024-03-21T08:43:52.556Z"
   },
   {
    "duration": 13,
    "start_time": "2024-03-21T08:43:52.611Z"
   },
   {
    "duration": 95,
    "start_time": "2024-03-21T08:43:52.625Z"
   },
   {
    "duration": 66,
    "start_time": "2024-03-21T08:43:52.722Z"
   },
   {
    "duration": 5,
    "start_time": "2024-03-21T08:43:52.789Z"
   },
   {
    "duration": 1629,
    "start_time": "2024-03-21T08:43:52.795Z"
   },
   {
    "duration": 16,
    "start_time": "2024-03-21T08:43:54.426Z"
   },
   {
    "duration": 159,
    "start_time": "2024-03-21T08:43:54.444Z"
   },
   {
    "duration": 0,
    "start_time": "2024-03-21T08:43:54.604Z"
   },
   {
    "duration": 0,
    "start_time": "2024-03-21T08:43:54.605Z"
   },
   {
    "duration": 98477,
    "start_time": "2024-03-21T08:45:01.011Z"
   },
   {
    "duration": 75603,
    "start_time": "2024-03-21T08:46:39.496Z"
   },
   {
    "duration": 188,
    "start_time": "2024-03-21T08:47:55.101Z"
   },
   {
    "duration": 66,
    "start_time": "2024-03-21T08:50:46.190Z"
   },
   {
    "duration": 1417,
    "start_time": "2024-03-21T08:51:37.596Z"
   },
   {
    "duration": 3,
    "start_time": "2024-03-21T08:51:39.015Z"
   },
   {
    "duration": 915,
    "start_time": "2024-03-21T08:51:39.019Z"
   },
   {
    "duration": 162,
    "start_time": "2024-03-21T08:51:39.935Z"
   },
   {
    "duration": 107,
    "start_time": "2024-03-21T08:51:40.099Z"
   },
   {
    "duration": 2987,
    "start_time": "2024-03-21T08:51:40.208Z"
   },
   {
    "duration": 16,
    "start_time": "2024-03-21T08:51:43.197Z"
   },
   {
    "duration": 30,
    "start_time": "2024-03-21T08:51:43.214Z"
   },
   {
    "duration": 17,
    "start_time": "2024-03-21T08:51:43.246Z"
   },
   {
    "duration": 6,
    "start_time": "2024-03-21T08:51:43.265Z"
   },
   {
    "duration": 29,
    "start_time": "2024-03-21T08:51:43.288Z"
   },
   {
    "duration": 7,
    "start_time": "2024-03-21T08:51:43.319Z"
   },
   {
    "duration": 31,
    "start_time": "2024-03-21T08:51:43.327Z"
   },
   {
    "duration": 93,
    "start_time": "2024-03-21T08:51:43.361Z"
   },
   {
    "duration": 19,
    "start_time": "2024-03-21T08:51:43.456Z"
   },
   {
    "duration": 84,
    "start_time": "2024-03-21T08:51:43.488Z"
   },
   {
    "duration": 51,
    "start_time": "2024-03-21T08:51:43.573Z"
   },
   {
    "duration": 13,
    "start_time": "2024-03-21T08:51:43.626Z"
   },
   {
    "duration": 99,
    "start_time": "2024-03-21T08:51:43.641Z"
   },
   {
    "duration": 68,
    "start_time": "2024-03-21T08:51:43.742Z"
   },
   {
    "duration": 5,
    "start_time": "2024-03-21T08:51:43.811Z"
   },
   {
    "duration": 1625,
    "start_time": "2024-03-21T08:51:43.817Z"
   },
   {
    "duration": 124,
    "start_time": "2024-03-21T08:51:45.444Z"
   },
   {
    "duration": 0,
    "start_time": "2024-03-21T08:51:45.569Z"
   },
   {
    "duration": 0,
    "start_time": "2024-03-21T08:51:45.571Z"
   },
   {
    "duration": 0,
    "start_time": "2024-03-21T08:51:45.572Z"
   },
   {
    "duration": 0,
    "start_time": "2024-03-21T08:51:45.573Z"
   },
   {
    "duration": 24,
    "start_time": "2024-03-21T08:53:07.813Z"
   },
   {
    "duration": 72094,
    "start_time": "2024-03-21T08:54:38.895Z"
   },
   {
    "duration": 97320,
    "start_time": "2024-03-21T08:58:44.673Z"
   },
   {
    "duration": 72279,
    "start_time": "2024-03-21T09:02:53.610Z"
   },
   {
    "duration": 5,
    "start_time": "2024-03-21T09:05:38.775Z"
   },
   {
    "duration": 1563,
    "start_time": "2024-03-21T09:05:39.846Z"
   },
   {
    "duration": 2,
    "start_time": "2024-03-21T09:05:43.497Z"
   },
   {
    "duration": 74104,
    "start_time": "2024-03-21T09:05:44.083Z"
   },
   {
    "duration": 79401,
    "start_time": "2024-03-21T09:06:58.190Z"
   },
   {
    "duration": 3556,
    "start_time": "2024-03-21T09:11:16.408Z"
   },
   {
    "duration": 121,
    "start_time": "2024-03-21T09:21:29.691Z"
   },
   {
    "duration": 88,
    "start_time": "2024-03-21T09:27:17.551Z"
   },
   {
    "duration": 80,
    "start_time": "2024-03-21T09:28:55.926Z"
   },
   {
    "duration": 100,
    "start_time": "2024-03-21T09:29:19.091Z"
   },
   {
    "duration": 90,
    "start_time": "2024-03-21T09:29:30.049Z"
   },
   {
    "duration": 7,
    "start_time": "2024-03-21T09:41:29.526Z"
   },
   {
    "duration": 5,
    "start_time": "2024-03-21T09:42:22.319Z"
   },
   {
    "duration": 1702,
    "start_time": "2024-03-21T09:42:36.444Z"
   },
   {
    "duration": 3,
    "start_time": "2024-03-21T09:42:38.148Z"
   },
   {
    "duration": 1029,
    "start_time": "2024-03-21T09:42:38.153Z"
   },
   {
    "duration": 214,
    "start_time": "2024-03-21T09:42:39.184Z"
   },
   {
    "duration": 117,
    "start_time": "2024-03-21T09:42:39.401Z"
   },
   {
    "duration": 3455,
    "start_time": "2024-03-21T09:42:39.520Z"
   },
   {
    "duration": 21,
    "start_time": "2024-03-21T09:42:42.977Z"
   },
   {
    "duration": 26,
    "start_time": "2024-03-21T09:42:43.002Z"
   },
   {
    "duration": 26,
    "start_time": "2024-03-21T09:42:43.029Z"
   },
   {
    "duration": 9,
    "start_time": "2024-03-21T09:42:43.057Z"
   },
   {
    "duration": 24,
    "start_time": "2024-03-21T09:42:43.067Z"
   },
   {
    "duration": 6,
    "start_time": "2024-03-21T09:42:43.101Z"
   },
   {
    "duration": 17,
    "start_time": "2024-03-21T09:42:43.109Z"
   },
   {
    "duration": 9,
    "start_time": "2024-03-21T09:42:43.129Z"
   },
   {
    "duration": 10,
    "start_time": "2024-03-21T09:42:43.139Z"
   },
   {
    "duration": 7,
    "start_time": "2024-03-21T09:42:43.151Z"
   },
   {
    "duration": 9,
    "start_time": "2024-03-21T09:42:43.159Z"
   },
   {
    "duration": 38,
    "start_time": "2024-03-21T09:42:43.170Z"
   },
   {
    "duration": 15,
    "start_time": "2024-03-21T09:42:43.210Z"
   },
   {
    "duration": 41,
    "start_time": "2024-03-21T09:42:43.227Z"
   },
   {
    "duration": 148,
    "start_time": "2024-03-21T09:42:43.270Z"
   },
   {
    "duration": 0,
    "start_time": "2024-03-21T09:42:43.420Z"
   },
   {
    "duration": 0,
    "start_time": "2024-03-21T09:42:43.422Z"
   },
   {
    "duration": 0,
    "start_time": "2024-03-21T09:42:43.424Z"
   },
   {
    "duration": 0,
    "start_time": "2024-03-21T09:42:43.425Z"
   },
   {
    "duration": 0,
    "start_time": "2024-03-21T09:42:43.426Z"
   },
   {
    "duration": 0,
    "start_time": "2024-03-21T09:42:43.428Z"
   },
   {
    "duration": 0,
    "start_time": "2024-03-21T09:42:43.429Z"
   },
   {
    "duration": 0,
    "start_time": "2024-03-21T09:42:43.430Z"
   },
   {
    "duration": 0,
    "start_time": "2024-03-21T09:42:43.432Z"
   },
   {
    "duration": 1596,
    "start_time": "2024-03-21T09:44:12.218Z"
   },
   {
    "duration": 3,
    "start_time": "2024-03-21T09:44:13.816Z"
   },
   {
    "duration": 1018,
    "start_time": "2024-03-21T09:44:13.821Z"
   },
   {
    "duration": 187,
    "start_time": "2024-03-21T09:44:14.841Z"
   },
   {
    "duration": 153,
    "start_time": "2024-03-21T09:44:15.030Z"
   },
   {
    "duration": 3348,
    "start_time": "2024-03-21T09:44:15.185Z"
   },
   {
    "duration": 20,
    "start_time": "2024-03-21T09:44:18.535Z"
   },
   {
    "duration": 47,
    "start_time": "2024-03-21T09:44:18.557Z"
   },
   {
    "duration": 14,
    "start_time": "2024-03-21T09:44:18.606Z"
   },
   {
    "duration": 12,
    "start_time": "2024-03-21T09:44:18.622Z"
   },
   {
    "duration": 12,
    "start_time": "2024-03-21T09:44:18.635Z"
   },
   {
    "duration": 3,
    "start_time": "2024-03-21T09:44:18.649Z"
   },
   {
    "duration": 9,
    "start_time": "2024-03-21T09:44:18.654Z"
   },
   {
    "duration": 8,
    "start_time": "2024-03-21T09:44:18.692Z"
   },
   {
    "duration": 19,
    "start_time": "2024-03-21T09:44:18.702Z"
   },
   {
    "duration": 5,
    "start_time": "2024-03-21T09:44:18.722Z"
   },
   {
    "duration": 24,
    "start_time": "2024-03-21T09:44:18.729Z"
   },
   {
    "duration": 50,
    "start_time": "2024-03-21T09:44:18.755Z"
   },
   {
    "duration": 24,
    "start_time": "2024-03-21T09:44:18.808Z"
   },
   {
    "duration": 13,
    "start_time": "2024-03-21T09:44:18.834Z"
   },
   {
    "duration": 8,
    "start_time": "2024-03-21T09:44:18.849Z"
   },
   {
    "duration": 167,
    "start_time": "2024-03-21T09:44:18.859Z"
   },
   {
    "duration": 0,
    "start_time": "2024-03-21T09:44:19.027Z"
   },
   {
    "duration": 0,
    "start_time": "2024-03-21T09:44:19.028Z"
   },
   {
    "duration": 0,
    "start_time": "2024-03-21T09:44:19.029Z"
   },
   {
    "duration": 0,
    "start_time": "2024-03-21T09:44:19.031Z"
   },
   {
    "duration": 0,
    "start_time": "2024-03-21T09:44:19.032Z"
   },
   {
    "duration": 0,
    "start_time": "2024-03-21T09:44:19.033Z"
   },
   {
    "duration": 0,
    "start_time": "2024-03-21T09:44:19.034Z"
   },
   {
    "duration": 0,
    "start_time": "2024-03-21T09:44:19.035Z"
   },
   {
    "duration": 1551,
    "start_time": "2024-03-21T09:45:23.524Z"
   },
   {
    "duration": 3,
    "start_time": "2024-03-21T09:45:25.077Z"
   },
   {
    "duration": 962,
    "start_time": "2024-03-21T09:45:25.081Z"
   },
   {
    "duration": 179,
    "start_time": "2024-03-21T09:45:26.045Z"
   },
   {
    "duration": 108,
    "start_time": "2024-03-21T09:45:26.226Z"
   },
   {
    "duration": 3218,
    "start_time": "2024-03-21T09:45:26.335Z"
   },
   {
    "duration": 14,
    "start_time": "2024-03-21T09:45:29.555Z"
   },
   {
    "duration": 43,
    "start_time": "2024-03-21T09:45:29.571Z"
   },
   {
    "duration": 38,
    "start_time": "2024-03-21T09:45:29.615Z"
   },
   {
    "duration": 19,
    "start_time": "2024-03-21T09:45:29.655Z"
   },
   {
    "duration": 37,
    "start_time": "2024-03-21T09:45:29.676Z"
   },
   {
    "duration": 24,
    "start_time": "2024-03-21T09:45:29.715Z"
   },
   {
    "duration": 5,
    "start_time": "2024-03-21T09:45:29.741Z"
   },
   {
    "duration": 14,
    "start_time": "2024-03-21T09:45:29.749Z"
   },
   {
    "duration": 85,
    "start_time": "2024-03-21T09:45:29.765Z"
   },
   {
    "duration": 14,
    "start_time": "2024-03-21T09:45:29.852Z"
   },
   {
    "duration": 86,
    "start_time": "2024-03-21T09:45:29.867Z"
   },
   {
    "duration": 48,
    "start_time": "2024-03-21T09:45:29.955Z"
   },
   {
    "duration": 65,
    "start_time": "2024-03-21T09:45:30.005Z"
   },
   {
    "duration": 83,
    "start_time": "2024-03-21T09:45:30.072Z"
   },
   {
    "duration": 158,
    "start_time": "2024-03-21T09:45:30.157Z"
   },
   {
    "duration": 177,
    "start_time": "2024-03-21T09:45:30.317Z"
   },
   {
    "duration": 0,
    "start_time": "2024-03-21T09:45:30.498Z"
   },
   {
    "duration": 0,
    "start_time": "2024-03-21T09:45:30.502Z"
   },
   {
    "duration": 0,
    "start_time": "2024-03-21T09:45:30.503Z"
   },
   {
    "duration": 0,
    "start_time": "2024-03-21T09:45:30.505Z"
   },
   {
    "duration": 0,
    "start_time": "2024-03-21T09:45:30.507Z"
   },
   {
    "duration": 0,
    "start_time": "2024-03-21T09:45:30.509Z"
   },
   {
    "duration": 0,
    "start_time": "2024-03-21T09:45:30.510Z"
   },
   {
    "duration": 0,
    "start_time": "2024-03-21T09:45:30.511Z"
   },
   {
    "duration": 4,
    "start_time": "2024-03-21T09:46:54.202Z"
   },
   {
    "duration": 1015,
    "start_time": "2024-03-21T09:47:01.962Z"
   },
   {
    "duration": 86991,
    "start_time": "2024-03-21T09:47:04.699Z"
   },
   {
    "duration": 118,
    "start_time": "2024-03-21T09:58:38.056Z"
   },
   {
    "duration": 3577,
    "start_time": "2024-03-21T09:58:52.160Z"
   },
   {
    "duration": 10,
    "start_time": "2024-03-21T09:59:25.992Z"
   },
   {
    "duration": 45894,
    "start_time": "2024-03-21T09:59:36.200Z"
   },
   {
    "duration": 15316,
    "start_time": "2024-03-21T10:00:22.096Z"
   },
   {
    "duration": 5,
    "start_time": "2024-03-21T10:01:21.698Z"
   },
   {
    "duration": 1635,
    "start_time": "2024-03-21T10:01:37.121Z"
   },
   {
    "duration": 1648,
    "start_time": "2024-03-21T10:02:09.140Z"
   },
   {
    "duration": 6,
    "start_time": "2024-03-21T10:03:04.378Z"
   },
   {
    "duration": 933,
    "start_time": "2024-03-21T10:03:06.418Z"
   },
   {
    "duration": 55295,
    "start_time": "2024-03-21T10:05:03.794Z"
   },
   {
    "duration": 931,
    "start_time": "2024-03-21T10:07:36.108Z"
   },
   {
    "duration": 54350,
    "start_time": "2024-03-21T10:07:41.150Z"
   },
   {
    "duration": 1569,
    "start_time": "2024-03-21T10:18:56.680Z"
   },
   {
    "duration": 3,
    "start_time": "2024-03-21T10:18:58.251Z"
   },
   {
    "duration": 993,
    "start_time": "2024-03-21T10:18:58.255Z"
   },
   {
    "duration": 174,
    "start_time": "2024-03-21T10:18:59.250Z"
   },
   {
    "duration": 107,
    "start_time": "2024-03-21T10:18:59.426Z"
   },
   {
    "duration": 3173,
    "start_time": "2024-03-21T10:18:59.535Z"
   },
   {
    "duration": 14,
    "start_time": "2024-03-21T10:19:02.710Z"
   },
   {
    "duration": 43,
    "start_time": "2024-03-21T10:19:02.726Z"
   },
   {
    "duration": 29,
    "start_time": "2024-03-21T10:19:02.770Z"
   },
   {
    "duration": 11,
    "start_time": "2024-03-21T10:19:02.800Z"
   },
   {
    "duration": 33,
    "start_time": "2024-03-21T10:19:02.813Z"
   },
   {
    "duration": 25,
    "start_time": "2024-03-21T10:19:02.848Z"
   },
   {
    "duration": 7,
    "start_time": "2024-03-21T10:19:02.888Z"
   },
   {
    "duration": 43,
    "start_time": "2024-03-21T10:19:02.899Z"
   },
   {
    "duration": 107,
    "start_time": "2024-03-21T10:19:02.944Z"
   },
   {
    "duration": 15,
    "start_time": "2024-03-21T10:19:03.053Z"
   },
   {
    "duration": 100,
    "start_time": "2024-03-21T10:19:03.070Z"
   },
   {
    "duration": 38,
    "start_time": "2024-03-21T10:19:03.172Z"
   },
   {
    "duration": 144,
    "start_time": "2024-03-21T10:19:03.211Z"
   },
   {
    "duration": 135,
    "start_time": "2024-03-21T10:19:03.357Z"
   },
   {
    "duration": 0,
    "start_time": "2024-03-21T10:19:03.494Z"
   },
   {
    "duration": 0,
    "start_time": "2024-03-21T10:19:03.495Z"
   },
   {
    "duration": 0,
    "start_time": "2024-03-21T10:19:03.496Z"
   },
   {
    "duration": 0,
    "start_time": "2024-03-21T10:19:03.497Z"
   },
   {
    "duration": 0,
    "start_time": "2024-03-21T10:19:03.498Z"
   },
   {
    "duration": 0,
    "start_time": "2024-03-21T10:19:03.499Z"
   },
   {
    "duration": 0,
    "start_time": "2024-03-21T10:19:03.500Z"
   },
   {
    "duration": 12,
    "start_time": "2024-03-21T10:23:54.507Z"
   },
   {
    "duration": 1701,
    "start_time": "2024-03-21T10:24:22.289Z"
   },
   {
    "duration": 0,
    "start_time": "2024-03-21T10:24:23.992Z"
   },
   {
    "duration": 0,
    "start_time": "2024-03-21T10:24:23.994Z"
   },
   {
    "duration": 0,
    "start_time": "2024-03-21T10:24:23.995Z"
   },
   {
    "duration": 0,
    "start_time": "2024-03-21T10:24:23.996Z"
   },
   {
    "duration": 0,
    "start_time": "2024-03-21T10:24:23.997Z"
   },
   {
    "duration": 0,
    "start_time": "2024-03-21T10:24:23.998Z"
   },
   {
    "duration": 0,
    "start_time": "2024-03-21T10:24:23.999Z"
   },
   {
    "duration": 0,
    "start_time": "2024-03-21T10:24:24.000Z"
   },
   {
    "duration": 0,
    "start_time": "2024-03-21T10:24:24.001Z"
   },
   {
    "duration": 0,
    "start_time": "2024-03-21T10:24:24.001Z"
   },
   {
    "duration": 0,
    "start_time": "2024-03-21T10:24:24.002Z"
   },
   {
    "duration": 0,
    "start_time": "2024-03-21T10:24:24.003Z"
   },
   {
    "duration": 0,
    "start_time": "2024-03-21T10:24:24.004Z"
   },
   {
    "duration": 0,
    "start_time": "2024-03-21T10:24:24.005Z"
   },
   {
    "duration": 0,
    "start_time": "2024-03-21T10:24:24.006Z"
   },
   {
    "duration": 0,
    "start_time": "2024-03-21T10:24:24.006Z"
   },
   {
    "duration": 0,
    "start_time": "2024-03-21T10:24:24.008Z"
   },
   {
    "duration": 0,
    "start_time": "2024-03-21T10:24:24.009Z"
   },
   {
    "duration": 0,
    "start_time": "2024-03-21T10:24:24.010Z"
   },
   {
    "duration": 1,
    "start_time": "2024-03-21T10:24:24.010Z"
   },
   {
    "duration": 0,
    "start_time": "2024-03-21T10:24:24.011Z"
   },
   {
    "duration": 0,
    "start_time": "2024-03-21T10:24:24.012Z"
   },
   {
    "duration": 0,
    "start_time": "2024-03-21T10:24:24.013Z"
   },
   {
    "duration": 0,
    "start_time": "2024-03-21T10:24:24.014Z"
   },
   {
    "duration": 0,
    "start_time": "2024-03-21T10:24:24.015Z"
   },
   {
    "duration": 0,
    "start_time": "2024-03-21T10:24:24.016Z"
   },
   {
    "duration": 3513,
    "start_time": "2024-03-21T10:25:52.436Z"
   },
   {
    "duration": 4122,
    "start_time": "2024-03-21T10:26:02.951Z"
   },
   {
    "duration": 3,
    "start_time": "2024-03-21T10:26:07.075Z"
   },
   {
    "duration": 952,
    "start_time": "2024-03-21T10:26:07.080Z"
   },
   {
    "duration": 167,
    "start_time": "2024-03-21T10:26:08.033Z"
   },
   {
    "duration": 112,
    "start_time": "2024-03-21T10:26:08.203Z"
   },
   {
    "duration": 3046,
    "start_time": "2024-03-21T10:26:08.316Z"
   },
   {
    "duration": 13,
    "start_time": "2024-03-21T10:26:11.363Z"
   },
   {
    "duration": 30,
    "start_time": "2024-03-21T10:26:11.378Z"
   },
   {
    "duration": 28,
    "start_time": "2024-03-21T10:26:11.410Z"
   },
   {
    "duration": 19,
    "start_time": "2024-03-21T10:26:11.439Z"
   },
   {
    "duration": 39,
    "start_time": "2024-03-21T10:26:11.460Z"
   },
   {
    "duration": 27,
    "start_time": "2024-03-21T10:26:11.501Z"
   },
   {
    "duration": 11,
    "start_time": "2024-03-21T10:26:11.529Z"
   },
   {
    "duration": 26,
    "start_time": "2024-03-21T10:26:11.542Z"
   },
   {
    "duration": 65,
    "start_time": "2024-03-21T10:26:11.570Z"
   },
   {
    "duration": 14,
    "start_time": "2024-03-21T10:26:11.636Z"
   },
   {
    "duration": 74,
    "start_time": "2024-03-21T10:26:11.652Z"
   },
   {
    "duration": 35,
    "start_time": "2024-03-21T10:26:11.727Z"
   },
   {
    "duration": 70,
    "start_time": "2024-03-21T10:26:11.764Z"
   },
   {
    "duration": 3183,
    "start_time": "2024-03-21T10:26:11.836Z"
   },
   {
    "duration": 54,
    "start_time": "2024-03-21T10:26:15.021Z"
   },
   {
    "duration": 56,
    "start_time": "2024-03-21T10:26:15.077Z"
   },
   {
    "duration": 20,
    "start_time": "2024-03-21T10:26:15.135Z"
   },
   {
    "duration": 45,
    "start_time": "2024-03-21T10:26:15.157Z"
   },
   {
    "duration": 774,
    "start_time": "2024-03-21T10:26:15.203Z"
   },
   {
    "duration": 42823,
    "start_time": "2024-03-21T10:26:15.979Z"
   },
   {
    "duration": 4077,
    "start_time": "2024-03-21T10:27:30.138Z"
   },
   {
    "duration": 3,
    "start_time": "2024-03-21T10:27:34.217Z"
   },
   {
    "duration": 911,
    "start_time": "2024-03-21T10:27:34.221Z"
   },
   {
    "duration": 171,
    "start_time": "2024-03-21T10:27:35.133Z"
   },
   {
    "duration": 111,
    "start_time": "2024-03-21T10:27:35.307Z"
   },
   {
    "duration": 2973,
    "start_time": "2024-03-21T10:27:35.420Z"
   },
   {
    "duration": 13,
    "start_time": "2024-03-21T10:27:38.395Z"
   },
   {
    "duration": 27,
    "start_time": "2024-03-21T10:27:38.410Z"
   },
   {
    "duration": 18,
    "start_time": "2024-03-21T10:27:38.439Z"
   },
   {
    "duration": 8,
    "start_time": "2024-03-21T10:27:38.459Z"
   },
   {
    "duration": 47,
    "start_time": "2024-03-21T10:27:38.469Z"
   },
   {
    "duration": 24,
    "start_time": "2024-03-21T10:27:38.518Z"
   },
   {
    "duration": 6,
    "start_time": "2024-03-21T10:27:38.543Z"
   },
   {
    "duration": 18,
    "start_time": "2024-03-21T10:27:38.551Z"
   },
   {
    "duration": 55,
    "start_time": "2024-03-21T10:27:38.587Z"
   },
   {
    "duration": 13,
    "start_time": "2024-03-21T10:27:38.644Z"
   },
   {
    "duration": 81,
    "start_time": "2024-03-21T10:27:38.658Z"
   },
   {
    "duration": 37,
    "start_time": "2024-03-21T10:27:38.740Z"
   },
   {
    "duration": 69,
    "start_time": "2024-03-21T10:27:38.778Z"
   },
   {
    "duration": 3083,
    "start_time": "2024-03-21T10:27:38.849Z"
   },
   {
    "duration": 19,
    "start_time": "2024-03-21T10:27:41.934Z"
   },
   {
    "duration": 62,
    "start_time": "2024-03-21T10:27:41.954Z"
   },
   {
    "duration": 32,
    "start_time": "2024-03-21T10:27:42.017Z"
   },
   {
    "duration": 5,
    "start_time": "2024-03-21T10:27:42.051Z"
   },
   {
    "duration": 6,
    "start_time": "2024-03-21T10:27:42.058Z"
   },
   {
    "duration": 739,
    "start_time": "2024-03-21T10:27:42.066Z"
   },
   {
    "duration": 46795,
    "start_time": "2024-03-21T10:27:42.806Z"
   },
   {
    "duration": 4025,
    "start_time": "2024-03-21T10:29:19.925Z"
   },
   {
    "duration": 3,
    "start_time": "2024-03-21T10:29:23.953Z"
   },
   {
    "duration": 951,
    "start_time": "2024-03-21T10:29:23.960Z"
   },
   {
    "duration": 164,
    "start_time": "2024-03-21T10:29:24.913Z"
   },
   {
    "duration": 111,
    "start_time": "2024-03-21T10:29:25.079Z"
   },
   {
    "duration": 3041,
    "start_time": "2024-03-21T10:29:25.192Z"
   },
   {
    "duration": 15,
    "start_time": "2024-03-21T10:29:28.234Z"
   },
   {
    "duration": 41,
    "start_time": "2024-03-21T10:29:28.251Z"
   },
   {
    "duration": 16,
    "start_time": "2024-03-21T10:29:28.294Z"
   },
   {
    "duration": 17,
    "start_time": "2024-03-21T10:29:28.311Z"
   },
   {
    "duration": 35,
    "start_time": "2024-03-21T10:29:28.330Z"
   },
   {
    "duration": 29,
    "start_time": "2024-03-21T10:29:28.367Z"
   },
   {
    "duration": 8,
    "start_time": "2024-03-21T10:29:28.397Z"
   },
   {
    "duration": 15,
    "start_time": "2024-03-21T10:29:28.406Z"
   },
   {
    "duration": 72,
    "start_time": "2024-03-21T10:29:28.422Z"
   },
   {
    "duration": 13,
    "start_time": "2024-03-21T10:29:28.496Z"
   },
   {
    "duration": 76,
    "start_time": "2024-03-21T10:29:28.511Z"
   },
   {
    "duration": 37,
    "start_time": "2024-03-21T10:29:28.589Z"
   },
   {
    "duration": 76,
    "start_time": "2024-03-21T10:29:28.627Z"
   },
   {
    "duration": 4084,
    "start_time": "2024-03-21T10:29:28.705Z"
   },
   {
    "duration": 352,
    "start_time": "2024-03-21T10:29:32.791Z"
   },
   {
    "duration": 59,
    "start_time": "2024-03-21T10:29:33.145Z"
   },
   {
    "duration": 37,
    "start_time": "2024-03-21T10:29:33.206Z"
   },
   {
    "duration": 4,
    "start_time": "2024-03-21T10:29:33.245Z"
   },
   {
    "duration": 12,
    "start_time": "2024-03-21T10:29:33.251Z"
   },
   {
    "duration": 761,
    "start_time": "2024-03-21T10:29:33.266Z"
   },
   {
    "duration": 42968,
    "start_time": "2024-03-21T10:29:34.030Z"
   },
   {
    "duration": 3997,
    "start_time": "2024-03-21T10:35:15.890Z"
   },
   {
    "duration": 3,
    "start_time": "2024-03-21T10:35:19.889Z"
   },
   {
    "duration": 879,
    "start_time": "2024-03-21T10:35:19.894Z"
   },
   {
    "duration": 151,
    "start_time": "2024-03-21T10:35:20.774Z"
   },
   {
    "duration": 111,
    "start_time": "2024-03-21T10:35:20.927Z"
   },
   {
    "duration": 3028,
    "start_time": "2024-03-21T10:35:21.040Z"
   },
   {
    "duration": 18,
    "start_time": "2024-03-21T10:35:24.070Z"
   },
   {
    "duration": 26,
    "start_time": "2024-03-21T10:35:24.090Z"
   },
   {
    "duration": 18,
    "start_time": "2024-03-21T10:35:24.118Z"
   },
   {
    "duration": 6,
    "start_time": "2024-03-21T10:35:24.138Z"
   },
   {
    "duration": 52,
    "start_time": "2024-03-21T10:35:24.146Z"
   },
   {
    "duration": 24,
    "start_time": "2024-03-21T10:35:24.200Z"
   },
   {
    "duration": 7,
    "start_time": "2024-03-21T10:35:24.227Z"
   },
   {
    "duration": 16,
    "start_time": "2024-03-21T10:35:24.237Z"
   },
   {
    "duration": 74,
    "start_time": "2024-03-21T10:35:24.254Z"
   },
   {
    "duration": 15,
    "start_time": "2024-03-21T10:35:24.329Z"
   },
   {
    "duration": 87,
    "start_time": "2024-03-21T10:35:24.346Z"
   },
   {
    "duration": 40,
    "start_time": "2024-03-21T10:35:24.436Z"
   },
   {
    "duration": 62,
    "start_time": "2024-03-21T10:35:24.487Z"
   },
   {
    "duration": 3949,
    "start_time": "2024-03-21T10:35:24.551Z"
   },
   {
    "duration": 333,
    "start_time": "2024-03-21T10:35:28.501Z"
   },
   {
    "duration": 8,
    "start_time": "2024-03-21T10:35:28.835Z"
   },
   {
    "duration": 56,
    "start_time": "2024-03-21T10:35:28.845Z"
   },
   {
    "duration": 38,
    "start_time": "2024-03-21T10:35:28.903Z"
   },
   {
    "duration": 6,
    "start_time": "2024-03-21T10:35:28.943Z"
   },
   {
    "duration": 8,
    "start_time": "2024-03-21T10:35:28.950Z"
   },
   {
    "duration": 1679,
    "start_time": "2024-03-21T10:35:28.960Z"
   },
   {
    "duration": 0,
    "start_time": "2024-03-21T10:35:30.641Z"
   },
   {
    "duration": 0,
    "start_time": "2024-03-21T10:35:30.642Z"
   },
   {
    "duration": 4,
    "start_time": "2024-03-21T10:36:25.672Z"
   },
   {
    "duration": 604,
    "start_time": "2024-03-21T10:36:28.764Z"
   },
   {
    "duration": 39109,
    "start_time": "2024-03-21T10:36:31.378Z"
   },
   {
    "duration": 4012,
    "start_time": "2024-03-21T13:09:29.114Z"
   },
   {
    "duration": 4,
    "start_time": "2024-03-21T13:09:33.129Z"
   },
   {
    "duration": 910,
    "start_time": "2024-03-21T13:09:33.135Z"
   },
   {
    "duration": 154,
    "start_time": "2024-03-21T13:09:34.047Z"
   },
   {
    "duration": 141,
    "start_time": "2024-03-21T13:09:34.203Z"
   },
   {
    "duration": 3061,
    "start_time": "2024-03-21T13:09:34.346Z"
   },
   {
    "duration": 13,
    "start_time": "2024-03-21T13:09:37.408Z"
   },
   {
    "duration": 36,
    "start_time": "2024-03-21T13:09:37.422Z"
   },
   {
    "duration": 32,
    "start_time": "2024-03-21T13:09:37.460Z"
   },
   {
    "duration": 22,
    "start_time": "2024-03-21T13:09:37.493Z"
   },
   {
    "duration": 33,
    "start_time": "2024-03-21T13:09:37.516Z"
   },
   {
    "duration": 25,
    "start_time": "2024-03-21T13:09:37.550Z"
   },
   {
    "duration": 6,
    "start_time": "2024-03-21T13:09:37.577Z"
   },
   {
    "duration": 34,
    "start_time": "2024-03-21T13:09:37.586Z"
   },
   {
    "duration": 58,
    "start_time": "2024-03-21T13:09:37.621Z"
   },
   {
    "duration": 18,
    "start_time": "2024-03-21T13:09:37.681Z"
   },
   {
    "duration": 68,
    "start_time": "2024-03-21T13:09:37.701Z"
   },
   {
    "duration": 48,
    "start_time": "2024-03-21T13:09:37.771Z"
   },
   {
    "duration": 73,
    "start_time": "2024-03-21T13:09:37.820Z"
   },
   {
    "duration": 4025,
    "start_time": "2024-03-21T13:09:37.894Z"
   },
   {
    "duration": 346,
    "start_time": "2024-03-21T13:09:41.921Z"
   },
   {
    "duration": 8,
    "start_time": "2024-03-21T13:09:42.269Z"
   },
   {
    "duration": 54,
    "start_time": "2024-03-21T13:09:42.279Z"
   },
   {
    "duration": 843,
    "start_time": "2024-03-21T13:09:42.334Z"
   },
   {
    "duration": 0,
    "start_time": "2024-03-21T13:09:43.179Z"
   },
   {
    "duration": 0,
    "start_time": "2024-03-21T13:09:43.180Z"
   },
   {
    "duration": 0,
    "start_time": "2024-03-21T13:09:43.181Z"
   },
   {
    "duration": 0,
    "start_time": "2024-03-21T13:09:43.187Z"
   },
   {
    "duration": 0,
    "start_time": "2024-03-21T13:09:43.188Z"
   },
   {
    "duration": 9741,
    "start_time": "2024-03-21T13:15:39.756Z"
   },
   {
    "duration": 66,
    "start_time": "2024-03-21T13:18:00.805Z"
   },
   {
    "duration": 9785,
    "start_time": "2024-03-21T13:18:53.102Z"
   },
   {
    "duration": 10685,
    "start_time": "2024-03-21T13:19:18.710Z"
   },
   {
    "duration": 4048,
    "start_time": "2024-03-21T13:20:53.135Z"
   },
   {
    "duration": 3,
    "start_time": "2024-03-21T13:20:57.185Z"
   },
   {
    "duration": 907,
    "start_time": "2024-03-21T13:20:57.192Z"
   },
   {
    "duration": 166,
    "start_time": "2024-03-21T13:20:58.101Z"
   },
   {
    "duration": 166,
    "start_time": "2024-03-21T13:20:58.269Z"
   },
   {
    "duration": 3108,
    "start_time": "2024-03-21T13:20:58.436Z"
   },
   {
    "duration": 14,
    "start_time": "2024-03-21T13:21:01.547Z"
   },
   {
    "duration": 117,
    "start_time": "2024-03-21T13:21:01.563Z"
   },
   {
    "duration": 86,
    "start_time": "2024-03-21T13:21:01.682Z"
   },
   {
    "duration": 65,
    "start_time": "2024-03-21T13:21:01.770Z"
   },
   {
    "duration": 84,
    "start_time": "2024-03-21T13:21:01.837Z"
   },
   {
    "duration": 32,
    "start_time": "2024-03-21T13:21:01.923Z"
   },
   {
    "duration": 31,
    "start_time": "2024-03-21T13:21:01.958Z"
   },
   {
    "duration": 101,
    "start_time": "2024-03-21T13:21:01.991Z"
   },
   {
    "duration": 69,
    "start_time": "2024-03-21T13:21:02.094Z"
   },
   {
    "duration": 162,
    "start_time": "2024-03-21T13:21:02.164Z"
   },
   {
    "duration": 121,
    "start_time": "2024-03-21T13:21:02.328Z"
   },
   {
    "duration": 37,
    "start_time": "2024-03-21T13:21:02.451Z"
   },
   {
    "duration": 114,
    "start_time": "2024-03-21T13:21:02.489Z"
   },
   {
    "duration": 4320,
    "start_time": "2024-03-21T13:21:02.605Z"
   },
   {
    "duration": 354,
    "start_time": "2024-03-21T13:21:06.926Z"
   },
   {
    "duration": 9,
    "start_time": "2024-03-21T13:21:07.282Z"
   },
   {
    "duration": 49,
    "start_time": "2024-03-21T13:21:07.292Z"
   },
   {
    "duration": 57,
    "start_time": "2024-03-21T13:21:07.343Z"
   },
   {
    "duration": 15747,
    "start_time": "2024-03-21T13:21:07.401Z"
   },
   {
    "duration": 0,
    "start_time": "2024-03-21T13:21:23.149Z"
   },
   {
    "duration": 0,
    "start_time": "2024-03-21T13:21:23.150Z"
   },
   {
    "duration": 0,
    "start_time": "2024-03-21T13:21:23.152Z"
   },
   {
    "duration": 0,
    "start_time": "2024-03-21T13:21:23.153Z"
   },
   {
    "duration": 9680,
    "start_time": "2024-03-21T13:41:45.807Z"
   },
   {
    "duration": 10,
    "start_time": "2024-03-21T13:46:25.784Z"
   },
   {
    "duration": 37507,
    "start_time": "2024-03-21T13:46:54.392Z"
   },
   {
    "duration": 4268,
    "start_time": "2024-03-21T13:57:01.357Z"
   },
   {
    "duration": 3,
    "start_time": "2024-03-21T13:57:05.627Z"
   },
   {
    "duration": 919,
    "start_time": "2024-03-21T13:57:05.632Z"
   },
   {
    "duration": 174,
    "start_time": "2024-03-21T13:57:06.553Z"
   },
   {
    "duration": 111,
    "start_time": "2024-03-21T13:57:06.730Z"
   },
   {
    "duration": 3026,
    "start_time": "2024-03-21T13:57:06.842Z"
   },
   {
    "duration": 19,
    "start_time": "2024-03-21T13:57:09.869Z"
   },
   {
    "duration": 23,
    "start_time": "2024-03-21T13:57:09.890Z"
   },
   {
    "duration": 19,
    "start_time": "2024-03-21T13:57:09.914Z"
   },
   {
    "duration": 8,
    "start_time": "2024-03-21T13:57:09.934Z"
   },
   {
    "duration": 45,
    "start_time": "2024-03-21T13:57:09.944Z"
   },
   {
    "duration": 24,
    "start_time": "2024-03-21T13:57:09.991Z"
   },
   {
    "duration": 12,
    "start_time": "2024-03-21T13:57:10.017Z"
   },
   {
    "duration": 41,
    "start_time": "2024-03-21T13:57:10.031Z"
   },
   {
    "duration": 74,
    "start_time": "2024-03-21T13:57:10.073Z"
   },
   {
    "duration": 15,
    "start_time": "2024-03-21T13:57:10.149Z"
   },
   {
    "duration": 77,
    "start_time": "2024-03-21T13:57:10.165Z"
   },
   {
    "duration": 37,
    "start_time": "2024-03-21T13:57:10.243Z"
   },
   {
    "duration": 67,
    "start_time": "2024-03-21T13:57:10.281Z"
   },
   {
    "duration": 4082,
    "start_time": "2024-03-21T13:57:10.350Z"
   },
   {
    "duration": 385,
    "start_time": "2024-03-21T13:57:14.433Z"
   },
   {
    "duration": 8,
    "start_time": "2024-03-21T13:57:14.820Z"
   },
   {
    "duration": 66,
    "start_time": "2024-03-21T13:57:14.830Z"
   },
   {
    "duration": 35,
    "start_time": "2024-03-21T13:57:14.898Z"
   },
   {
    "duration": 9059,
    "start_time": "2024-03-21T13:57:14.935Z"
   },
   {
    "duration": 36596,
    "start_time": "2024-03-21T13:57:23.997Z"
   },
   {
    "duration": 112,
    "start_time": "2024-03-21T13:58:00.596Z"
   },
   {
    "duration": 0,
    "start_time": "2024-03-21T13:58:00.709Z"
   },
   {
    "duration": 3625,
    "start_time": "2024-03-21T13:58:44.799Z"
   },
   {
    "duration": 29352,
    "start_time": "2024-03-21T14:00:37.100Z"
   },
   {
    "duration": 28057,
    "start_time": "2024-03-21T14:01:31.090Z"
   },
   {
    "duration": 28061,
    "start_time": "2024-03-21T14:02:17.503Z"
   },
   {
    "duration": 4080,
    "start_time": "2024-03-21T14:10:00.837Z"
   },
   {
    "duration": 2,
    "start_time": "2024-03-21T14:10:04.920Z"
   },
   {
    "duration": 960,
    "start_time": "2024-03-21T14:10:04.924Z"
   },
   {
    "duration": 162,
    "start_time": "2024-03-21T14:10:05.886Z"
   },
   {
    "duration": 114,
    "start_time": "2024-03-21T14:10:06.051Z"
   },
   {
    "duration": 3055,
    "start_time": "2024-03-21T14:10:06.166Z"
   },
   {
    "duration": 14,
    "start_time": "2024-03-21T14:10:09.222Z"
   },
   {
    "duration": 25,
    "start_time": "2024-03-21T14:10:09.238Z"
   },
   {
    "duration": 32,
    "start_time": "2024-03-21T14:10:09.264Z"
   },
   {
    "duration": 8,
    "start_time": "2024-03-21T14:10:09.297Z"
   },
   {
    "duration": 30,
    "start_time": "2024-03-21T14:10:09.307Z"
   },
   {
    "duration": 55,
    "start_time": "2024-03-21T14:10:09.339Z"
   },
   {
    "duration": 7,
    "start_time": "2024-03-21T14:10:09.396Z"
   },
   {
    "duration": 15,
    "start_time": "2024-03-21T14:10:09.407Z"
   },
   {
    "duration": 79,
    "start_time": "2024-03-21T14:10:09.424Z"
   },
   {
    "duration": 14,
    "start_time": "2024-03-21T14:10:09.505Z"
   },
   {
    "duration": 72,
    "start_time": "2024-03-21T14:10:09.520Z"
   },
   {
    "duration": 35,
    "start_time": "2024-03-21T14:10:09.594Z"
   },
   {
    "duration": 75,
    "start_time": "2024-03-21T14:10:09.631Z"
   },
   {
    "duration": 4008,
    "start_time": "2024-03-21T14:10:09.708Z"
   },
   {
    "duration": 342,
    "start_time": "2024-03-21T14:10:13.718Z"
   },
   {
    "duration": 8,
    "start_time": "2024-03-21T14:10:14.062Z"
   },
   {
    "duration": 56,
    "start_time": "2024-03-21T14:10:14.072Z"
   },
   {
    "duration": 40,
    "start_time": "2024-03-21T14:10:14.130Z"
   },
   {
    "duration": 10028,
    "start_time": "2024-03-21T14:10:14.172Z"
   },
   {
    "duration": 36206,
    "start_time": "2024-03-21T14:10:24.288Z"
   },
   {
    "duration": 4111,
    "start_time": "2024-03-21T14:15:51.992Z"
   },
   {
    "duration": 3,
    "start_time": "2024-03-21T14:15:56.105Z"
   },
   {
    "duration": 945,
    "start_time": "2024-03-21T14:15:56.110Z"
   },
   {
    "duration": 153,
    "start_time": "2024-03-21T14:15:57.056Z"
   },
   {
    "duration": 152,
    "start_time": "2024-03-21T14:15:57.211Z"
   },
   {
    "duration": 3098,
    "start_time": "2024-03-21T14:15:57.365Z"
   },
   {
    "duration": 22,
    "start_time": "2024-03-21T14:16:00.465Z"
   },
   {
    "duration": 119,
    "start_time": "2024-03-21T14:16:00.489Z"
   },
   {
    "duration": 76,
    "start_time": "2024-03-21T14:16:00.610Z"
   },
   {
    "duration": 46,
    "start_time": "2024-03-21T14:16:00.688Z"
   },
   {
    "duration": 91,
    "start_time": "2024-03-21T14:16:00.735Z"
   },
   {
    "duration": 56,
    "start_time": "2024-03-21T14:16:00.828Z"
   },
   {
    "duration": 11,
    "start_time": "2024-03-21T14:16:00.886Z"
   },
   {
    "duration": 73,
    "start_time": "2024-03-21T14:16:00.900Z"
   },
   {
    "duration": 78,
    "start_time": "2024-03-21T14:16:00.975Z"
   },
   {
    "duration": 24,
    "start_time": "2024-03-21T14:16:01.054Z"
   },
   {
    "duration": 121,
    "start_time": "2024-03-21T14:16:01.079Z"
   },
   {
    "duration": 61,
    "start_time": "2024-03-21T14:16:01.202Z"
   },
   {
    "duration": 73,
    "start_time": "2024-03-21T14:16:01.265Z"
   },
   {
    "duration": 4199,
    "start_time": "2024-03-21T14:16:01.340Z"
   },
   {
    "duration": 372,
    "start_time": "2024-03-21T14:16:05.541Z"
   },
   {
    "duration": 8,
    "start_time": "2024-03-21T14:16:05.914Z"
   },
   {
    "duration": 93,
    "start_time": "2024-03-21T14:16:05.924Z"
   },
   {
    "duration": 34,
    "start_time": "2024-03-21T14:16:06.018Z"
   },
   {
    "duration": 9533,
    "start_time": "2024-03-21T14:16:06.054Z"
   },
   {
    "duration": 34898,
    "start_time": "2024-03-21T14:16:15.590Z"
   },
   {
    "duration": 4040,
    "start_time": "2024-03-21T14:51:04.601Z"
   },
   {
    "duration": 3,
    "start_time": "2024-03-21T14:51:08.644Z"
   },
   {
    "duration": 968,
    "start_time": "2024-03-21T14:51:08.649Z"
   },
   {
    "duration": 171,
    "start_time": "2024-03-21T14:51:09.619Z"
   },
   {
    "duration": 112,
    "start_time": "2024-03-21T14:51:09.793Z"
   },
   {
    "duration": 3015,
    "start_time": "2024-03-21T14:51:09.906Z"
   },
   {
    "duration": 14,
    "start_time": "2024-03-21T14:51:12.922Z"
   },
   {
    "duration": 40,
    "start_time": "2024-03-21T14:51:12.937Z"
   },
   {
    "duration": 39,
    "start_time": "2024-03-21T14:51:12.979Z"
   },
   {
    "duration": 26,
    "start_time": "2024-03-21T14:51:13.020Z"
   },
   {
    "duration": 40,
    "start_time": "2024-03-21T14:51:13.048Z"
   },
   {
    "duration": 24,
    "start_time": "2024-03-21T14:51:13.090Z"
   },
   {
    "duration": 6,
    "start_time": "2024-03-21T14:51:13.116Z"
   },
   {
    "duration": 36,
    "start_time": "2024-03-21T14:51:13.125Z"
   },
   {
    "duration": 58,
    "start_time": "2024-03-21T14:51:13.163Z"
   },
   {
    "duration": 16,
    "start_time": "2024-03-21T14:51:13.223Z"
   },
   {
    "duration": 75,
    "start_time": "2024-03-21T14:51:13.241Z"
   },
   {
    "duration": 37,
    "start_time": "2024-03-21T14:51:13.318Z"
   },
   {
    "duration": 72,
    "start_time": "2024-03-21T14:51:13.356Z"
   },
   {
    "duration": 4176,
    "start_time": "2024-03-21T14:51:13.430Z"
   },
   {
    "duration": 336,
    "start_time": "2024-03-21T14:51:17.608Z"
   },
   {
    "duration": 8,
    "start_time": "2024-03-21T14:51:17.946Z"
   },
   {
    "duration": 56,
    "start_time": "2024-03-21T14:51:17.956Z"
   },
   {
    "duration": 33,
    "start_time": "2024-03-21T14:51:18.013Z"
   },
   {
    "duration": 9451,
    "start_time": "2024-03-21T14:51:18.047Z"
   },
   {
    "duration": 38389,
    "start_time": "2024-03-21T14:51:27.500Z"
   },
   {
    "duration": 3958,
    "start_time": "2024-03-21T14:56:17.930Z"
   },
   {
    "duration": 3,
    "start_time": "2024-03-21T14:56:21.890Z"
   },
   {
    "duration": 876,
    "start_time": "2024-03-21T14:56:21.894Z"
   },
   {
    "duration": 159,
    "start_time": "2024-03-21T14:56:22.772Z"
   },
   {
    "duration": 150,
    "start_time": "2024-03-21T14:56:22.933Z"
   },
   {
    "duration": 3085,
    "start_time": "2024-03-21T14:56:23.085Z"
   },
   {
    "duration": 17,
    "start_time": "2024-03-21T14:56:26.172Z"
   },
   {
    "duration": 27,
    "start_time": "2024-03-21T14:56:26.191Z"
   },
   {
    "duration": 26,
    "start_time": "2024-03-21T14:56:26.220Z"
   },
   {
    "duration": 7,
    "start_time": "2024-03-21T14:56:26.248Z"
   },
   {
    "duration": 41,
    "start_time": "2024-03-21T14:56:26.256Z"
   },
   {
    "duration": 25,
    "start_time": "2024-03-21T14:56:26.298Z"
   },
   {
    "duration": 6,
    "start_time": "2024-03-21T14:56:26.325Z"
   },
   {
    "duration": 21,
    "start_time": "2024-03-21T14:56:26.334Z"
   },
   {
    "duration": 80,
    "start_time": "2024-03-21T14:56:26.357Z"
   },
   {
    "duration": 14,
    "start_time": "2024-03-21T14:56:26.439Z"
   },
   {
    "duration": 89,
    "start_time": "2024-03-21T14:56:26.455Z"
   },
   {
    "duration": 45,
    "start_time": "2024-03-21T14:56:26.546Z"
   },
   {
    "duration": 62,
    "start_time": "2024-03-21T14:56:26.593Z"
   },
   {
    "duration": 3961,
    "start_time": "2024-03-21T14:56:26.656Z"
   },
   {
    "duration": 356,
    "start_time": "2024-03-21T14:56:30.620Z"
   },
   {
    "duration": 13,
    "start_time": "2024-03-21T14:56:30.977Z"
   },
   {
    "duration": 155,
    "start_time": "2024-03-21T14:56:30.991Z"
   },
   {
    "duration": 66,
    "start_time": "2024-03-21T14:56:31.148Z"
   },
   {
    "duration": 9580,
    "start_time": "2024-03-21T14:56:31.216Z"
   },
   {
    "duration": 37302,
    "start_time": "2024-03-21T14:56:40.798Z"
   },
   {
    "duration": 28789,
    "start_time": "2024-03-21T14:57:18.189Z"
   },
   {
    "duration": 6,
    "start_time": "2024-03-21T14:57:46.988Z"
   },
   {
    "duration": 0,
    "start_time": "2024-03-21T14:57:46.996Z"
   },
   {
    "duration": 222,
    "start_time": "2024-03-21T14:59:20.413Z"
   },
   {
    "duration": 8306,
    "start_time": "2024-03-21T15:00:07.692Z"
   },
   {
    "duration": 4148,
    "start_time": "2024-03-21T15:01:12.425Z"
   },
   {
    "duration": 2,
    "start_time": "2024-03-21T15:01:16.576Z"
   },
   {
    "duration": 885,
    "start_time": "2024-03-21T15:01:16.579Z"
   },
   {
    "duration": 150,
    "start_time": "2024-03-21T15:01:17.466Z"
   },
   {
    "duration": 149,
    "start_time": "2024-03-21T15:01:17.619Z"
   },
   {
    "duration": 3014,
    "start_time": "2024-03-21T15:01:17.770Z"
   },
   {
    "duration": 14,
    "start_time": "2024-03-21T15:01:20.785Z"
   },
   {
    "duration": 36,
    "start_time": "2024-03-21T15:01:20.801Z"
   },
   {
    "duration": 23,
    "start_time": "2024-03-21T15:01:20.839Z"
   },
   {
    "duration": 9,
    "start_time": "2024-03-21T15:01:20.864Z"
   },
   {
    "duration": 35,
    "start_time": "2024-03-21T15:01:20.875Z"
   },
   {
    "duration": 25,
    "start_time": "2024-03-21T15:01:20.911Z"
   },
   {
    "duration": 6,
    "start_time": "2024-03-21T15:01:20.937Z"
   },
   {
    "duration": 44,
    "start_time": "2024-03-21T15:01:20.946Z"
   },
   {
    "duration": 61,
    "start_time": "2024-03-21T15:01:20.992Z"
   },
   {
    "duration": 21,
    "start_time": "2024-03-21T15:01:21.055Z"
   },
   {
    "duration": 91,
    "start_time": "2024-03-21T15:01:21.078Z"
   },
   {
    "duration": 46,
    "start_time": "2024-03-21T15:01:21.170Z"
   },
   {
    "duration": 79,
    "start_time": "2024-03-21T15:01:21.217Z"
   },
   {
    "duration": 4013,
    "start_time": "2024-03-21T15:01:21.297Z"
   },
   {
    "duration": 319,
    "start_time": "2024-03-21T15:01:25.312Z"
   },
   {
    "duration": 8,
    "start_time": "2024-03-21T15:01:25.633Z"
   },
   {
    "duration": 70,
    "start_time": "2024-03-21T15:01:25.642Z"
   },
   {
    "duration": 46,
    "start_time": "2024-03-21T15:01:25.714Z"
   },
   {
    "duration": 9825,
    "start_time": "2024-03-21T15:01:25.762Z"
   },
   {
    "duration": 35899,
    "start_time": "2024-03-21T15:01:35.593Z"
   },
   {
    "duration": 28368,
    "start_time": "2024-03-21T15:02:11.494Z"
   },
   {
    "duration": 2008953,
    "start_time": "2024-03-21T15:02:39.863Z"
   },
   {
    "duration": 7044,
    "start_time": "2024-03-21T15:36:08.818Z"
   },
   {
    "duration": 20849,
    "start_time": "2024-03-21T17:31:36.250Z"
   },
   {
    "duration": 4100,
    "start_time": "2024-03-21T18:21:24.246Z"
   },
   {
    "duration": 3,
    "start_time": "2024-03-21T18:21:28.348Z"
   },
   {
    "duration": 961,
    "start_time": "2024-03-21T18:21:28.352Z"
   },
   {
    "duration": 168,
    "start_time": "2024-03-21T18:21:29.315Z"
   },
   {
    "duration": 117,
    "start_time": "2024-03-21T18:21:29.487Z"
   },
   {
    "duration": 3234,
    "start_time": "2024-03-21T18:21:29.606Z"
   },
   {
    "duration": 13,
    "start_time": "2024-03-21T18:21:32.842Z"
   },
   {
    "duration": 42,
    "start_time": "2024-03-21T18:21:32.857Z"
   },
   {
    "duration": 18,
    "start_time": "2024-03-21T18:21:32.901Z"
   },
   {
    "duration": 17,
    "start_time": "2024-03-21T18:21:32.921Z"
   },
   {
    "duration": 33,
    "start_time": "2024-03-21T18:21:32.940Z"
   },
   {
    "duration": 27,
    "start_time": "2024-03-21T18:21:32.975Z"
   },
   {
    "duration": 5,
    "start_time": "2024-03-21T18:21:33.004Z"
   },
   {
    "duration": 32,
    "start_time": "2024-03-21T18:21:33.012Z"
   },
   {
    "duration": 66,
    "start_time": "2024-03-21T18:21:33.045Z"
   },
   {
    "duration": 13,
    "start_time": "2024-03-21T18:21:33.113Z"
   },
   {
    "duration": 78,
    "start_time": "2024-03-21T18:21:33.128Z"
   },
   {
    "duration": 36,
    "start_time": "2024-03-21T18:21:33.208Z"
   },
   {
    "duration": 88,
    "start_time": "2024-03-21T18:21:33.245Z"
   },
   {
    "duration": 4294,
    "start_time": "2024-03-21T18:21:33.335Z"
   },
   {
    "duration": 405,
    "start_time": "2024-03-21T18:21:37.631Z"
   },
   {
    "duration": 9,
    "start_time": "2024-03-21T18:21:38.038Z"
   },
   {
    "duration": 88,
    "start_time": "2024-03-21T18:21:38.048Z"
   },
   {
    "duration": 47,
    "start_time": "2024-03-21T18:21:38.138Z"
   },
   {
    "duration": 16111,
    "start_time": "2024-03-21T18:21:38.187Z"
   },
   {
    "duration": 63909,
    "start_time": "2024-03-21T18:21:54.300Z"
   },
   {
    "duration": 30042,
    "start_time": "2024-03-21T18:22:58.288Z"
   },
   {
    "duration": 3231144,
    "start_time": "2024-03-21T18:23:28.331Z"
   },
   {
    "duration": 47517,
    "start_time": "2024-03-21T19:17:19.477Z"
   },
   {
    "duration": 125,
    "start_time": "2024-03-21T19:39:35.733Z"
   },
   {
    "duration": 102,
    "start_time": "2024-03-21T19:42:34.199Z"
   },
   {
    "duration": 116,
    "start_time": "2024-03-21T19:43:08.584Z"
   },
   {
    "duration": 10,
    "start_time": "2024-03-21T19:43:14.526Z"
   },
   {
    "duration": 6285,
    "start_time": "2024-03-21T20:46:15.145Z"
   },
   {
    "duration": 3,
    "start_time": "2024-03-21T20:46:21.433Z"
   },
   {
    "duration": 2907,
    "start_time": "2024-03-21T20:46:21.438Z"
   },
   {
    "duration": 146,
    "start_time": "2024-03-21T20:46:24.346Z"
   },
   {
    "duration": 107,
    "start_time": "2024-03-21T20:46:24.495Z"
   },
   {
    "duration": 2938,
    "start_time": "2024-03-21T20:46:24.603Z"
   },
   {
    "duration": 13,
    "start_time": "2024-03-21T20:46:27.542Z"
   },
   {
    "duration": 31,
    "start_time": "2024-03-21T20:46:27.556Z"
   },
   {
    "duration": 17,
    "start_time": "2024-03-21T20:46:27.589Z"
   },
   {
    "duration": 15,
    "start_time": "2024-03-21T20:46:27.608Z"
   },
   {
    "duration": 28,
    "start_time": "2024-03-21T20:46:27.625Z"
   },
   {
    "duration": 34,
    "start_time": "2024-03-21T20:46:27.654Z"
   },
   {
    "duration": 8,
    "start_time": "2024-03-21T20:46:27.689Z"
   },
   {
    "duration": 14,
    "start_time": "2024-03-21T20:46:27.699Z"
   },
   {
    "duration": 82,
    "start_time": "2024-03-21T20:46:27.715Z"
   },
   {
    "duration": 12,
    "start_time": "2024-03-21T20:46:27.798Z"
   },
   {
    "duration": 74,
    "start_time": "2024-03-21T20:46:27.812Z"
   },
   {
    "duration": 36,
    "start_time": "2024-03-21T20:46:27.887Z"
   },
   {
    "duration": 73,
    "start_time": "2024-03-21T20:46:27.925Z"
   },
   {
    "duration": 3843,
    "start_time": "2024-03-21T20:46:27.999Z"
   },
   {
    "duration": 348,
    "start_time": "2024-03-21T20:46:31.844Z"
   },
   {
    "duration": 8,
    "start_time": "2024-03-21T20:46:32.194Z"
   },
   {
    "duration": 55,
    "start_time": "2024-03-21T20:46:32.203Z"
   },
   {
    "duration": 57,
    "start_time": "2024-03-21T20:46:32.260Z"
   },
   {
    "duration": 12162,
    "start_time": "2024-03-21T20:46:32.318Z"
   },
   {
    "duration": 96,
    "start_time": "2024-03-21T20:46:44.575Z"
   },
   {
    "duration": 51004,
    "start_time": "2024-03-21T20:46:44.672Z"
   },
   {
    "duration": 27157,
    "start_time": "2024-03-21T20:47:35.678Z"
   },
   {
    "duration": 1556781,
    "start_time": "2024-03-21T20:48:02.837Z"
   },
   {
    "duration": 373460,
    "start_time": "2024-03-21T21:13:59.620Z"
   },
   {
    "duration": 7,
    "start_time": "2024-03-21T21:20:13.084Z"
   },
   {
    "duration": 207,
    "start_time": "2024-03-21T21:20:13.093Z"
   },
   {
    "duration": 6296,
    "start_time": "2024-03-21T21:24:09.166Z"
   },
   {
    "duration": 35,
    "start_time": "2024-03-21T21:24:36.446Z"
   },
   {
    "duration": 30,
    "start_time": "2024-03-21T21:24:58.017Z"
   },
   {
    "duration": 2356,
    "start_time": "2024-03-21T21:25:23.217Z"
   },
   {
    "duration": 3910,
    "start_time": "2024-03-21T21:25:32.004Z"
   },
   {
    "duration": 3,
    "start_time": "2024-03-21T21:25:35.917Z"
   },
   {
    "duration": 898,
    "start_time": "2024-03-21T21:25:35.922Z"
   },
   {
    "duration": 152,
    "start_time": "2024-03-21T21:25:36.821Z"
   },
   {
    "duration": 102,
    "start_time": "2024-03-21T21:25:36.975Z"
   },
   {
    "duration": 2861,
    "start_time": "2024-03-21T21:25:37.079Z"
   },
   {
    "duration": 13,
    "start_time": "2024-03-21T21:25:39.942Z"
   },
   {
    "duration": 33,
    "start_time": "2024-03-21T21:25:39.957Z"
   },
   {
    "duration": 14,
    "start_time": "2024-03-21T21:25:39.991Z"
   },
   {
    "duration": 18,
    "start_time": "2024-03-21T21:25:40.007Z"
   },
   {
    "duration": 46,
    "start_time": "2024-03-21T21:25:40.026Z"
   },
   {
    "duration": 24,
    "start_time": "2024-03-21T21:25:40.074Z"
   },
   {
    "duration": 7,
    "start_time": "2024-03-21T21:25:40.099Z"
   },
   {
    "duration": 28,
    "start_time": "2024-03-21T21:25:40.108Z"
   },
   {
    "duration": 59,
    "start_time": "2024-03-21T21:25:40.138Z"
   },
   {
    "duration": 15,
    "start_time": "2024-03-21T21:25:40.198Z"
   },
   {
    "duration": 72,
    "start_time": "2024-03-21T21:25:40.214Z"
   },
   {
    "duration": 34,
    "start_time": "2024-03-21T21:25:40.287Z"
   },
   {
    "duration": 67,
    "start_time": "2024-03-21T21:25:40.323Z"
   },
   {
    "duration": 3861,
    "start_time": "2024-03-21T21:25:40.391Z"
   },
   {
    "duration": 350,
    "start_time": "2024-03-21T21:25:44.254Z"
   },
   {
    "duration": 8,
    "start_time": "2024-03-21T21:25:44.606Z"
   },
   {
    "duration": 58,
    "start_time": "2024-03-21T21:25:44.615Z"
   },
   {
    "duration": 33,
    "start_time": "2024-03-21T21:25:44.674Z"
   },
   {
    "duration": 12581,
    "start_time": "2024-03-21T21:25:44.709Z"
   },
   {
    "duration": 2325,
    "start_time": "2024-03-22T10:39:40.866Z"
   },
   {
    "duration": 3,
    "start_time": "2024-03-22T10:39:48.740Z"
   },
   {
    "duration": 1084,
    "start_time": "2024-03-22T10:39:53.046Z"
   },
   {
    "duration": 145,
    "start_time": "2024-03-22T10:39:54.245Z"
   },
   {
    "duration": 831,
    "start_time": "2024-03-22T10:39:56.437Z"
   },
   {
    "duration": 150,
    "start_time": "2024-03-22T10:39:57.269Z"
   },
   {
    "duration": 97,
    "start_time": "2024-03-22T10:39:59.797Z"
   },
   {
    "duration": 2927,
    "start_time": "2024-03-22T10:40:01.165Z"
   },
   {
    "duration": 3208,
    "start_time": "2024-03-22T10:40:47.477Z"
   },
   {
    "duration": 2885,
    "start_time": "2024-03-22T10:42:14.998Z"
   },
   {
    "duration": 3340,
    "start_time": "2024-03-22T10:42:24.591Z"
   },
   {
    "duration": 3081,
    "start_time": "2024-03-22T10:42:37.599Z"
   },
   {
    "duration": 3679,
    "start_time": "2024-03-22T10:42:45.734Z"
   },
   {
    "duration": 4282,
    "start_time": "2024-03-22T10:43:00.205Z"
   },
   {
    "duration": 4448,
    "start_time": "2024-03-22T10:43:14.712Z"
   },
   {
    "duration": 2714,
    "start_time": "2024-03-22T10:44:23.176Z"
   },
   {
    "duration": 2866,
    "start_time": "2024-03-22T10:44:36.051Z"
   },
   {
    "duration": 3000,
    "start_time": "2024-03-22T10:44:48.099Z"
   },
   {
    "duration": 77,
    "start_time": "2024-03-22T10:50:08.187Z"
   },
   {
    "duration": 78,
    "start_time": "2024-03-22T11:15:35.162Z"
   },
   {
    "duration": 80,
    "start_time": "2024-03-22T11:15:38.578Z"
   },
   {
    "duration": 160,
    "start_time": "2024-03-22T11:15:50.404Z"
   },
   {
    "duration": 78,
    "start_time": "2024-03-22T11:17:01.549Z"
   },
   {
    "duration": 181,
    "start_time": "2024-03-22T11:23:16.021Z"
   },
   {
    "duration": 478,
    "start_time": "2024-03-22T11:25:08.378Z"
   },
   {
    "duration": 82,
    "start_time": "2024-03-22T11:26:03.148Z"
   },
   {
    "duration": 14,
    "start_time": "2024-03-22T11:35:13.638Z"
   },
   {
    "duration": 84,
    "start_time": "2024-03-22T11:35:18.671Z"
   },
   {
    "duration": 127,
    "start_time": "2024-03-22T11:35:46.552Z"
   },
   {
    "duration": 158,
    "start_time": "2024-03-22T11:36:20.999Z"
   },
   {
    "duration": 45,
    "start_time": "2024-03-22T11:36:35.176Z"
   },
   {
    "duration": 6,
    "start_time": "2024-03-22T11:37:49.257Z"
   },
   {
    "duration": 3782,
    "start_time": "2024-03-22T11:38:35.194Z"
   },
   {
    "duration": 3,
    "start_time": "2024-03-22T11:38:38.979Z"
   },
   {
    "duration": 1069,
    "start_time": "2024-03-22T11:38:38.983Z"
   },
   {
    "duration": 132,
    "start_time": "2024-03-22T11:38:40.054Z"
   },
   {
    "duration": 128,
    "start_time": "2024-03-22T11:38:40.187Z"
   },
   {
    "duration": 3119,
    "start_time": "2024-03-22T11:38:40.317Z"
   },
   {
    "duration": 21,
    "start_time": "2024-03-22T11:38:43.438Z"
   },
   {
    "duration": 45,
    "start_time": "2024-03-22T11:38:43.461Z"
   },
   {
    "duration": 15,
    "start_time": "2024-03-22T11:38:43.508Z"
   },
   {
    "duration": 10,
    "start_time": "2024-03-22T11:38:43.526Z"
   },
   {
    "duration": 27,
    "start_time": "2024-03-22T11:38:43.538Z"
   },
   {
    "duration": 23,
    "start_time": "2024-03-22T11:38:43.567Z"
   },
   {
    "duration": 7,
    "start_time": "2024-03-22T11:38:43.591Z"
   },
   {
    "duration": 19,
    "start_time": "2024-03-22T11:38:43.600Z"
   },
   {
    "duration": 134,
    "start_time": "2024-03-22T11:38:43.645Z"
   },
   {
    "duration": 12,
    "start_time": "2024-03-22T11:38:43.780Z"
   },
   {
    "duration": 9,
    "start_time": "2024-03-22T11:38:43.793Z"
   },
   {
    "duration": 57,
    "start_time": "2024-03-22T11:38:43.804Z"
   },
   {
    "duration": 31,
    "start_time": "2024-03-22T11:38:43.863Z"
   },
   {
    "duration": 84,
    "start_time": "2024-03-22T11:38:43.895Z"
   },
   {
    "duration": 3777,
    "start_time": "2024-03-22T11:38:43.981Z"
   },
   {
    "duration": 377,
    "start_time": "2024-03-22T11:38:47.761Z"
   },
   {
    "duration": 8,
    "start_time": "2024-03-22T11:38:48.139Z"
   },
   {
    "duration": 52,
    "start_time": "2024-03-22T11:38:48.149Z"
   },
   {
    "duration": 15,
    "start_time": "2024-03-22T11:38:48.202Z"
   },
   {
    "duration": 140,
    "start_time": "2024-03-22T11:38:48.219Z"
   },
   {
    "duration": 52,
    "start_time": "2024-03-22T11:38:48.360Z"
   },
   {
    "duration": 73,
    "start_time": "2024-03-22T11:38:48.415Z"
   },
   {
    "duration": 130,
    "start_time": "2024-03-22T11:38:48.489Z"
   },
   {
    "duration": 0,
    "start_time": "2024-03-22T11:38:48.621Z"
   },
   {
    "duration": 0,
    "start_time": "2024-03-22T11:38:48.622Z"
   },
   {
    "duration": 0,
    "start_time": "2024-03-22T11:38:48.623Z"
   },
   {
    "duration": 9960,
    "start_time": "2024-03-22T11:40:30.152Z"
   },
   {
    "duration": 3,
    "start_time": "2024-03-22T11:40:40.115Z"
   },
   {
    "duration": 804,
    "start_time": "2024-03-22T11:40:40.121Z"
   },
   {
    "duration": 153,
    "start_time": "2024-03-22T11:40:40.926Z"
   },
   {
    "duration": 118,
    "start_time": "2024-03-22T11:40:41.081Z"
   },
   {
    "duration": 3092,
    "start_time": "2024-03-22T11:40:41.201Z"
   },
   {
    "duration": 12,
    "start_time": "2024-03-22T11:40:44.295Z"
   },
   {
    "duration": 46,
    "start_time": "2024-03-22T11:40:44.308Z"
   },
   {
    "duration": 37,
    "start_time": "2024-03-22T11:40:44.356Z"
   },
   {
    "duration": 21,
    "start_time": "2024-03-22T11:40:44.396Z"
   },
   {
    "duration": 63,
    "start_time": "2024-03-22T11:40:44.419Z"
   },
   {
    "duration": 22,
    "start_time": "2024-03-22T11:40:44.483Z"
   },
   {
    "duration": 7,
    "start_time": "2024-03-22T11:40:44.506Z"
   },
   {
    "duration": 39,
    "start_time": "2024-03-22T11:40:44.514Z"
   },
   {
    "duration": 135,
    "start_time": "2024-03-22T11:40:44.554Z"
   },
   {
    "duration": 17,
    "start_time": "2024-03-22T11:40:44.690Z"
   },
   {
    "duration": 23,
    "start_time": "2024-03-22T11:40:44.709Z"
   },
   {
    "duration": 55,
    "start_time": "2024-03-22T11:40:44.733Z"
   },
   {
    "duration": 33,
    "start_time": "2024-03-22T11:40:44.790Z"
   },
   {
    "duration": 73,
    "start_time": "2024-03-22T11:40:44.824Z"
   },
   {
    "duration": 3816,
    "start_time": "2024-03-22T11:40:44.898Z"
   },
   {
    "duration": 381,
    "start_time": "2024-03-22T11:40:48.715Z"
   },
   {
    "duration": 9,
    "start_time": "2024-03-22T11:40:49.098Z"
   },
   {
    "duration": 62,
    "start_time": "2024-03-22T11:40:49.109Z"
   },
   {
    "duration": 10,
    "start_time": "2024-03-22T11:40:49.173Z"
   },
   {
    "duration": 115,
    "start_time": "2024-03-22T11:40:49.184Z"
   },
   {
    "duration": 59,
    "start_time": "2024-03-22T11:40:49.301Z"
   },
   {
    "duration": 57,
    "start_time": "2024-03-22T11:40:49.364Z"
   },
   {
    "duration": 143,
    "start_time": "2024-03-22T11:40:49.422Z"
   },
   {
    "duration": 0,
    "start_time": "2024-03-22T11:40:49.567Z"
   },
   {
    "duration": 0,
    "start_time": "2024-03-22T11:40:49.568Z"
   },
   {
    "duration": 0,
    "start_time": "2024-03-22T11:40:49.568Z"
   },
   {
    "duration": 2267,
    "start_time": "2024-03-22T11:44:53.791Z"
   },
   {
    "duration": 2262,
    "start_time": "2024-03-22T11:44:59.952Z"
   },
   {
    "duration": 2216,
    "start_time": "2024-03-22T11:45:17.872Z"
   },
   {
    "duration": 3412,
    "start_time": "2024-03-22T11:45:20.091Z"
   },
   {
    "duration": 4,
    "start_time": "2024-03-22T11:45:23.505Z"
   },
   {
    "duration": 814,
    "start_time": "2024-03-22T11:45:23.511Z"
   },
   {
    "duration": 172,
    "start_time": "2024-03-22T11:45:24.327Z"
   },
   {
    "duration": 102,
    "start_time": "2024-03-22T11:45:24.500Z"
   },
   {
    "duration": 3134,
    "start_time": "2024-03-22T11:45:24.604Z"
   },
   {
    "duration": 13,
    "start_time": "2024-03-22T11:45:27.745Z"
   },
   {
    "duration": 66,
    "start_time": "2024-03-22T11:45:27.760Z"
   },
   {
    "duration": 37,
    "start_time": "2024-03-22T11:45:27.828Z"
   },
   {
    "duration": 22,
    "start_time": "2024-03-22T11:45:27.866Z"
   },
   {
    "duration": 68,
    "start_time": "2024-03-22T11:45:27.890Z"
   },
   {
    "duration": 24,
    "start_time": "2024-03-22T11:45:27.960Z"
   },
   {
    "duration": 14,
    "start_time": "2024-03-22T11:45:27.987Z"
   },
   {
    "duration": 14,
    "start_time": "2024-03-22T11:45:28.003Z"
   },
   {
    "duration": 60,
    "start_time": "2024-03-22T11:45:28.018Z"
   },
   {
    "duration": 19,
    "start_time": "2024-03-22T11:45:28.080Z"
   },
   {
    "duration": 18,
    "start_time": "2024-03-22T11:45:28.101Z"
   },
   {
    "duration": 73,
    "start_time": "2024-03-22T11:45:28.121Z"
   },
   {
    "duration": 51,
    "start_time": "2024-03-22T11:45:28.195Z"
   },
   {
    "duration": 104,
    "start_time": "2024-03-22T11:45:28.248Z"
   },
   {
    "duration": 3828,
    "start_time": "2024-03-22T11:45:28.354Z"
   },
   {
    "duration": 346,
    "start_time": "2024-03-22T11:45:32.185Z"
   },
   {
    "duration": 12,
    "start_time": "2024-03-22T11:45:32.533Z"
   },
   {
    "duration": 58,
    "start_time": "2024-03-22T11:45:32.546Z"
   },
   {
    "duration": 10,
    "start_time": "2024-03-22T11:45:32.605Z"
   },
   {
    "duration": 116,
    "start_time": "2024-03-22T11:45:32.617Z"
   },
   {
    "duration": 90,
    "start_time": "2024-03-22T11:45:32.734Z"
   },
   {
    "duration": 96,
    "start_time": "2024-03-22T11:45:32.825Z"
   },
   {
    "duration": 12834,
    "start_time": "2024-03-22T11:45:32.923Z"
   },
   {
    "duration": 51109,
    "start_time": "2024-03-22T11:45:45.844Z"
   },
   {
    "duration": 28124,
    "start_time": "2024-03-22T11:46:36.958Z"
   },
   {
    "duration": 179,
    "start_time": "2024-03-22T11:47:05.084Z"
   },
   {
    "duration": 2222,
    "start_time": "2024-03-22T11:49:08.729Z"
   },
   {
    "duration": 3564,
    "start_time": "2024-03-22T11:49:10.955Z"
   },
   {
    "duration": 2,
    "start_time": "2024-03-22T11:49:14.521Z"
   },
   {
    "duration": 860,
    "start_time": "2024-03-22T11:49:14.525Z"
   },
   {
    "duration": 172,
    "start_time": "2024-03-22T11:49:15.386Z"
   },
   {
    "duration": 93,
    "start_time": "2024-03-22T11:49:15.560Z"
   },
   {
    "duration": 3053,
    "start_time": "2024-03-22T11:49:15.655Z"
   },
   {
    "duration": 13,
    "start_time": "2024-03-22T11:49:18.710Z"
   },
   {
    "duration": 42,
    "start_time": "2024-03-22T11:49:18.725Z"
   },
   {
    "duration": 15,
    "start_time": "2024-03-22T11:49:18.770Z"
   },
   {
    "duration": 18,
    "start_time": "2024-03-22T11:49:18.787Z"
   },
   {
    "duration": 43,
    "start_time": "2024-03-22T11:49:18.806Z"
   },
   {
    "duration": 23,
    "start_time": "2024-03-22T11:49:18.851Z"
   },
   {
    "duration": 6,
    "start_time": "2024-03-22T11:49:18.875Z"
   },
   {
    "duration": 30,
    "start_time": "2024-03-22T11:49:18.883Z"
   },
   {
    "duration": 62,
    "start_time": "2024-03-22T11:49:18.914Z"
   },
   {
    "duration": 12,
    "start_time": "2024-03-22T11:49:18.978Z"
   },
   {
    "duration": 10,
    "start_time": "2024-03-22T11:49:18.991Z"
   },
   {
    "duration": 53,
    "start_time": "2024-03-22T11:49:19.002Z"
   },
   {
    "duration": 32,
    "start_time": "2024-03-22T11:49:19.056Z"
   },
   {
    "duration": 71,
    "start_time": "2024-03-22T11:49:19.090Z"
   },
   {
    "duration": 3823,
    "start_time": "2024-03-22T11:49:19.163Z"
   },
   {
    "duration": 323,
    "start_time": "2024-03-22T11:49:22.988Z"
   },
   {
    "duration": 8,
    "start_time": "2024-03-22T11:49:23.312Z"
   },
   {
    "duration": 60,
    "start_time": "2024-03-22T11:49:23.322Z"
   },
   {
    "duration": 11,
    "start_time": "2024-03-22T11:49:23.383Z"
   },
   {
    "duration": 119,
    "start_time": "2024-03-22T11:49:23.395Z"
   },
   {
    "duration": 57,
    "start_time": "2024-03-22T11:49:23.517Z"
   },
   {
    "duration": 74,
    "start_time": "2024-03-22T11:49:23.576Z"
   },
   {
    "duration": 15509,
    "start_time": "2024-03-22T11:49:23.652Z"
   },
   {
    "duration": 53890,
    "start_time": "2024-03-22T11:49:39.164Z"
   },
   {
    "duration": 28603,
    "start_time": "2024-03-22T11:50:33.056Z"
   },
   {
    "duration": 168,
    "start_time": "2024-03-22T11:51:01.660Z"
   },
   {
    "duration": 347864,
    "start_time": "2024-03-22T11:53:27.594Z"
   },
   {
    "duration": 2270,
    "start_time": "2024-03-22T12:03:09.821Z"
   },
   {
    "duration": 3421,
    "start_time": "2024-03-22T12:03:12.094Z"
   },
   {
    "duration": 3,
    "start_time": "2024-03-22T12:03:15.517Z"
   },
   {
    "duration": 863,
    "start_time": "2024-03-22T12:03:15.521Z"
   },
   {
    "duration": 146,
    "start_time": "2024-03-22T12:03:16.386Z"
   },
   {
    "duration": 88,
    "start_time": "2024-03-22T12:03:16.533Z"
   },
   {
    "duration": 3080,
    "start_time": "2024-03-22T12:03:16.622Z"
   },
   {
    "duration": 12,
    "start_time": "2024-03-22T12:03:19.704Z"
   },
   {
    "duration": 35,
    "start_time": "2024-03-22T12:03:19.717Z"
   },
   {
    "duration": 25,
    "start_time": "2024-03-22T12:03:19.754Z"
   },
   {
    "duration": 95,
    "start_time": "2024-03-22T12:03:19.780Z"
   },
   {
    "duration": 2,
    "start_time": "2024-03-22T12:03:19.876Z"
   },
   {
    "duration": 42,
    "start_time": "2024-03-22T12:03:19.879Z"
   },
   {
    "duration": 22,
    "start_time": "2024-03-22T12:03:19.924Z"
   },
   {
    "duration": 6,
    "start_time": "2024-03-22T12:03:19.947Z"
   },
   {
    "duration": 28,
    "start_time": "2024-03-22T12:03:19.954Z"
   },
   {
    "duration": 48,
    "start_time": "2024-03-22T12:03:19.984Z"
   },
   {
    "duration": 14,
    "start_time": "2024-03-22T12:03:20.033Z"
   },
   {
    "duration": 45,
    "start_time": "2024-03-22T12:03:20.049Z"
   },
   {
    "duration": 57,
    "start_time": "2024-03-22T12:03:20.096Z"
   },
   {
    "duration": 32,
    "start_time": "2024-03-22T12:03:20.154Z"
   },
   {
    "duration": 69,
    "start_time": "2024-03-22T12:03:20.188Z"
   },
   {
    "duration": 3860,
    "start_time": "2024-03-22T12:03:20.258Z"
   },
   {
    "duration": 342,
    "start_time": "2024-03-22T12:03:24.120Z"
   },
   {
    "duration": 8,
    "start_time": "2024-03-22T12:03:24.464Z"
   },
   {
    "duration": 47,
    "start_time": "2024-03-22T12:03:24.474Z"
   },
   {
    "duration": 31,
    "start_time": "2024-03-22T12:03:24.522Z"
   },
   {
    "duration": 120,
    "start_time": "2024-03-22T12:03:24.555Z"
   },
   {
    "duration": 81,
    "start_time": "2024-03-22T12:03:24.677Z"
   },
   {
    "duration": 79,
    "start_time": "2024-03-22T12:03:24.761Z"
   },
   {
    "duration": 14636,
    "start_time": "2024-03-22T12:03:24.842Z"
   },
   {
    "duration": 51602,
    "start_time": "2024-03-22T12:03:39.547Z"
   },
   {
    "duration": 28147,
    "start_time": "2024-03-22T12:04:31.153Z"
   },
   {
    "duration": 245049,
    "start_time": "2024-03-22T12:04:59.302Z"
   },
   {
    "duration": 201,
    "start_time": "2024-03-22T12:23:34.511Z"
   },
   {
    "duration": 12,
    "start_time": "2024-03-22T13:22:52.843Z"
   },
   {
    "duration": 19,
    "start_time": "2024-03-22T13:23:19.396Z"
   },
   {
    "duration": 18954,
    "start_time": "2024-03-22T13:28:56.440Z"
   },
   {
    "duration": 288,
    "start_time": "2024-03-22T13:30:46.025Z"
   },
   {
    "duration": 13,
    "start_time": "2024-03-22T13:43:05.176Z"
   },
   {
    "duration": 93,
    "start_time": "2024-03-22T13:43:55.073Z"
   },
   {
    "duration": 2256,
    "start_time": "2024-03-22T13:44:05.100Z"
   },
   {
    "duration": 3425,
    "start_time": "2024-03-22T13:44:07.359Z"
   },
   {
    "duration": 3,
    "start_time": "2024-03-22T13:44:10.786Z"
   },
   {
    "duration": 856,
    "start_time": "2024-03-22T13:44:10.790Z"
   },
   {
    "duration": 168,
    "start_time": "2024-03-22T13:44:11.648Z"
   },
   {
    "duration": 150,
    "start_time": "2024-03-22T13:44:11.817Z"
   },
   {
    "duration": 3186,
    "start_time": "2024-03-22T13:44:11.968Z"
   },
   {
    "duration": 12,
    "start_time": "2024-03-22T13:44:15.155Z"
   },
   {
    "duration": 47,
    "start_time": "2024-03-22T13:44:15.169Z"
   },
   {
    "duration": 49,
    "start_time": "2024-03-22T13:44:15.218Z"
   },
   {
    "duration": 124,
    "start_time": "2024-03-22T13:44:15.268Z"
   },
   {
    "duration": 15,
    "start_time": "2024-03-22T13:44:15.394Z"
   },
   {
    "duration": 43,
    "start_time": "2024-03-22T13:44:15.410Z"
   },
   {
    "duration": 46,
    "start_time": "2024-03-22T13:44:15.456Z"
   },
   {
    "duration": 7,
    "start_time": "2024-03-22T13:44:15.503Z"
   },
   {
    "duration": 24,
    "start_time": "2024-03-22T13:44:15.511Z"
   },
   {
    "duration": 65,
    "start_time": "2024-03-22T13:44:15.536Z"
   },
   {
    "duration": 34,
    "start_time": "2024-03-22T13:44:15.604Z"
   },
   {
    "duration": 86,
    "start_time": "2024-03-22T13:44:15.640Z"
   },
   {
    "duration": 66,
    "start_time": "2024-03-22T13:44:15.728Z"
   },
   {
    "duration": 36,
    "start_time": "2024-03-22T13:44:15.796Z"
   },
   {
    "duration": 59,
    "start_time": "2024-03-22T13:44:15.833Z"
   },
   {
    "duration": 3901,
    "start_time": "2024-03-22T13:44:15.893Z"
   },
   {
    "duration": 351,
    "start_time": "2024-03-22T13:44:19.796Z"
   },
   {
    "duration": 8,
    "start_time": "2024-03-22T13:44:20.149Z"
   },
   {
    "duration": 54,
    "start_time": "2024-03-22T13:44:20.158Z"
   },
   {
    "duration": 10,
    "start_time": "2024-03-22T13:44:20.214Z"
   },
   {
    "duration": 110,
    "start_time": "2024-03-22T13:44:20.226Z"
   },
   {
    "duration": 58,
    "start_time": "2024-03-22T13:44:20.337Z"
   },
   {
    "duration": 65,
    "start_time": "2024-03-22T13:44:20.396Z"
   },
   {
    "duration": 15187,
    "start_time": "2024-03-22T13:44:20.463Z"
   },
   {
    "duration": 54894,
    "start_time": "2024-03-22T13:44:35.652Z"
   },
   {
    "duration": 28233,
    "start_time": "2024-03-22T13:45:30.549Z"
   },
   {
    "duration": 2201,
    "start_time": "2024-03-22T14:11:53.417Z"
   },
   {
    "duration": 3480,
    "start_time": "2024-03-22T14:11:55.621Z"
   },
   {
    "duration": 2,
    "start_time": "2024-03-22T14:11:59.103Z"
   },
   {
    "duration": 826,
    "start_time": "2024-03-22T14:11:59.106Z"
   },
   {
    "duration": 168,
    "start_time": "2024-03-22T14:11:59.934Z"
   },
   {
    "duration": 99,
    "start_time": "2024-03-22T14:12:00.104Z"
   },
   {
    "duration": 3133,
    "start_time": "2024-03-22T14:12:00.204Z"
   },
   {
    "duration": 28,
    "start_time": "2024-03-22T14:12:03.338Z"
   },
   {
    "duration": 24,
    "start_time": "2024-03-22T14:12:03.368Z"
   },
   {
    "duration": 17,
    "start_time": "2024-03-22T14:12:03.394Z"
   },
   {
    "duration": 106,
    "start_time": "2024-03-22T14:12:03.413Z"
   },
   {
    "duration": 11,
    "start_time": "2024-03-22T14:12:03.520Z"
   },
   {
    "duration": 31,
    "start_time": "2024-03-22T14:12:03.532Z"
   },
   {
    "duration": 21,
    "start_time": "2024-03-22T14:12:03.565Z"
   },
   {
    "duration": 5,
    "start_time": "2024-03-22T14:12:03.588Z"
   },
   {
    "duration": 15,
    "start_time": "2024-03-22T14:12:03.594Z"
   },
   {
    "duration": 73,
    "start_time": "2024-03-22T14:12:03.610Z"
   },
   {
    "duration": 11,
    "start_time": "2024-03-22T14:12:03.685Z"
   },
   {
    "duration": 6,
    "start_time": "2024-03-22T14:12:03.698Z"
   },
   {
    "duration": 59,
    "start_time": "2024-03-22T14:12:03.705Z"
   },
   {
    "duration": 34,
    "start_time": "2024-03-22T14:12:03.766Z"
   },
   {
    "duration": 83,
    "start_time": "2024-03-22T14:12:03.801Z"
   },
   {
    "duration": 4009,
    "start_time": "2024-03-22T14:12:03.885Z"
   },
   {
    "duration": 383,
    "start_time": "2024-03-22T14:12:07.897Z"
   },
   {
    "duration": 8,
    "start_time": "2024-03-22T14:12:08.281Z"
   },
   {
    "duration": 71,
    "start_time": "2024-03-22T14:12:08.290Z"
   },
   {
    "duration": 10,
    "start_time": "2024-03-22T14:12:08.362Z"
   },
   {
    "duration": 109,
    "start_time": "2024-03-22T14:12:08.375Z"
   },
   {
    "duration": 62,
    "start_time": "2024-03-22T14:12:08.486Z"
   },
   {
    "duration": 65,
    "start_time": "2024-03-22T14:12:08.549Z"
   },
   {
    "duration": 18031,
    "start_time": "2024-03-22T14:12:08.615Z"
   },
   {
    "duration": 70417,
    "start_time": "2024-03-22T14:12:26.649Z"
   },
   {
    "duration": 30080,
    "start_time": "2024-03-22T14:13:37.146Z"
   },
   {
    "duration": 2456,
    "start_time": "2024-03-22T14:21:57.607Z"
   },
   {
    "duration": 3620,
    "start_time": "2024-03-22T14:22:00.066Z"
   },
   {
    "duration": 3,
    "start_time": "2024-03-22T14:22:03.688Z"
   },
   {
    "duration": 887,
    "start_time": "2024-03-22T14:22:03.692Z"
   },
   {
    "duration": 152,
    "start_time": "2024-03-22T14:22:04.581Z"
   },
   {
    "duration": 102,
    "start_time": "2024-03-22T14:22:04.734Z"
   },
   {
    "duration": 3298,
    "start_time": "2024-03-22T14:22:04.837Z"
   },
   {
    "duration": 30,
    "start_time": "2024-03-22T14:22:08.137Z"
   },
   {
    "duration": 23,
    "start_time": "2024-03-22T14:22:08.169Z"
   },
   {
    "duration": 41,
    "start_time": "2024-03-22T14:22:08.194Z"
   },
   {
    "duration": 141,
    "start_time": "2024-03-22T14:22:08.237Z"
   },
   {
    "duration": 2,
    "start_time": "2024-03-22T14:22:08.379Z"
   },
   {
    "duration": 41,
    "start_time": "2024-03-22T14:22:08.383Z"
   },
   {
    "duration": 34,
    "start_time": "2024-03-22T14:22:08.427Z"
   },
   {
    "duration": 6,
    "start_time": "2024-03-22T14:22:08.462Z"
   },
   {
    "duration": 39,
    "start_time": "2024-03-22T14:22:08.469Z"
   },
   {
    "duration": 57,
    "start_time": "2024-03-22T14:22:08.509Z"
   },
   {
    "duration": 12,
    "start_time": "2024-03-22T14:22:08.567Z"
   },
   {
    "duration": 18,
    "start_time": "2024-03-22T14:22:08.580Z"
   },
   {
    "duration": 59,
    "start_time": "2024-03-22T14:22:08.599Z"
   },
   {
    "duration": 34,
    "start_time": "2024-03-22T14:22:08.659Z"
   },
   {
    "duration": 72,
    "start_time": "2024-03-22T14:22:08.695Z"
   },
   {
    "duration": 4053,
    "start_time": "2024-03-22T14:22:08.769Z"
   },
   {
    "duration": 348,
    "start_time": "2024-03-22T14:22:12.823Z"
   },
   {
    "duration": 8,
    "start_time": "2024-03-22T14:22:13.172Z"
   },
   {
    "duration": 74,
    "start_time": "2024-03-22T14:22:13.182Z"
   },
   {
    "duration": 11,
    "start_time": "2024-03-22T14:22:13.258Z"
   },
   {
    "duration": 120,
    "start_time": "2024-03-22T14:22:13.270Z"
   },
   {
    "duration": 62,
    "start_time": "2024-03-22T14:22:13.392Z"
   },
   {
    "duration": 73,
    "start_time": "2024-03-22T14:22:13.458Z"
   },
   {
    "duration": 18336,
    "start_time": "2024-03-22T14:22:13.532Z"
   },
   {
    "duration": 66801,
    "start_time": "2024-03-22T14:22:31.947Z"
   },
   {
    "duration": 250,
    "start_time": "2024-03-22T14:23:38.752Z"
   },
   {
    "duration": 29789,
    "start_time": "2024-03-22T14:23:39.004Z"
   },
   {
    "duration": 2216,
    "start_time": "2024-03-22T14:27:07.187Z"
   },
   {
    "duration": 3341,
    "start_time": "2024-03-22T14:27:09.405Z"
   },
   {
    "duration": 2,
    "start_time": "2024-03-22T14:27:12.750Z"
   },
   {
    "duration": 818,
    "start_time": "2024-03-22T14:27:12.754Z"
   },
   {
    "duration": 150,
    "start_time": "2024-03-22T14:27:13.574Z"
   },
   {
    "duration": 96,
    "start_time": "2024-03-22T14:27:13.726Z"
   },
   {
    "duration": 3084,
    "start_time": "2024-03-22T14:27:13.824Z"
   },
   {
    "duration": 12,
    "start_time": "2024-03-22T14:27:16.910Z"
   },
   {
    "duration": 35,
    "start_time": "2024-03-22T14:27:16.924Z"
   },
   {
    "duration": 21,
    "start_time": "2024-03-22T14:27:16.960Z"
   },
   {
    "duration": 114,
    "start_time": "2024-03-22T14:27:16.982Z"
   },
   {
    "duration": 5,
    "start_time": "2024-03-22T14:27:17.098Z"
   },
   {
    "duration": 52,
    "start_time": "2024-03-22T14:27:17.104Z"
   },
   {
    "duration": 26,
    "start_time": "2024-03-22T14:27:17.158Z"
   },
   {
    "duration": 6,
    "start_time": "2024-03-22T14:27:17.185Z"
   },
   {
    "duration": 16,
    "start_time": "2024-03-22T14:27:17.192Z"
   },
   {
    "duration": 72,
    "start_time": "2024-03-22T14:27:17.209Z"
   },
   {
    "duration": 12,
    "start_time": "2024-03-22T14:27:17.283Z"
   },
   {
    "duration": 7,
    "start_time": "2024-03-22T14:27:17.296Z"
   },
   {
    "duration": 58,
    "start_time": "2024-03-22T14:27:17.305Z"
   },
   {
    "duration": 35,
    "start_time": "2024-03-22T14:27:17.365Z"
   },
   {
    "duration": 73,
    "start_time": "2024-03-22T14:27:17.401Z"
   },
   {
    "duration": 3823,
    "start_time": "2024-03-22T14:27:17.475Z"
   },
   {
    "duration": 348,
    "start_time": "2024-03-22T14:27:21.300Z"
   },
   {
    "duration": 9,
    "start_time": "2024-03-22T14:27:21.650Z"
   },
   {
    "duration": 50,
    "start_time": "2024-03-22T14:27:21.660Z"
   },
   {
    "duration": 31,
    "start_time": "2024-03-22T14:27:21.714Z"
   },
   {
    "duration": 107,
    "start_time": "2024-03-22T14:27:21.746Z"
   },
   {
    "duration": 57,
    "start_time": "2024-03-22T14:27:21.854Z"
   },
   {
    "duration": 71,
    "start_time": "2024-03-22T14:27:21.912Z"
   },
   {
    "duration": 10882,
    "start_time": "2024-03-22T14:27:21.984Z"
   },
   {
    "duration": 40477,
    "start_time": "2024-03-22T14:27:32.869Z"
   },
   {
    "duration": 223,
    "start_time": "2024-03-22T14:28:13.349Z"
   },
   {
    "duration": 28344,
    "start_time": "2024-03-22T14:28:13.574Z"
   },
   {
    "duration": 2194,
    "start_time": "2024-03-22T14:36:23.352Z"
   },
   {
    "duration": 3428,
    "start_time": "2024-03-22T14:36:25.549Z"
   },
   {
    "duration": 3,
    "start_time": "2024-03-22T14:36:28.981Z"
   },
   {
    "duration": 780,
    "start_time": "2024-03-22T14:36:28.985Z"
   },
   {
    "duration": 134,
    "start_time": "2024-03-22T14:36:29.766Z"
   },
   {
    "duration": 121,
    "start_time": "2024-03-22T14:36:29.901Z"
   },
   {
    "duration": 3028,
    "start_time": "2024-03-22T14:36:30.024Z"
   },
   {
    "duration": 12,
    "start_time": "2024-03-22T14:36:33.053Z"
   },
   {
    "duration": 22,
    "start_time": "2024-03-22T14:36:33.068Z"
   },
   {
    "duration": 34,
    "start_time": "2024-03-22T14:36:33.092Z"
   },
   {
    "duration": 99,
    "start_time": "2024-03-22T14:36:33.128Z"
   },
   {
    "duration": 36,
    "start_time": "2024-03-22T14:36:33.229Z"
   },
   {
    "duration": 43,
    "start_time": "2024-03-22T14:36:33.266Z"
   },
   {
    "duration": 23,
    "start_time": "2024-03-22T14:36:33.310Z"
   },
   {
    "duration": 6,
    "start_time": "2024-03-22T14:36:33.334Z"
   },
   {
    "duration": 31,
    "start_time": "2024-03-22T14:36:33.341Z"
   },
   {
    "duration": 48,
    "start_time": "2024-03-22T14:36:33.374Z"
   },
   {
    "duration": 12,
    "start_time": "2024-03-22T14:36:33.423Z"
   },
   {
    "duration": 9,
    "start_time": "2024-03-22T14:36:33.436Z"
   },
   {
    "duration": 51,
    "start_time": "2024-03-22T14:36:33.446Z"
   },
   {
    "duration": 46,
    "start_time": "2024-03-22T14:36:33.499Z"
   },
   {
    "duration": 58,
    "start_time": "2024-03-22T14:36:33.547Z"
   },
   {
    "duration": 3783,
    "start_time": "2024-03-22T14:36:33.607Z"
   },
   {
    "duration": 354,
    "start_time": "2024-03-22T14:36:37.391Z"
   },
   {
    "duration": 8,
    "start_time": "2024-03-22T14:36:37.747Z"
   },
   {
    "duration": 51,
    "start_time": "2024-03-22T14:36:37.757Z"
   },
   {
    "duration": 10,
    "start_time": "2024-03-22T14:36:37.812Z"
   },
   {
    "duration": 127,
    "start_time": "2024-03-22T14:36:37.823Z"
   },
   {
    "duration": 53,
    "start_time": "2024-03-22T14:36:37.951Z"
   },
   {
    "duration": 72,
    "start_time": "2024-03-22T14:36:38.005Z"
   },
   {
    "duration": 10769,
    "start_time": "2024-03-22T14:36:38.079Z"
   },
   {
    "duration": 42010,
    "start_time": "2024-03-22T14:36:48.850Z"
   },
   {
    "duration": 10202,
    "start_time": "2024-03-22T14:37:30.861Z"
   },
   {
    "duration": 28911,
    "start_time": "2024-03-22T14:37:41.065Z"
   },
   {
    "duration": 2156,
    "start_time": "2024-03-22T14:38:44.140Z"
   },
   {
    "duration": 3423,
    "start_time": "2024-03-22T14:38:46.299Z"
   },
   {
    "duration": 3,
    "start_time": "2024-03-22T14:38:49.724Z"
   },
   {
    "duration": 768,
    "start_time": "2024-03-22T14:38:49.728Z"
   },
   {
    "duration": 139,
    "start_time": "2024-03-22T14:38:50.498Z"
   },
   {
    "duration": 93,
    "start_time": "2024-03-22T14:38:50.639Z"
   },
   {
    "duration": 2993,
    "start_time": "2024-03-22T14:38:50.733Z"
   },
   {
    "duration": 17,
    "start_time": "2024-03-22T14:38:53.728Z"
   },
   {
    "duration": 28,
    "start_time": "2024-03-22T14:38:53.746Z"
   },
   {
    "duration": 27,
    "start_time": "2024-03-22T14:38:53.775Z"
   },
   {
    "duration": 107,
    "start_time": "2024-03-22T14:38:53.804Z"
   },
   {
    "duration": 2,
    "start_time": "2024-03-22T14:38:53.913Z"
   },
   {
    "duration": 34,
    "start_time": "2024-03-22T14:38:53.916Z"
   },
   {
    "duration": 44,
    "start_time": "2024-03-22T14:38:53.953Z"
   },
   {
    "duration": 7,
    "start_time": "2024-03-22T14:38:53.998Z"
   },
   {
    "duration": 31,
    "start_time": "2024-03-22T14:38:54.006Z"
   },
   {
    "duration": 54,
    "start_time": "2024-03-22T14:38:54.039Z"
   },
   {
    "duration": 11,
    "start_time": "2024-03-22T14:38:54.095Z"
   },
   {
    "duration": 23,
    "start_time": "2024-03-22T14:38:54.107Z"
   },
   {
    "duration": 56,
    "start_time": "2024-03-22T14:38:54.131Z"
   },
   {
    "duration": 34,
    "start_time": "2024-03-22T14:38:54.189Z"
   },
   {
    "duration": 67,
    "start_time": "2024-03-22T14:38:54.225Z"
   },
   {
    "duration": 3744,
    "start_time": "2024-03-22T14:38:54.294Z"
   },
   {
    "duration": 318,
    "start_time": "2024-03-22T14:38:58.040Z"
   },
   {
    "duration": 8,
    "start_time": "2024-03-22T14:38:58.359Z"
   },
   {
    "duration": 46,
    "start_time": "2024-03-22T14:38:58.368Z"
   },
   {
    "duration": 29,
    "start_time": "2024-03-22T14:38:58.416Z"
   },
   {
    "duration": 109,
    "start_time": "2024-03-22T14:38:58.446Z"
   },
   {
    "duration": 62,
    "start_time": "2024-03-22T14:38:58.557Z"
   },
   {
    "duration": 75,
    "start_time": "2024-03-22T14:38:58.621Z"
   },
   {
    "duration": 11071,
    "start_time": "2024-03-22T14:38:58.697Z"
   },
   {
    "duration": 40113,
    "start_time": "2024-03-22T14:39:09.846Z"
   },
   {
    "duration": 9702,
    "start_time": "2024-03-22T14:39:50.046Z"
   },
   {
    "duration": 20,
    "start_time": "2024-03-22T14:39:59.749Z"
   },
   {
    "duration": 27860,
    "start_time": "2024-03-22T14:39:59.850Z"
   },
   {
    "duration": 7153,
    "start_time": "2024-03-22T14:40:27.711Z"
   },
   {
    "duration": 24834,
    "start_time": "2024-03-22T14:42:35.021Z"
   },
   {
    "duration": 2851,
    "start_time": "2024-03-22T14:42:59.857Z"
   },
   {
    "duration": 4,
    "start_time": "2024-03-22T14:43:02.710Z"
   },
   {
    "duration": 24897,
    "start_time": "2024-03-22T14:43:42.508Z"
   },
   {
    "duration": 24847,
    "start_time": "2024-03-22T14:44:26.498Z"
   },
   {
    "duration": 2916,
    "start_time": "2024-03-22T14:44:54.221Z"
   },
   {
    "duration": 4,
    "start_time": "2024-03-22T14:44:57.145Z"
   },
   {
    "duration": 400,
    "start_time": "2024-03-22T14:48:28.165Z"
   },
   {
    "duration": 6793,
    "start_time": "2024-03-22T14:49:12.453Z"
   },
   {
    "duration": 4,
    "start_time": "2024-03-22T14:49:42.346Z"
   },
   {
    "duration": 422,
    "start_time": "2024-03-22T14:49:50.637Z"
   },
   {
    "duration": 80,
    "start_time": "2024-03-22T14:50:20.750Z"
   },
   {
    "duration": 7116,
    "start_time": "2024-03-22T14:50:31.333Z"
   },
   {
    "duration": 2160,
    "start_time": "2024-03-22T14:50:42.873Z"
   },
   {
    "duration": 3463,
    "start_time": "2024-03-22T14:50:45.035Z"
   },
   {
    "duration": 2,
    "start_time": "2024-03-22T14:50:48.500Z"
   },
   {
    "duration": 792,
    "start_time": "2024-03-22T14:50:48.503Z"
   },
   {
    "duration": 152,
    "start_time": "2024-03-22T14:50:49.297Z"
   },
   {
    "duration": 114,
    "start_time": "2024-03-22T14:50:49.451Z"
   },
   {
    "duration": 2968,
    "start_time": "2024-03-22T14:50:49.566Z"
   },
   {
    "duration": 15,
    "start_time": "2024-03-22T14:50:52.535Z"
   },
   {
    "duration": 41,
    "start_time": "2024-03-22T14:50:52.551Z"
   },
   {
    "duration": 40,
    "start_time": "2024-03-22T14:50:52.593Z"
   },
   {
    "duration": 101,
    "start_time": "2024-03-22T14:50:52.634Z"
   },
   {
    "duration": 12,
    "start_time": "2024-03-22T14:50:52.737Z"
   },
   {
    "duration": 33,
    "start_time": "2024-03-22T14:50:52.751Z"
   },
   {
    "duration": 22,
    "start_time": "2024-03-22T14:50:52.787Z"
   },
   {
    "duration": 5,
    "start_time": "2024-03-22T14:50:52.811Z"
   },
   {
    "duration": 38,
    "start_time": "2024-03-22T14:50:52.818Z"
   },
   {
    "duration": 59,
    "start_time": "2024-03-22T14:50:52.858Z"
   },
   {
    "duration": 19,
    "start_time": "2024-03-22T14:50:52.919Z"
   },
   {
    "duration": 39,
    "start_time": "2024-03-22T14:50:52.939Z"
   },
   {
    "duration": 66,
    "start_time": "2024-03-22T14:50:52.979Z"
   },
   {
    "duration": 33,
    "start_time": "2024-03-22T14:50:53.047Z"
   },
   {
    "duration": 70,
    "start_time": "2024-03-22T14:50:53.081Z"
   },
   {
    "duration": 3738,
    "start_time": "2024-03-22T14:50:53.152Z"
   },
   {
    "duration": 304,
    "start_time": "2024-03-22T14:50:56.891Z"
   },
   {
    "duration": 8,
    "start_time": "2024-03-22T14:50:57.196Z"
   },
   {
    "duration": 71,
    "start_time": "2024-03-22T14:50:57.205Z"
   },
   {
    "duration": 10,
    "start_time": "2024-03-22T14:50:57.277Z"
   },
   {
    "duration": 130,
    "start_time": "2024-03-22T14:50:57.288Z"
   },
   {
    "duration": 75,
    "start_time": "2024-03-22T14:50:57.420Z"
   },
   {
    "duration": 74,
    "start_time": "2024-03-22T14:50:57.496Z"
   },
   {
    "duration": 10497,
    "start_time": "2024-03-22T14:50:57.571Z"
   },
   {
    "duration": 45713,
    "start_time": "2024-03-22T14:51:08.146Z"
   },
   {
    "duration": 10386,
    "start_time": "2024-03-22T14:51:53.862Z"
   },
   {
    "duration": 15,
    "start_time": "2024-03-22T14:52:04.250Z"
   },
   {
    "duration": 5,
    "start_time": "2024-03-22T14:52:04.348Z"
   },
   {
    "duration": 24718,
    "start_time": "2024-03-22T14:52:04.354Z"
   },
   {
    "duration": 2794,
    "start_time": "2024-03-22T14:52:29.074Z"
   },
   {
    "duration": 3,
    "start_time": "2024-03-22T14:52:31.870Z"
   },
   {
    "duration": 2055433,
    "start_time": "2024-03-22T14:52:31.874Z"
   },
   {
    "duration": 1816,
    "start_time": "2024-03-22T15:26:47.309Z"
   },
   {
    "duration": 3,
    "start_time": "2024-03-22T15:26:49.128Z"
   },
   {
    "duration": 51533,
    "start_time": "2024-03-22T15:26:49.133Z"
   },
   {
    "duration": 586,
    "start_time": "2024-03-22T15:27:40.667Z"
   },
   {
    "duration": 5,
    "start_time": "2024-03-22T15:27:41.254Z"
   },
   {
    "duration": 5,
    "start_time": "2024-03-22T20:18:23.605Z"
   },
   {
    "duration": 2165,
    "start_time": "2024-03-22T20:23:38.768Z"
   },
   {
    "duration": 3374,
    "start_time": "2024-03-22T20:23:40.935Z"
   },
   {
    "duration": 3,
    "start_time": "2024-03-22T20:23:44.311Z"
   },
   {
    "duration": 2890,
    "start_time": "2024-03-22T20:23:44.316Z"
   },
   {
    "duration": 170,
    "start_time": "2024-03-22T20:23:47.207Z"
   },
   {
    "duration": 101,
    "start_time": "2024-03-22T20:23:47.378Z"
   },
   {
    "duration": 3011,
    "start_time": "2024-03-22T20:23:47.481Z"
   },
   {
    "duration": 12,
    "start_time": "2024-03-22T20:23:50.494Z"
   },
   {
    "duration": 27,
    "start_time": "2024-03-22T20:23:50.507Z"
   },
   {
    "duration": 19,
    "start_time": "2024-03-22T20:23:50.536Z"
   },
   {
    "duration": 96,
    "start_time": "2024-03-22T20:23:50.556Z"
   },
   {
    "duration": 2,
    "start_time": "2024-03-22T20:23:50.654Z"
   },
   {
    "duration": 26,
    "start_time": "2024-03-22T20:23:50.658Z"
   },
   {
    "duration": 21,
    "start_time": "2024-03-22T20:23:50.686Z"
   },
   {
    "duration": 5,
    "start_time": "2024-03-22T20:23:50.708Z"
   },
   {
    "duration": 36,
    "start_time": "2024-03-22T20:23:50.715Z"
   },
   {
    "duration": 47,
    "start_time": "2024-03-22T20:23:50.753Z"
   },
   {
    "duration": 12,
    "start_time": "2024-03-22T20:23:50.801Z"
   },
   {
    "duration": 25,
    "start_time": "2024-03-22T20:23:50.814Z"
   },
   {
    "duration": 49,
    "start_time": "2024-03-22T20:23:50.840Z"
   },
   {
    "duration": 32,
    "start_time": "2024-03-22T20:23:50.891Z"
   },
   {
    "duration": 59,
    "start_time": "2024-03-22T20:23:50.924Z"
   },
   {
    "duration": 3717,
    "start_time": "2024-03-22T20:23:50.985Z"
   },
   {
    "duration": 337,
    "start_time": "2024-03-22T20:23:54.704Z"
   },
   {
    "duration": 8,
    "start_time": "2024-03-22T20:23:55.044Z"
   },
   {
    "duration": 53,
    "start_time": "2024-03-22T20:23:55.054Z"
   },
   {
    "duration": 10,
    "start_time": "2024-03-22T20:23:55.109Z"
   },
   {
    "duration": 111,
    "start_time": "2024-03-22T20:23:55.122Z"
   },
   {
    "duration": 55,
    "start_time": "2024-03-22T20:23:55.234Z"
   },
   {
    "duration": 77,
    "start_time": "2024-03-22T20:23:55.290Z"
   },
   {
    "duration": 13395,
    "start_time": "2024-03-22T20:23:55.368Z"
   },
   {
    "duration": 51314,
    "start_time": "2024-03-22T20:24:08.845Z"
   },
   {
    "duration": 14903,
    "start_time": "2024-03-22T20:25:00.251Z"
   },
   {
    "duration": 94,
    "start_time": "2024-03-22T20:25:15.157Z"
   },
   {
    "duration": 94,
    "start_time": "2024-03-22T20:25:15.253Z"
   },
   {
    "duration": 25183,
    "start_time": "2024-03-22T20:25:15.350Z"
   },
   {
    "duration": 2818,
    "start_time": "2024-03-22T20:25:40.534Z"
   },
   {
    "duration": 4,
    "start_time": "2024-03-22T20:25:43.354Z"
   },
   {
    "duration": 8922,
    "start_time": "2024-03-23T05:26:13.422Z"
   },
   {
    "duration": 4897,
    "start_time": "2024-03-23T05:26:22.347Z"
   },
   {
    "duration": 3,
    "start_time": "2024-03-23T05:26:27.247Z"
   },
   {
    "duration": 1239,
    "start_time": "2024-03-23T05:26:27.252Z"
   },
   {
    "duration": 165,
    "start_time": "2024-03-23T05:26:28.492Z"
   },
   {
    "duration": 116,
    "start_time": "2024-03-23T05:26:28.659Z"
   },
   {
    "duration": 3871,
    "start_time": "2024-03-23T05:26:28.777Z"
   },
   {
    "duration": 20,
    "start_time": "2024-03-23T05:26:32.650Z"
   },
   {
    "duration": 35,
    "start_time": "2024-03-23T05:26:32.672Z"
   },
   {
    "duration": 24,
    "start_time": "2024-03-23T05:26:32.710Z"
   },
   {
    "duration": 117,
    "start_time": "2024-03-23T05:26:32.736Z"
   },
   {
    "duration": 3,
    "start_time": "2024-03-23T05:26:32.854Z"
   },
   {
    "duration": 38,
    "start_time": "2024-03-23T05:26:32.858Z"
   },
   {
    "duration": 25,
    "start_time": "2024-03-23T05:26:32.898Z"
   },
   {
    "duration": 6,
    "start_time": "2024-03-23T05:26:32.925Z"
   },
   {
    "duration": 37,
    "start_time": "2024-03-23T05:26:32.933Z"
   },
   {
    "duration": 59,
    "start_time": "2024-03-23T05:26:32.971Z"
   },
   {
    "duration": 13,
    "start_time": "2024-03-23T05:26:33.032Z"
   },
   {
    "duration": 47,
    "start_time": "2024-03-23T05:26:33.047Z"
   },
   {
    "duration": 71,
    "start_time": "2024-03-23T05:26:33.096Z"
   },
   {
    "duration": 44,
    "start_time": "2024-03-23T05:26:33.169Z"
   },
   {
    "duration": 78,
    "start_time": "2024-03-23T05:26:33.215Z"
   },
   {
    "duration": 4554,
    "start_time": "2024-03-23T05:26:33.295Z"
   },
   {
    "duration": 368,
    "start_time": "2024-03-23T05:26:37.851Z"
   },
   {
    "duration": 10,
    "start_time": "2024-03-23T05:26:38.221Z"
   },
   {
    "duration": 86,
    "start_time": "2024-03-23T05:26:38.232Z"
   },
   {
    "duration": 12,
    "start_time": "2024-03-23T05:26:38.320Z"
   },
   {
    "duration": 125,
    "start_time": "2024-03-23T05:26:38.336Z"
   },
   {
    "duration": 61,
    "start_time": "2024-03-23T05:26:38.469Z"
   },
   {
    "duration": 91,
    "start_time": "2024-03-23T05:26:38.532Z"
   },
   {
    "duration": 13252,
    "start_time": "2024-03-23T05:26:38.624Z"
   },
   {
    "duration": 48091,
    "start_time": "2024-03-23T05:26:51.879Z"
   },
   {
    "duration": 12912,
    "start_time": "2024-03-23T05:27:39.971Z"
   },
   {
    "duration": 88,
    "start_time": "2024-03-23T05:27:52.884Z"
   },
   {
    "duration": 95,
    "start_time": "2024-03-23T05:27:52.975Z"
   },
   {
    "duration": 30660,
    "start_time": "2024-03-23T05:27:53.071Z"
   },
   {
    "duration": 3413,
    "start_time": "2024-03-23T05:28:23.733Z"
   },
   {
    "duration": 5,
    "start_time": "2024-03-23T05:28:27.148Z"
   },
   {
    "duration": 2575124,
    "start_time": "2024-03-23T05:28:27.169Z"
   },
   {
    "duration": 1890,
    "start_time": "2024-03-23T06:11:22.294Z"
   },
   {
    "duration": 4,
    "start_time": "2024-03-23T06:11:24.186Z"
   },
   {
    "duration": 239003,
    "start_time": "2024-03-23T06:11:24.192Z"
   },
   {
    "duration": 605,
    "start_time": "2024-03-23T06:15:23.273Z"
   },
   {
    "duration": 5,
    "start_time": "2024-03-23T06:15:23.883Z"
   },
   {
    "duration": 108,
    "start_time": "2024-03-23T14:29:11.891Z"
   },
   {
    "duration": 6771,
    "start_time": "2024-03-23T14:45:37.963Z"
   },
   {
    "duration": 4595,
    "start_time": "2024-03-23T14:45:44.736Z"
   },
   {
    "duration": 4,
    "start_time": "2024-03-23T14:45:49.333Z"
   },
   {
    "duration": 2914,
    "start_time": "2024-03-23T14:45:49.339Z"
   },
   {
    "duration": 164,
    "start_time": "2024-03-23T14:45:52.255Z"
   },
   {
    "duration": 165,
    "start_time": "2024-03-23T14:45:52.421Z"
   },
   {
    "duration": 3618,
    "start_time": "2024-03-23T14:45:52.588Z"
   },
   {
    "duration": 13,
    "start_time": "2024-03-23T14:45:56.207Z"
   },
   {
    "duration": 37,
    "start_time": "2024-03-23T14:45:56.222Z"
   },
   {
    "duration": 24,
    "start_time": "2024-03-23T14:45:56.262Z"
   },
   {
    "duration": 112,
    "start_time": "2024-03-23T14:45:56.288Z"
   },
   {
    "duration": 3,
    "start_time": "2024-03-23T14:45:56.402Z"
   },
   {
    "duration": 44,
    "start_time": "2024-03-23T14:45:56.407Z"
   },
   {
    "duration": 34,
    "start_time": "2024-03-23T14:45:56.453Z"
   },
   {
    "duration": 6,
    "start_time": "2024-03-23T14:45:56.489Z"
   },
   {
    "duration": 21,
    "start_time": "2024-03-23T14:45:56.497Z"
   },
   {
    "duration": 79,
    "start_time": "2024-03-23T14:45:56.520Z"
   },
   {
    "duration": 15,
    "start_time": "2024-03-23T14:45:56.601Z"
   },
   {
    "duration": 4,
    "start_time": "2024-03-23T14:45:56.618Z"
   },
   {
    "duration": 75,
    "start_time": "2024-03-23T14:45:56.623Z"
   },
   {
    "duration": 41,
    "start_time": "2024-03-23T14:45:56.700Z"
   },
   {
    "duration": 81,
    "start_time": "2024-03-23T14:45:56.743Z"
   },
   {
    "duration": 4447,
    "start_time": "2024-03-23T14:45:56.826Z"
   },
   {
    "duration": 370,
    "start_time": "2024-03-23T14:46:01.274Z"
   },
   {
    "duration": 8,
    "start_time": "2024-03-23T14:46:01.645Z"
   },
   {
    "duration": 83,
    "start_time": "2024-03-23T14:46:01.655Z"
   },
   {
    "duration": 11,
    "start_time": "2024-03-23T14:46:01.740Z"
   },
   {
    "duration": 131,
    "start_time": "2024-03-23T14:46:01.754Z"
   },
   {
    "duration": 101,
    "start_time": "2024-03-23T14:46:01.887Z"
   },
   {
    "duration": 98,
    "start_time": "2024-03-23T14:46:01.990Z"
   },
   {
    "duration": 11894,
    "start_time": "2024-03-23T14:46:02.089Z"
   },
   {
    "duration": 13295,
    "start_time": "2024-03-23T14:46:13.988Z"
   },
   {
    "duration": 48297,
    "start_time": "2024-03-23T14:46:27.286Z"
   },
   {
    "duration": 11605,
    "start_time": "2024-03-23T14:47:15.585Z"
   },
   {
    "duration": 93,
    "start_time": "2024-03-23T14:47:27.192Z"
   },
   {
    "duration": 3,
    "start_time": "2024-03-23T14:47:27.287Z"
   },
   {
    "duration": 33814,
    "start_time": "2024-03-23T14:47:27.383Z"
   },
   {
    "duration": 44903,
    "start_time": "2024-03-23T14:48:01.199Z"
   },
   {
    "duration": 681,
    "start_time": "2024-03-23T14:48:46.103Z"
   },
   {
    "duration": 4,
    "start_time": "2024-03-23T14:48:46.786Z"
   },
   {
    "duration": 96,
    "start_time": "2024-03-23T14:48:46.791Z"
   },
   {
    "duration": 5,
    "start_time": "2024-03-23T14:48:46.888Z"
   },
   {
    "duration": 9205,
    "start_time": "2024-03-23T14:48:46.894Z"
   },
   {
    "duration": 194,
    "start_time": "2024-03-23T14:48:56.101Z"
   },
   {
    "duration": 4,
    "start_time": "2024-03-23T14:48:56.297Z"
   },
   {
    "duration": 44190,
    "start_time": "2024-03-23T15:04:40.631Z"
   },
   {
    "duration": 2492,
    "start_time": "2024-03-23T15:26:39.652Z"
   },
   {
    "duration": 3972,
    "start_time": "2024-03-23T15:26:42.147Z"
   },
   {
    "duration": 2,
    "start_time": "2024-03-23T15:26:46.121Z"
   },
   {
    "duration": 940,
    "start_time": "2024-03-23T15:26:46.125Z"
   },
   {
    "duration": 161,
    "start_time": "2024-03-23T15:26:47.068Z"
   },
   {
    "duration": 113,
    "start_time": "2024-03-23T15:26:47.230Z"
   },
   {
    "duration": 3593,
    "start_time": "2024-03-23T15:26:47.345Z"
   },
   {
    "duration": 14,
    "start_time": "2024-03-23T15:26:50.940Z"
   },
   {
    "duration": 49,
    "start_time": "2024-03-23T15:26:50.955Z"
   },
   {
    "duration": 26,
    "start_time": "2024-03-23T15:26:51.005Z"
   },
   {
    "duration": 144,
    "start_time": "2024-03-23T15:26:51.033Z"
   },
   {
    "duration": 3,
    "start_time": "2024-03-23T15:26:51.179Z"
   },
   {
    "duration": 49,
    "start_time": "2024-03-23T15:26:51.184Z"
   },
   {
    "duration": 24,
    "start_time": "2024-03-23T15:26:51.236Z"
   },
   {
    "duration": 5,
    "start_time": "2024-03-23T15:26:51.262Z"
   },
   {
    "duration": 17,
    "start_time": "2024-03-23T15:26:51.268Z"
   },
   {
    "duration": 57,
    "start_time": "2024-03-23T15:26:51.286Z"
   },
   {
    "duration": 13,
    "start_time": "2024-03-23T15:26:51.344Z"
   },
   {
    "duration": 24,
    "start_time": "2024-03-23T15:26:51.359Z"
   },
   {
    "duration": 81,
    "start_time": "2024-03-23T15:26:51.385Z"
   },
   {
    "duration": 38,
    "start_time": "2024-03-23T15:26:51.467Z"
   },
   {
    "duration": 78,
    "start_time": "2024-03-23T15:26:51.506Z"
   },
   {
    "duration": 4503,
    "start_time": "2024-03-23T15:26:51.585Z"
   },
   {
    "duration": 358,
    "start_time": "2024-03-23T15:26:56.090Z"
   },
   {
    "duration": 9,
    "start_time": "2024-03-23T15:26:56.449Z"
   },
   {
    "duration": 69,
    "start_time": "2024-03-23T15:26:56.460Z"
   },
   {
    "duration": 12,
    "start_time": "2024-03-23T15:26:56.531Z"
   },
   {
    "duration": 140,
    "start_time": "2024-03-23T15:26:56.544Z"
   },
   {
    "duration": 60,
    "start_time": "2024-03-23T15:26:56.685Z"
   },
   {
    "duration": 97,
    "start_time": "2024-03-23T15:26:56.747Z"
   },
   {
    "duration": 12339,
    "start_time": "2024-03-23T15:26:56.845Z"
   },
   {
    "duration": 12895,
    "start_time": "2024-03-23T15:27:09.189Z"
   },
   {
    "duration": 49896,
    "start_time": "2024-03-23T15:27:22.087Z"
   },
   {
    "duration": 2488,
    "start_time": "2024-03-23T15:28:23.888Z"
   },
   {
    "duration": 3748,
    "start_time": "2024-03-23T15:28:26.378Z"
   },
   {
    "duration": 3,
    "start_time": "2024-03-23T15:28:30.128Z"
   },
   {
    "duration": 996,
    "start_time": "2024-03-23T15:28:30.133Z"
   },
   {
    "duration": 165,
    "start_time": "2024-03-23T15:28:31.130Z"
   },
   {
    "duration": 117,
    "start_time": "2024-03-23T15:28:31.297Z"
   },
   {
    "duration": 3612,
    "start_time": "2024-03-23T15:28:31.416Z"
   },
   {
    "duration": 14,
    "start_time": "2024-03-23T15:28:35.030Z"
   },
   {
    "duration": 39,
    "start_time": "2024-03-23T15:28:35.046Z"
   },
   {
    "duration": 50,
    "start_time": "2024-03-23T15:28:35.088Z"
   },
   {
    "duration": 110,
    "start_time": "2024-03-23T15:28:35.140Z"
   },
   {
    "duration": 3,
    "start_time": "2024-03-23T15:28:35.251Z"
   },
   {
    "duration": 38,
    "start_time": "2024-03-23T15:28:35.255Z"
   },
   {
    "duration": 25,
    "start_time": "2024-03-23T15:28:35.294Z"
   },
   {
    "duration": 6,
    "start_time": "2024-03-23T15:28:35.320Z"
   },
   {
    "duration": 22,
    "start_time": "2024-03-23T15:28:35.328Z"
   },
   {
    "duration": 68,
    "start_time": "2024-03-23T15:28:35.352Z"
   },
   {
    "duration": 14,
    "start_time": "2024-03-23T15:28:35.421Z"
   },
   {
    "duration": 10,
    "start_time": "2024-03-23T15:28:35.436Z"
   },
   {
    "duration": 63,
    "start_time": "2024-03-23T15:28:35.447Z"
   },
   {
    "duration": 37,
    "start_time": "2024-03-23T15:28:35.512Z"
   },
   {
    "duration": 73,
    "start_time": "2024-03-23T15:28:35.551Z"
   },
   {
    "duration": 4518,
    "start_time": "2024-03-23T15:28:35.626Z"
   },
   {
    "duration": 372,
    "start_time": "2024-03-23T15:28:40.146Z"
   },
   {
    "duration": 9,
    "start_time": "2024-03-23T15:28:40.519Z"
   },
   {
    "duration": 74,
    "start_time": "2024-03-23T15:28:40.530Z"
   },
   {
    "duration": 11,
    "start_time": "2024-03-23T15:28:40.606Z"
   },
   {
    "duration": 130,
    "start_time": "2024-03-23T15:28:40.620Z"
   },
   {
    "duration": 70,
    "start_time": "2024-03-23T15:28:40.752Z"
   },
   {
    "duration": 86,
    "start_time": "2024-03-23T15:28:40.824Z"
   },
   {
    "duration": 12074,
    "start_time": "2024-03-23T15:28:40.911Z"
   },
   {
    "duration": 12898,
    "start_time": "2024-03-23T15:28:52.988Z"
   },
   {
    "duration": 49096,
    "start_time": "2024-03-23T15:29:05.888Z"
   },
   {
    "duration": 12621,
    "start_time": "2024-03-23T15:29:54.986Z"
   },
   {
    "duration": 76,
    "start_time": "2024-03-23T15:30:07.609Z"
   },
   {
    "duration": 4,
    "start_time": "2024-03-23T15:30:07.690Z"
   },
   {
    "duration": 4,
    "start_time": "2024-03-23T15:30:07.782Z"
   },
   {
    "duration": 36066,
    "start_time": "2024-03-23T15:30:07.788Z"
   },
   {
    "duration": 670,
    "start_time": "2024-03-23T15:30:43.856Z"
   },
   {
    "duration": 5,
    "start_time": "2024-03-23T15:30:44.528Z"
   },
   {
    "duration": 8,
    "start_time": "2024-03-23T15:30:44.534Z"
   },
   {
    "duration": 234314,
    "start_time": "2024-03-23T15:30:44.544Z"
   },
   {
    "duration": 176,
    "start_time": "2024-03-23T15:34:38.859Z"
   },
   {
    "duration": 4,
    "start_time": "2024-03-23T15:34:39.036Z"
   },
   {
    "duration": 7,
    "start_time": "2024-03-23T15:34:39.042Z"
   },
   {
    "duration": 11347,
    "start_time": "2024-03-23T15:34:39.050Z"
   },
   {
    "duration": 191,
    "start_time": "2024-03-23T15:34:50.399Z"
   },
   {
    "duration": 4,
    "start_time": "2024-03-23T15:34:50.591Z"
   },
   {
    "duration": 11503,
    "start_time": "2024-03-23T16:23:05.708Z"
   },
   {
    "duration": 6,
    "start_time": "2024-03-23T16:23:36.173Z"
   },
   {
    "duration": 7,
    "start_time": "2024-03-23T16:23:52.082Z"
   },
   {
    "duration": 4,
    "start_time": "2024-03-23T16:23:59.182Z"
   },
   {
    "duration": 6,
    "start_time": "2024-03-23T16:24:22.380Z"
   },
   {
    "duration": 11704,
    "start_time": "2024-03-23T16:24:27.499Z"
   },
   {
    "duration": 36297,
    "start_time": "2024-03-23T16:26:18.935Z"
   },
   {
    "duration": 754,
    "start_time": "2024-03-23T16:26:55.233Z"
   },
   {
    "duration": 5,
    "start_time": "2024-03-23T16:26:55.988Z"
   },
   {
    "duration": 2569,
    "start_time": "2024-03-23T16:28:42.659Z"
   },
   {
    "duration": 3885,
    "start_time": "2024-03-23T16:28:45.231Z"
   },
   {
    "duration": 4,
    "start_time": "2024-03-23T16:28:49.117Z"
   },
   {
    "duration": 948,
    "start_time": "2024-03-23T16:28:49.123Z"
   },
   {
    "duration": 166,
    "start_time": "2024-03-23T16:28:50.073Z"
   },
   {
    "duration": 115,
    "start_time": "2024-03-23T16:28:50.240Z"
   },
   {
    "duration": 3565,
    "start_time": "2024-03-23T16:28:50.357Z"
   },
   {
    "duration": 14,
    "start_time": "2024-03-23T16:28:53.924Z"
   },
   {
    "duration": 38,
    "start_time": "2024-03-23T16:28:53.939Z"
   },
   {
    "duration": 23,
    "start_time": "2024-03-23T16:28:53.982Z"
   },
   {
    "duration": 113,
    "start_time": "2024-03-23T16:28:54.006Z"
   },
   {
    "duration": 7,
    "start_time": "2024-03-23T16:28:54.121Z"
   },
   {
    "duration": 53,
    "start_time": "2024-03-23T16:28:54.130Z"
   },
   {
    "duration": 25,
    "start_time": "2024-03-23T16:28:54.184Z"
   },
   {
    "duration": 6,
    "start_time": "2024-03-23T16:28:54.210Z"
   },
   {
    "duration": 14,
    "start_time": "2024-03-23T16:28:54.218Z"
   },
   {
    "duration": 75,
    "start_time": "2024-03-23T16:28:54.234Z"
   },
   {
    "duration": 13,
    "start_time": "2024-03-23T16:28:54.310Z"
   },
   {
    "duration": 6,
    "start_time": "2024-03-23T16:28:54.324Z"
   },
   {
    "duration": 61,
    "start_time": "2024-03-23T16:28:54.332Z"
   },
   {
    "duration": 37,
    "start_time": "2024-03-23T16:28:54.395Z"
   },
   {
    "duration": 77,
    "start_time": "2024-03-23T16:28:54.434Z"
   },
   {
    "duration": 4404,
    "start_time": "2024-03-23T16:28:54.512Z"
   },
   {
    "duration": 348,
    "start_time": "2024-03-23T16:28:58.918Z"
   },
   {
    "duration": 14,
    "start_time": "2024-03-23T16:28:59.268Z"
   },
   {
    "duration": 61,
    "start_time": "2024-03-23T16:28:59.283Z"
   },
   {
    "duration": 12,
    "start_time": "2024-03-23T16:28:59.346Z"
   },
   {
    "duration": 135,
    "start_time": "2024-03-23T16:28:59.363Z"
   },
   {
    "duration": 62,
    "start_time": "2024-03-23T16:28:59.500Z"
   },
   {
    "duration": 3,
    "start_time": "2024-03-23T16:28:59.564Z"
   },
   {
    "duration": 14,
    "start_time": "2024-03-23T16:28:59.569Z"
   },
   {
    "duration": 13399,
    "start_time": "2024-03-23T16:28:59.585Z"
   },
   {
    "duration": 0,
    "start_time": "2024-03-23T16:29:12.986Z"
   },
   {
    "duration": 0,
    "start_time": "2024-03-23T16:29:12.987Z"
   },
   {
    "duration": 0,
    "start_time": "2024-03-23T16:29:12.988Z"
   },
   {
    "duration": 0,
    "start_time": "2024-03-23T16:29:12.989Z"
   },
   {
    "duration": 0,
    "start_time": "2024-03-23T16:29:12.990Z"
   },
   {
    "duration": 0,
    "start_time": "2024-03-23T16:29:12.992Z"
   },
   {
    "duration": 0,
    "start_time": "2024-03-23T16:29:12.993Z"
   },
   {
    "duration": 0,
    "start_time": "2024-03-23T16:29:12.994Z"
   },
   {
    "duration": 0,
    "start_time": "2024-03-23T16:29:12.995Z"
   },
   {
    "duration": 0,
    "start_time": "2024-03-23T16:29:12.996Z"
   },
   {
    "duration": 0,
    "start_time": "2024-03-23T16:29:12.997Z"
   },
   {
    "duration": 0,
    "start_time": "2024-03-23T16:29:12.999Z"
   },
   {
    "duration": 0,
    "start_time": "2024-03-23T16:29:13.000Z"
   },
   {
    "duration": 0,
    "start_time": "2024-03-23T16:29:13.001Z"
   },
   {
    "duration": 0,
    "start_time": "2024-03-23T16:29:13.002Z"
   },
   {
    "duration": 0,
    "start_time": "2024-03-23T16:29:13.003Z"
   },
   {
    "duration": 0,
    "start_time": "2024-03-23T16:29:13.004Z"
   },
   {
    "duration": 0,
    "start_time": "2024-03-23T16:29:13.005Z"
   },
   {
    "duration": 0,
    "start_time": "2024-03-23T16:29:13.006Z"
   },
   {
    "duration": 1299,
    "start_time": "2024-03-23T17:17:32.546Z"
   },
   {
    "duration": 15443,
    "start_time": "2024-03-23T17:17:39.157Z"
   },
   {
    "duration": 86,
    "start_time": "2024-03-23T17:17:54.604Z"
   },
   {
    "duration": 94,
    "start_time": "2024-03-23T17:17:54.693Z"
   },
   {
    "duration": 2569,
    "start_time": "2024-03-23T17:23:54.074Z"
   },
   {
    "duration": 3836,
    "start_time": "2024-03-23T17:23:56.646Z"
   },
   {
    "duration": 3,
    "start_time": "2024-03-23T17:24:00.484Z"
   },
   {
    "duration": 1045,
    "start_time": "2024-03-23T17:24:00.489Z"
   },
   {
    "duration": 165,
    "start_time": "2024-03-23T17:24:01.536Z"
   },
   {
    "duration": 115,
    "start_time": "2024-03-23T17:24:01.703Z"
   },
   {
    "duration": 3672,
    "start_time": "2024-03-23T17:24:01.820Z"
   },
   {
    "duration": 14,
    "start_time": "2024-03-23T17:24:05.493Z"
   },
   {
    "duration": 37,
    "start_time": "2024-03-23T17:24:05.509Z"
   },
   {
    "duration": 35,
    "start_time": "2024-03-23T17:24:05.549Z"
   },
   {
    "duration": 124,
    "start_time": "2024-03-23T17:24:05.586Z"
   },
   {
    "duration": 10,
    "start_time": "2024-03-23T17:24:05.712Z"
   },
   {
    "duration": 48,
    "start_time": "2024-03-23T17:24:05.724Z"
   },
   {
    "duration": 24,
    "start_time": "2024-03-23T17:24:05.774Z"
   },
   {
    "duration": 11,
    "start_time": "2024-03-23T17:24:05.800Z"
   },
   {
    "duration": 26,
    "start_time": "2024-03-23T17:24:05.813Z"
   },
   {
    "duration": 64,
    "start_time": "2024-03-23T17:24:05.841Z"
   },
   {
    "duration": 14,
    "start_time": "2024-03-23T17:24:05.907Z"
   },
   {
    "duration": 5,
    "start_time": "2024-03-23T17:24:05.923Z"
   },
   {
    "duration": 74,
    "start_time": "2024-03-23T17:24:05.929Z"
   },
   {
    "duration": 39,
    "start_time": "2024-03-23T17:24:06.005Z"
   },
   {
    "duration": 73,
    "start_time": "2024-03-23T17:24:06.046Z"
   },
   {
    "duration": 4435,
    "start_time": "2024-03-23T17:24:06.121Z"
   },
   {
    "duration": 373,
    "start_time": "2024-03-23T17:24:10.558Z"
   },
   {
    "duration": 9,
    "start_time": "2024-03-23T17:24:10.932Z"
   },
   {
    "duration": 70,
    "start_time": "2024-03-23T17:24:10.943Z"
   },
   {
    "duration": 12,
    "start_time": "2024-03-23T17:24:11.015Z"
   },
   {
    "duration": 128,
    "start_time": "2024-03-23T17:24:11.032Z"
   },
   {
    "duration": 70,
    "start_time": "2024-03-23T17:24:11.162Z"
   },
   {
    "duration": 3,
    "start_time": "2024-03-23T17:24:11.234Z"
   },
   {
    "duration": 7,
    "start_time": "2024-03-23T17:24:11.238Z"
   },
   {
    "duration": 1263,
    "start_time": "2024-03-23T17:24:11.247Z"
   },
   {
    "duration": 13274,
    "start_time": "2024-03-23T17:24:12.512Z"
   },
   {
    "duration": 98,
    "start_time": "2024-03-23T17:24:25.788Z"
   },
   {
    "duration": 91,
    "start_time": "2024-03-23T17:24:25.892Z"
   },
   {
    "duration": 30,
    "start_time": "2024-03-23T17:24:25.985Z"
   },
   {
    "duration": 44,
    "start_time": "2024-03-23T17:24:26.017Z"
   },
   {
    "duration": 33,
    "start_time": "2024-03-23T17:24:26.063Z"
   },
   {
    "duration": 45,
    "start_time": "2024-03-23T17:24:26.097Z"
   },
   {
    "duration": 21,
    "start_time": "2024-03-23T17:24:26.143Z"
   },
   {
    "duration": 35920,
    "start_time": "2024-03-23T17:24:26.165Z"
   },
   {
    "duration": 696,
    "start_time": "2024-03-23T17:25:02.086Z"
   },
   {
    "duration": 5,
    "start_time": "2024-03-23T17:25:02.784Z"
   },
   {
    "duration": 15,
    "start_time": "2024-03-23T17:25:02.791Z"
   },
   {
    "duration": 465176,
    "start_time": "2024-03-23T17:25:02.807Z"
   },
   {
    "duration": 1056,
    "start_time": "2024-03-23T17:32:47.985Z"
   },
   {
    "duration": 4,
    "start_time": "2024-03-23T17:32:49.043Z"
   },
   {
    "duration": 8,
    "start_time": "2024-03-23T17:32:49.049Z"
   },
   {
    "duration": 11941,
    "start_time": "2024-03-23T17:32:49.058Z"
   },
   {
    "duration": 108,
    "start_time": "2024-03-23T17:33:01.083Z"
   },
   {
    "duration": 43,
    "start_time": "2024-03-23T17:33:01.192Z"
   },
   {
    "duration": 2469,
    "start_time": "2024-03-23T18:55:37.196Z"
   },
   {
    "duration": 3800,
    "start_time": "2024-03-23T18:55:39.668Z"
   },
   {
    "duration": 2,
    "start_time": "2024-03-23T18:55:43.471Z"
   },
   {
    "duration": 958,
    "start_time": "2024-03-23T18:55:43.475Z"
   },
   {
    "duration": 174,
    "start_time": "2024-03-23T18:55:44.434Z"
   },
   {
    "duration": 114,
    "start_time": "2024-03-23T18:55:44.610Z"
   },
   {
    "duration": 3542,
    "start_time": "2024-03-23T18:55:44.725Z"
   },
   {
    "duration": 14,
    "start_time": "2024-03-23T18:55:48.269Z"
   },
   {
    "duration": 31,
    "start_time": "2024-03-23T18:55:48.285Z"
   },
   {
    "duration": 17,
    "start_time": "2024-03-23T18:55:48.319Z"
   },
   {
    "duration": 119,
    "start_time": "2024-03-23T18:55:48.337Z"
   },
   {
    "duration": 3,
    "start_time": "2024-03-23T18:55:48.458Z"
   },
   {
    "duration": 41,
    "start_time": "2024-03-23T18:55:48.463Z"
   },
   {
    "duration": 26,
    "start_time": "2024-03-23T18:55:48.506Z"
   },
   {
    "duration": 8,
    "start_time": "2024-03-23T18:55:48.533Z"
   },
   {
    "duration": 39,
    "start_time": "2024-03-23T18:55:48.543Z"
   },
   {
    "duration": 61,
    "start_time": "2024-03-23T18:55:48.584Z"
   },
   {
    "duration": 14,
    "start_time": "2024-03-23T18:55:48.647Z"
   },
   {
    "duration": 20,
    "start_time": "2024-03-23T18:55:48.663Z"
   },
   {
    "duration": 58,
    "start_time": "2024-03-23T18:55:48.685Z"
   },
   {
    "duration": 52,
    "start_time": "2024-03-23T18:55:48.745Z"
   },
   {
    "duration": 69,
    "start_time": "2024-03-23T18:55:48.799Z"
   },
   {
    "duration": 4433,
    "start_time": "2024-03-23T18:55:48.883Z"
   },
   {
    "duration": 343,
    "start_time": "2024-03-23T18:55:53.318Z"
   },
   {
    "duration": 19,
    "start_time": "2024-03-23T18:55:53.663Z"
   },
   {
    "duration": 69,
    "start_time": "2024-03-23T18:55:53.684Z"
   },
   {
    "duration": 11,
    "start_time": "2024-03-23T18:55:53.755Z"
   },
   {
    "duration": 143,
    "start_time": "2024-03-23T18:55:53.781Z"
   },
   {
    "duration": 72,
    "start_time": "2024-03-23T18:55:53.928Z"
   },
   {
    "duration": 2,
    "start_time": "2024-03-23T18:55:54.002Z"
   },
   {
    "duration": 8,
    "start_time": "2024-03-23T18:55:54.005Z"
   },
   {
    "duration": 1303,
    "start_time": "2024-03-23T18:55:54.014Z"
   },
   {
    "duration": 11381,
    "start_time": "2024-03-23T18:55:55.319Z"
   },
   {
    "duration": 9,
    "start_time": "2024-03-23T18:56:06.783Z"
   },
   {
    "duration": 92,
    "start_time": "2024-03-23T18:56:06.794Z"
   },
   {
    "duration": 7,
    "start_time": "2024-03-23T18:56:06.888Z"
   },
   {
    "duration": 6,
    "start_time": "2024-03-23T18:56:06.982Z"
   },
   {
    "duration": 19,
    "start_time": "2024-03-23T18:56:06.989Z"
   },
   {
    "duration": 5,
    "start_time": "2024-03-23T18:56:07.009Z"
   },
   {
    "duration": 5,
    "start_time": "2024-03-23T18:56:07.015Z"
   },
   {
    "duration": 35342,
    "start_time": "2024-03-23T18:56:07.022Z"
   },
   {
    "duration": 664,
    "start_time": "2024-03-23T18:56:42.365Z"
   },
   {
    "duration": 4,
    "start_time": "2024-03-23T18:56:43.031Z"
   },
   {
    "duration": 5648255,
    "start_time": "2024-03-23T18:56:43.036Z"
   },
   {
    "duration": 2430,
    "start_time": "2024-03-23T20:37:35.348Z"
   },
   {
    "duration": 4161,
    "start_time": "2024-03-23T20:37:37.781Z"
   },
   {
    "duration": 2,
    "start_time": "2024-03-23T20:37:41.944Z"
   },
   {
    "duration": 2875,
    "start_time": "2024-03-23T20:37:41.949Z"
   },
   {
    "duration": 150,
    "start_time": "2024-03-23T20:37:44.826Z"
   },
   {
    "duration": 105,
    "start_time": "2024-03-23T20:37:44.978Z"
   },
   {
    "duration": 3429,
    "start_time": "2024-03-23T20:37:45.084Z"
   },
   {
    "duration": 14,
    "start_time": "2024-03-23T20:37:48.514Z"
   },
   {
    "duration": 42,
    "start_time": "2024-03-23T20:37:48.529Z"
   },
   {
    "duration": 14,
    "start_time": "2024-03-23T20:37:48.581Z"
   },
   {
    "duration": 118,
    "start_time": "2024-03-23T20:37:48.596Z"
   },
   {
    "duration": 2,
    "start_time": "2024-03-23T20:37:48.715Z"
   },
   {
    "duration": 29,
    "start_time": "2024-03-23T20:37:48.719Z"
   },
   {
    "duration": 43,
    "start_time": "2024-03-23T20:37:48.750Z"
   },
   {
    "duration": 6,
    "start_time": "2024-03-23T20:37:48.794Z"
   },
   {
    "duration": 19,
    "start_time": "2024-03-23T20:37:48.802Z"
   },
   {
    "duration": 77,
    "start_time": "2024-03-23T20:37:48.823Z"
   },
   {
    "duration": 13,
    "start_time": "2024-03-23T20:37:48.902Z"
   },
   {
    "duration": 9,
    "start_time": "2024-03-23T20:37:48.916Z"
   },
   {
    "duration": 62,
    "start_time": "2024-03-23T20:37:48.926Z"
   },
   {
    "duration": 36,
    "start_time": "2024-03-23T20:37:48.989Z"
   },
   {
    "duration": 80,
    "start_time": "2024-03-23T20:37:49.027Z"
   },
   {
    "duration": 4187,
    "start_time": "2024-03-23T20:37:49.108Z"
   },
   {
    "duration": 323,
    "start_time": "2024-03-23T20:37:53.296Z"
   },
   {
    "duration": 9,
    "start_time": "2024-03-23T20:37:53.620Z"
   },
   {
    "duration": 66,
    "start_time": "2024-03-23T20:37:53.630Z"
   },
   {
    "duration": 10,
    "start_time": "2024-03-23T20:37:53.698Z"
   },
   {
    "duration": 123,
    "start_time": "2024-03-23T20:37:53.711Z"
   },
   {
    "duration": 93,
    "start_time": "2024-03-23T20:37:53.835Z"
   },
   {
    "duration": 8,
    "start_time": "2024-03-23T20:37:53.929Z"
   },
   {
    "duration": 6,
    "start_time": "2024-03-23T20:37:53.939Z"
   },
   {
    "duration": 1208,
    "start_time": "2024-03-23T20:37:53.946Z"
   },
   {
    "duration": 11732,
    "start_time": "2024-03-23T20:37:55.155Z"
   },
   {
    "duration": 98,
    "start_time": "2024-03-23T20:38:06.889Z"
   },
   {
    "duration": 91,
    "start_time": "2024-03-23T20:38:06.992Z"
   },
   {
    "duration": 3,
    "start_time": "2024-03-23T20:38:07.085Z"
   },
   {
    "duration": 4,
    "start_time": "2024-03-23T20:38:07.090Z"
   },
   {
    "duration": 8,
    "start_time": "2024-03-23T20:38:07.095Z"
   },
   {
    "duration": 5,
    "start_time": "2024-03-23T20:38:07.105Z"
   },
   {
    "duration": 7,
    "start_time": "2024-03-23T20:38:07.111Z"
   },
   {
    "duration": 33662,
    "start_time": "2024-03-23T20:38:07.120Z"
   },
   {
    "duration": 641,
    "start_time": "2024-03-23T20:38:40.784Z"
   },
   {
    "duration": 4,
    "start_time": "2024-03-23T20:38:41.427Z"
   },
   {
    "duration": 5,
    "start_time": "2024-03-23T20:38:41.432Z"
   },
   {
    "duration": 5,
    "start_time": "2024-03-23T20:38:41.438Z"
   },
   {
    "duration": 6285,
    "start_time": "2024-03-24T06:08:49.907Z"
   },
   {
    "duration": 4599,
    "start_time": "2024-03-24T06:08:56.194Z"
   },
   {
    "duration": 3,
    "start_time": "2024-03-24T06:09:00.795Z"
   },
   {
    "duration": 1173,
    "start_time": "2024-03-24T06:09:00.799Z"
   },
   {
    "duration": 152,
    "start_time": "2024-03-24T06:09:01.974Z"
   },
   {
    "duration": 105,
    "start_time": "2024-03-24T06:09:02.128Z"
   },
   {
    "duration": 3194,
    "start_time": "2024-03-24T06:09:02.235Z"
   },
   {
    "duration": 16,
    "start_time": "2024-03-24T06:09:05.431Z"
   },
   {
    "duration": 40,
    "start_time": "2024-03-24T06:09:05.449Z"
   },
   {
    "duration": 49,
    "start_time": "2024-03-24T06:09:05.491Z"
   },
   {
    "duration": 107,
    "start_time": "2024-03-24T06:09:05.542Z"
   },
   {
    "duration": 2,
    "start_time": "2024-03-24T06:09:05.651Z"
   },
   {
    "duration": 36,
    "start_time": "2024-03-24T06:09:05.655Z"
   },
   {
    "duration": 24,
    "start_time": "2024-03-24T06:09:05.693Z"
   },
   {
    "duration": 6,
    "start_time": "2024-03-24T06:09:05.719Z"
   },
   {
    "duration": 14,
    "start_time": "2024-03-24T06:09:05.727Z"
   },
   {
    "duration": 71,
    "start_time": "2024-03-24T06:09:05.742Z"
   },
   {
    "duration": 12,
    "start_time": "2024-03-24T06:09:05.815Z"
   },
   {
    "duration": 24,
    "start_time": "2024-03-24T06:09:05.829Z"
   },
   {
    "duration": 49,
    "start_time": "2024-03-24T06:09:05.854Z"
   },
   {
    "duration": 34,
    "start_time": "2024-03-24T06:09:05.905Z"
   },
   {
    "duration": 71,
    "start_time": "2024-03-24T06:09:05.941Z"
   },
   {
    "duration": 3967,
    "start_time": "2024-03-24T06:09:06.014Z"
   },
   {
    "duration": 320,
    "start_time": "2024-03-24T06:09:09.983Z"
   },
   {
    "duration": 9,
    "start_time": "2024-03-24T06:09:10.305Z"
   },
   {
    "duration": 70,
    "start_time": "2024-03-24T06:09:10.316Z"
   },
   {
    "duration": 11,
    "start_time": "2024-03-24T06:09:10.388Z"
   },
   {
    "duration": 130,
    "start_time": "2024-03-24T06:09:10.404Z"
   },
   {
    "duration": 62,
    "start_time": "2024-03-24T06:09:10.536Z"
   },
   {
    "duration": 3,
    "start_time": "2024-03-24T06:09:10.599Z"
   },
   {
    "duration": 4,
    "start_time": "2024-03-24T06:09:10.603Z"
   },
   {
    "duration": 1182,
    "start_time": "2024-03-24T06:09:10.608Z"
   },
   {
    "duration": 11395,
    "start_time": "2024-03-24T06:09:11.791Z"
   },
   {
    "duration": 84,
    "start_time": "2024-03-24T06:09:23.188Z"
   },
   {
    "duration": 98,
    "start_time": "2024-03-24T06:09:23.275Z"
   },
   {
    "duration": 100,
    "start_time": "2024-03-24T06:09:23.375Z"
   },
   {
    "duration": 6,
    "start_time": "2024-03-24T06:09:23.476Z"
   },
   {
    "duration": 4,
    "start_time": "2024-03-24T06:09:23.483Z"
   },
   {
    "duration": 15,
    "start_time": "2024-03-24T06:09:23.489Z"
   },
   {
    "duration": 9,
    "start_time": "2024-03-24T06:09:23.506Z"
   },
   {
    "duration": 34808,
    "start_time": "2024-03-24T06:09:23.517Z"
   },
   {
    "duration": 649,
    "start_time": "2024-03-24T06:09:58.326Z"
   },
   {
    "duration": 4,
    "start_time": "2024-03-24T06:09:58.977Z"
   },
   {
    "duration": 23,
    "start_time": "2024-03-24T06:09:58.982Z"
   },
   {
    "duration": 46,
    "start_time": "2024-03-24T06:09:59.007Z"
   },
   {
    "duration": 619565,
    "start_time": "2024-03-24T06:09:59.054Z"
   },
   {
    "duration": 1081,
    "start_time": "2024-03-24T06:20:18.621Z"
   },
   {
    "duration": 4,
    "start_time": "2024-03-24T06:20:19.703Z"
   },
   {
    "duration": 4,
    "start_time": "2024-03-24T06:20:19.708Z"
   },
   {
    "duration": 7466,
    "start_time": "2024-03-24T06:20:19.713Z"
   },
   {
    "duration": 190,
    "start_time": "2024-03-24T06:20:27.180Z"
   },
   {
    "duration": 4,
    "start_time": "2024-03-24T06:20:27.372Z"
   },
   {
    "duration": 7029,
    "start_time": "2024-03-24T07:17:45.024Z"
   },
   {
    "duration": 5307,
    "start_time": "2024-03-24T07:17:52.056Z"
   },
   {
    "duration": 3,
    "start_time": "2024-03-24T07:17:57.365Z"
   },
   {
    "duration": 1361,
    "start_time": "2024-03-24T07:17:57.370Z"
   },
   {
    "duration": 155,
    "start_time": "2024-03-24T07:17:58.733Z"
   },
   {
    "duration": 144,
    "start_time": "2024-03-24T07:17:58.889Z"
   },
   {
    "duration": 3726,
    "start_time": "2024-03-24T07:17:59.035Z"
   },
   {
    "duration": 18,
    "start_time": "2024-03-24T07:18:02.762Z"
   },
   {
    "duration": 40,
    "start_time": "2024-03-24T07:18:02.781Z"
   },
   {
    "duration": 16,
    "start_time": "2024-03-24T07:18:02.824Z"
   },
   {
    "duration": 115,
    "start_time": "2024-03-24T07:18:02.841Z"
   },
   {
    "duration": 2,
    "start_time": "2024-03-24T07:18:02.958Z"
   },
   {
    "duration": 41,
    "start_time": "2024-03-24T07:18:02.972Z"
   },
   {
    "duration": 26,
    "start_time": "2024-03-24T07:18:03.015Z"
   },
   {
    "duration": 6,
    "start_time": "2024-03-24T07:18:03.043Z"
   },
   {
    "duration": 34,
    "start_time": "2024-03-24T07:18:03.050Z"
   },
   {
    "duration": 59,
    "start_time": "2024-03-24T07:18:03.085Z"
   },
   {
    "duration": 28,
    "start_time": "2024-03-24T07:18:03.146Z"
   },
   {
    "duration": 7,
    "start_time": "2024-03-24T07:18:03.176Z"
   },
   {
    "duration": 52,
    "start_time": "2024-03-24T07:18:03.184Z"
   },
   {
    "duration": 58,
    "start_time": "2024-03-24T07:18:03.238Z"
   },
   {
    "duration": 77,
    "start_time": "2024-03-24T07:18:03.298Z"
   },
   {
    "duration": 4480,
    "start_time": "2024-03-24T07:18:03.377Z"
   },
   {
    "duration": 371,
    "start_time": "2024-03-24T07:18:07.860Z"
   },
   {
    "duration": 9,
    "start_time": "2024-03-24T07:18:08.233Z"
   },
   {
    "duration": 65,
    "start_time": "2024-03-24T07:18:08.243Z"
   },
   {
    "duration": 12,
    "start_time": "2024-03-24T07:18:08.309Z"
   },
   {
    "duration": 121,
    "start_time": "2024-03-24T07:18:08.324Z"
   },
   {
    "duration": 66,
    "start_time": "2024-03-24T07:18:08.446Z"
   },
   {
    "duration": 2,
    "start_time": "2024-03-24T07:18:08.514Z"
   },
   {
    "duration": 23,
    "start_time": "2024-03-24T07:18:08.518Z"
   },
   {
    "duration": 1307,
    "start_time": "2024-03-24T07:18:08.543Z"
   },
   {
    "duration": 16542,
    "start_time": "2024-03-24T07:18:09.852Z"
   },
   {
    "duration": 85,
    "start_time": "2024-03-24T07:18:26.396Z"
   },
   {
    "duration": 92,
    "start_time": "2024-03-24T07:18:26.483Z"
   },
   {
    "duration": 125696,
    "start_time": "2024-03-24T07:18:49.562Z"
   }
  ],
  "kernelspec": {
   "display_name": "Python 3 (ipykernel)",
   "language": "python",
   "name": "python3"
  },
  "language_info": {
   "codemirror_mode": {
    "name": "ipython",
    "version": 3
   },
   "file_extension": ".py",
   "mimetype": "text/x-python",
   "name": "python",
   "nbconvert_exporter": "python",
   "pygments_lexer": "ipython3",
   "version": "3.11.8"
  },
  "toc": {
   "base_numbering": 1,
   "nav_menu": {},
   "number_sections": true,
   "sideBar": true,
   "skip_h1_title": true,
   "title_cell": "Table of Contents",
   "title_sidebar": "Contents",
   "toc_cell": false,
   "toc_position": {},
   "toc_section_display": true,
   "toc_window_display": false
  }
 },
 "nbformat": 4,
 "nbformat_minor": 4
}
