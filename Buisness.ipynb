{
 "cells": [
  {
   "cell_type": "markdown",
   "metadata": {},
   "source": [
    "# Выбор локации для скважины"
   ]
  },
  {
   "cell_type": "markdown",
   "metadata": {},
   "source": [
    "Допустим, вы работаете в добывающей компании «ГлавРосГосНефть». Нужно решить, где бурить новую скважину.\n",
    "\n",
    "Вам предоставлены пробы нефти в трёх регионах: в каждом 10 000 месторождений, где измерили качество нефти и объём её запасов. Постройте модель машинного обучения, которая поможет определить регион, где добыча принесёт наибольшую прибыль. Проанализируйте возможную прибыль и риски техникой *Bootstrap.*\n",
    "\n",
    "Шаги для выбора локации:\n",
    "\n",
    "- В избранном регионе ищут месторождения, для каждого определяют значения признаков;\n",
    "- Строят модель и оценивают объём запасов;\n",
    "- Выбирают месторождения с самым высокими оценками значений. Количество месторождений зависит от бюджета компании и стоимости разработки одной скважины;\n",
    "- Прибыль равна суммарной прибыли отобранных месторождений."
   ]
  },
  {
   "cell_type": "markdown",
   "metadata": {},
   "source": [
    "## Загрузка и подготовка данных"
   ]
  },
  {
   "cell_type": "code",
   "execution_count": 1,
   "metadata": {},
   "outputs": [],
   "source": [
    "import pandas as pd\n",
    "import seaborn as sns\n",
    "import matplotlib.pyplot as plt\n",
    "from sklearn.model_selection import train_test_split\n",
    "from sklearn.linear_model import LinearRegression\n",
    "from sklearn.metrics import mean_squared_error\n",
    "import numpy as np\n",
    "from scipy import stats as st"
   ]
  },
  {
   "cell_type": "code",
   "execution_count": 2,
   "metadata": {},
   "outputs": [],
   "source": [
    "data_0 = pd.read_csv('/datasets/geo_data_0.csv') \n",
    "data_1 = pd.read_csv('/datasets/geo_data_1.csv') \n",
    "data_2 = pd.read_csv('/datasets/geo_data_2.csv')"
   ]
  },
  {
   "cell_type": "code",
   "execution_count": 3,
   "metadata": {},
   "outputs": [
    {
     "name": "stdout",
     "output_type": "stream",
     "text": [
      "      id        f0        f1       f2     product\n",
      "0  txEyH  0.705745 -0.497823  1.22117  105.280062\n",
      "1  2acmU  1.334711 -0.340164  4.36508   73.037750\n",
      "                  f0             f1             f2        product\n",
      "count  100000.000000  100000.000000  100000.000000  100000.000000\n",
      "mean        0.500419       0.250143       2.502647      92.500000\n",
      "std         0.871832       0.504433       3.248248      44.288691\n",
      "min        -1.408605      -0.848218     -12.088328       0.000000\n",
      "25%        -0.072580      -0.200881       0.287748      56.497507\n",
      "50%         0.502360       0.250252       2.515969      91.849972\n",
      "75%         1.073581       0.700646       4.715088     128.564089\n",
      "max         2.362331       1.343769      16.003790     185.364347\n"
     ]
    }
   ],
   "source": [
    "print(data_0.head(2))\n",
    "print(data_0.describe())"
   ]
  },
  {
   "cell_type": "code",
   "execution_count": 4,
   "metadata": {},
   "outputs": [
    {
     "name": "stdout",
     "output_type": "stream",
     "text": [
      "      id         f0        f1        f2    product\n",
      "0  kBEdx -15.001348 -8.276000 -0.005876   3.179103\n",
      "1  62mP7  14.272088 -3.475083  0.999183  26.953261\n",
      "                  f0             f1             f2        product\n",
      "count  100000.000000  100000.000000  100000.000000  100000.000000\n",
      "mean        1.141296      -4.796579       2.494541      68.825000\n",
      "std         8.965932       5.119872       1.703572      45.944423\n",
      "min       -31.609576     -26.358598      -0.018144       0.000000\n",
      "25%        -6.298551      -8.267985       1.000021      26.953261\n",
      "50%         1.153055      -4.813172       2.011479      57.085625\n",
      "75%         8.621015      -1.332816       3.999904     107.813044\n",
      "max        29.421755      18.734063       5.019721     137.945408\n"
     ]
    }
   ],
   "source": [
    "print(data_1.head(2))\n",
    "print(data_1.describe())"
   ]
  },
  {
   "cell_type": "code",
   "execution_count": 5,
   "metadata": {},
   "outputs": [
    {
     "name": "stdout",
     "output_type": "stream",
     "text": [
      "      id        f0        f1        f2    product\n",
      "0  fwXo0 -1.146987  0.963328 -0.828965  27.758673\n",
      "1  WJtFt  0.262778  0.269839 -2.530187  56.069697\n",
      "                  f0             f1             f2        product\n",
      "count  100000.000000  100000.000000  100000.000000  100000.000000\n",
      "mean        0.002023      -0.002081       2.495128      95.000000\n",
      "std         1.732045       1.730417       3.473445      44.749921\n",
      "min        -8.760004      -7.084020     -11.970335       0.000000\n",
      "25%        -1.162288      -1.174820       0.130359      59.450441\n",
      "50%         0.009424      -0.009482       2.484236      94.925613\n",
      "75%         1.158535       1.163678       4.858794     130.595027\n",
      "max         7.238262       7.844801      16.739402     190.029838\n"
     ]
    }
   ],
   "source": [
    "print(data_2.head(2))\n",
    "print(data_2.describe())"
   ]
  },
  {
   "cell_type": "code",
   "execution_count": 6,
   "metadata": {},
   "outputs": [
    {
     "name": "stdout",
     "output_type": "stream",
     "text": [
      "Количество дубликатов в data_0 0\n",
      "Количество дубликатов в data_1 0\n",
      "Количество дубликатов в data_2 0\n"
     ]
    }
   ],
   "source": [
    "print('Количество дубликатов в data_0', data_0.duplicated().sum())\n",
    "print('Количество дубликатов в data_1',data_1.duplicated().sum())\n",
    "print('Количество дубликатов в data_2',data_2.duplicated().sum())"
   ]
  },
  {
   "cell_type": "code",
   "execution_count": 7,
   "metadata": {},
   "outputs": [
    {
     "name": "stdout",
     "output_type": "stream",
     "text": [
      "<class 'pandas.core.frame.DataFrame'>\n",
      "RangeIndex: 100000 entries, 0 to 99999\n",
      "Data columns (total 5 columns):\n",
      " #   Column   Non-Null Count   Dtype  \n",
      "---  ------   --------------   -----  \n",
      " 0   id       100000 non-null  object \n",
      " 1   f0       100000 non-null  float64\n",
      " 2   f1       100000 non-null  float64\n",
      " 3   f2       100000 non-null  float64\n",
      " 4   product  100000 non-null  float64\n",
      "dtypes: float64(4), object(1)\n",
      "memory usage: 3.8+ MB\n"
     ]
    }
   ],
   "source": [
    "data_0.info()"
   ]
  },
  {
   "cell_type": "code",
   "execution_count": 8,
   "metadata": {},
   "outputs": [
    {
     "name": "stdout",
     "output_type": "stream",
     "text": [
      "<class 'pandas.core.frame.DataFrame'>\n",
      "RangeIndex: 100000 entries, 0 to 99999\n",
      "Data columns (total 5 columns):\n",
      " #   Column   Non-Null Count   Dtype  \n",
      "---  ------   --------------   -----  \n",
      " 0   id       100000 non-null  object \n",
      " 1   f0       100000 non-null  float64\n",
      " 2   f1       100000 non-null  float64\n",
      " 3   f2       100000 non-null  float64\n",
      " 4   product  100000 non-null  float64\n",
      "dtypes: float64(4), object(1)\n",
      "memory usage: 3.8+ MB\n"
     ]
    }
   ],
   "source": [
    "data_1.info()"
   ]
  },
  {
   "cell_type": "code",
   "execution_count": 9,
   "metadata": {},
   "outputs": [
    {
     "name": "stdout",
     "output_type": "stream",
     "text": [
      "<class 'pandas.core.frame.DataFrame'>\n",
      "RangeIndex: 100000 entries, 0 to 99999\n",
      "Data columns (total 5 columns):\n",
      " #   Column   Non-Null Count   Dtype  \n",
      "---  ------   --------------   -----  \n",
      " 0   id       100000 non-null  object \n",
      " 1   f0       100000 non-null  float64\n",
      " 2   f1       100000 non-null  float64\n",
      " 3   f2       100000 non-null  float64\n",
      " 4   product  100000 non-null  float64\n",
      "dtypes: float64(4), object(1)\n",
      "memory usage: 3.8+ MB\n"
     ]
    }
   ],
   "source": [
    "data_2.info()"
   ]
  },
  {
   "cell_type": "markdown",
   "metadata": {},
   "source": [
    "Посмотрели беглым взглядом на данные. Похоже, что есть выбросы, наверное с ними надо что-то делать, но пока решил не трогать. В целом вроде все нормально. Явных дубликатов нет. Нам нужно что-то сделать с айди, потому что по условию задачи, нужно будет обучить три модели линейной регрессии, а судя по характеристике данных id у нас object и судя по содержанию столбцов  представляют собой буквы и цифры. И, по идее нужно удалить строки с повторяющимися айдишками. "
   ]
  },
  {
   "cell_type": "code",
   "execution_count": 10,
   "metadata": {},
   "outputs": [
    {
     "name": "stdout",
     "output_type": "stream",
     "text": [
      "Дубликаты по id = 10\n"
     ]
    },
    {
     "data": {
      "text/html": [
       "<div>\n",
       "<style scoped>\n",
       "    .dataframe tbody tr th:only-of-type {\n",
       "        vertical-align: middle;\n",
       "    }\n",
       "\n",
       "    .dataframe tbody tr th {\n",
       "        vertical-align: top;\n",
       "    }\n",
       "\n",
       "    .dataframe thead th {\n",
       "        text-align: right;\n",
       "    }\n",
       "</style>\n",
       "<table border=\"1\" class=\"dataframe\">\n",
       "  <thead>\n",
       "    <tr style=\"text-align: right;\">\n",
       "      <th></th>\n",
       "      <th>id</th>\n",
       "      <th>f0</th>\n",
       "      <th>f1</th>\n",
       "      <th>f2</th>\n",
       "      <th>product</th>\n",
       "    </tr>\n",
       "  </thead>\n",
       "  <tbody>\n",
       "    <tr>\n",
       "      <th>66136</th>\n",
       "      <td>74z30</td>\n",
       "      <td>1.084962</td>\n",
       "      <td>-0.312358</td>\n",
       "      <td>6.990771</td>\n",
       "      <td>127.643327</td>\n",
       "    </tr>\n",
       "    <tr>\n",
       "      <th>64022</th>\n",
       "      <td>74z30</td>\n",
       "      <td>0.741456</td>\n",
       "      <td>0.459229</td>\n",
       "      <td>5.153109</td>\n",
       "      <td>140.771492</td>\n",
       "    </tr>\n",
       "    <tr>\n",
       "      <th>51970</th>\n",
       "      <td>A5aEY</td>\n",
       "      <td>-0.180335</td>\n",
       "      <td>0.935548</td>\n",
       "      <td>-2.094773</td>\n",
       "      <td>33.020205</td>\n",
       "    </tr>\n",
       "    <tr>\n",
       "      <th>3389</th>\n",
       "      <td>A5aEY</td>\n",
       "      <td>-0.039949</td>\n",
       "      <td>0.156872</td>\n",
       "      <td>0.209861</td>\n",
       "      <td>89.249364</td>\n",
       "    </tr>\n",
       "    <tr>\n",
       "      <th>69163</th>\n",
       "      <td>AGS9W</td>\n",
       "      <td>-0.933795</td>\n",
       "      <td>0.116194</td>\n",
       "      <td>-3.655896</td>\n",
       "      <td>19.230453</td>\n",
       "    </tr>\n",
       "    <tr>\n",
       "      <th>42529</th>\n",
       "      <td>AGS9W</td>\n",
       "      <td>1.454747</td>\n",
       "      <td>-0.479651</td>\n",
       "      <td>0.683380</td>\n",
       "      <td>126.370504</td>\n",
       "    </tr>\n",
       "    <tr>\n",
       "      <th>931</th>\n",
       "      <td>HZww2</td>\n",
       "      <td>0.755284</td>\n",
       "      <td>0.368511</td>\n",
       "      <td>1.863211</td>\n",
       "      <td>30.681774</td>\n",
       "    </tr>\n",
       "    <tr>\n",
       "      <th>7530</th>\n",
       "      <td>HZww2</td>\n",
       "      <td>1.061194</td>\n",
       "      <td>-0.373969</td>\n",
       "      <td>10.430210</td>\n",
       "      <td>158.828695</td>\n",
       "    </tr>\n",
       "    <tr>\n",
       "      <th>63593</th>\n",
       "      <td>QcMuo</td>\n",
       "      <td>0.635635</td>\n",
       "      <td>-0.473422</td>\n",
       "      <td>0.862670</td>\n",
       "      <td>64.578675</td>\n",
       "    </tr>\n",
       "    <tr>\n",
       "      <th>1949</th>\n",
       "      <td>QcMuo</td>\n",
       "      <td>0.506563</td>\n",
       "      <td>-0.323775</td>\n",
       "      <td>-2.215583</td>\n",
       "      <td>75.496502</td>\n",
       "    </tr>\n",
       "    <tr>\n",
       "      <th>75715</th>\n",
       "      <td>Tdehs</td>\n",
       "      <td>0.112079</td>\n",
       "      <td>0.430296</td>\n",
       "      <td>3.218993</td>\n",
       "      <td>60.964018</td>\n",
       "    </tr>\n",
       "    <tr>\n",
       "      <th>21426</th>\n",
       "      <td>Tdehs</td>\n",
       "      <td>0.829407</td>\n",
       "      <td>0.298807</td>\n",
       "      <td>-0.049563</td>\n",
       "      <td>96.035308</td>\n",
       "    </tr>\n",
       "    <tr>\n",
       "      <th>92341</th>\n",
       "      <td>TtcGQ</td>\n",
       "      <td>0.110711</td>\n",
       "      <td>1.022689</td>\n",
       "      <td>0.911381</td>\n",
       "      <td>101.318008</td>\n",
       "    </tr>\n",
       "    <tr>\n",
       "      <th>60140</th>\n",
       "      <td>TtcGQ</td>\n",
       "      <td>0.569276</td>\n",
       "      <td>-0.104876</td>\n",
       "      <td>6.440215</td>\n",
       "      <td>85.350186</td>\n",
       "    </tr>\n",
       "    <tr>\n",
       "      <th>89582</th>\n",
       "      <td>bsk9y</td>\n",
       "      <td>0.398908</td>\n",
       "      <td>-0.400253</td>\n",
       "      <td>10.122376</td>\n",
       "      <td>163.433078</td>\n",
       "    </tr>\n",
       "    <tr>\n",
       "      <th>97785</th>\n",
       "      <td>bsk9y</td>\n",
       "      <td>0.378429</td>\n",
       "      <td>0.005837</td>\n",
       "      <td>0.160827</td>\n",
       "      <td>160.637302</td>\n",
       "    </tr>\n",
       "    <tr>\n",
       "      <th>41724</th>\n",
       "      <td>bxg6G</td>\n",
       "      <td>-0.823752</td>\n",
       "      <td>0.546319</td>\n",
       "      <td>3.630479</td>\n",
       "      <td>93.007798</td>\n",
       "    </tr>\n",
       "    <tr>\n",
       "      <th>1364</th>\n",
       "      <td>bxg6G</td>\n",
       "      <td>0.411645</td>\n",
       "      <td>0.856830</td>\n",
       "      <td>-3.653440</td>\n",
       "      <td>73.604260</td>\n",
       "    </tr>\n",
       "    <tr>\n",
       "      <th>16633</th>\n",
       "      <td>fiKDv</td>\n",
       "      <td>0.157341</td>\n",
       "      <td>1.028359</td>\n",
       "      <td>5.585586</td>\n",
       "      <td>95.817889</td>\n",
       "    </tr>\n",
       "    <tr>\n",
       "      <th>90815</th>\n",
       "      <td>fiKDv</td>\n",
       "      <td>0.049883</td>\n",
       "      <td>0.841313</td>\n",
       "      <td>6.394613</td>\n",
       "      <td>137.346586</td>\n",
       "    </tr>\n",
       "  </tbody>\n",
       "</table>\n",
       "</div>"
      ],
      "text/plain": [
       "          id        f0        f1         f2     product\n",
       "66136  74z30  1.084962 -0.312358   6.990771  127.643327\n",
       "64022  74z30  0.741456  0.459229   5.153109  140.771492\n",
       "51970  A5aEY -0.180335  0.935548  -2.094773   33.020205\n",
       "3389   A5aEY -0.039949  0.156872   0.209861   89.249364\n",
       "69163  AGS9W -0.933795  0.116194  -3.655896   19.230453\n",
       "42529  AGS9W  1.454747 -0.479651   0.683380  126.370504\n",
       "931    HZww2  0.755284  0.368511   1.863211   30.681774\n",
       "7530   HZww2  1.061194 -0.373969  10.430210  158.828695\n",
       "63593  QcMuo  0.635635 -0.473422   0.862670   64.578675\n",
       "1949   QcMuo  0.506563 -0.323775  -2.215583   75.496502\n",
       "75715  Tdehs  0.112079  0.430296   3.218993   60.964018\n",
       "21426  Tdehs  0.829407  0.298807  -0.049563   96.035308\n",
       "92341  TtcGQ  0.110711  1.022689   0.911381  101.318008\n",
       "60140  TtcGQ  0.569276 -0.104876   6.440215   85.350186\n",
       "89582  bsk9y  0.398908 -0.400253  10.122376  163.433078\n",
       "97785  bsk9y  0.378429  0.005837   0.160827  160.637302\n",
       "41724  bxg6G -0.823752  0.546319   3.630479   93.007798\n",
       "1364   bxg6G  0.411645  0.856830  -3.653440   73.604260\n",
       "16633  fiKDv  0.157341  1.028359   5.585586   95.817889\n",
       "90815  fiKDv  0.049883  0.841313   6.394613  137.346586"
      ]
     },
     "metadata": {},
     "output_type": "display_data"
    },
    {
     "name": "stdout",
     "output_type": "stream",
     "text": [
      "\n",
      "Дубликаты по id = 4\n"
     ]
    },
    {
     "data": {
      "text/html": [
       "<div>\n",
       "<style scoped>\n",
       "    .dataframe tbody tr th:only-of-type {\n",
       "        vertical-align: middle;\n",
       "    }\n",
       "\n",
       "    .dataframe tbody tr th {\n",
       "        vertical-align: top;\n",
       "    }\n",
       "\n",
       "    .dataframe thead th {\n",
       "        text-align: right;\n",
       "    }\n",
       "</style>\n",
       "<table border=\"1\" class=\"dataframe\">\n",
       "  <thead>\n",
       "    <tr style=\"text-align: right;\">\n",
       "      <th></th>\n",
       "      <th>id</th>\n",
       "      <th>f0</th>\n",
       "      <th>f1</th>\n",
       "      <th>f2</th>\n",
       "      <th>product</th>\n",
       "    </tr>\n",
       "  </thead>\n",
       "  <tbody>\n",
       "    <tr>\n",
       "      <th>5849</th>\n",
       "      <td>5ltQ6</td>\n",
       "      <td>-3.435401</td>\n",
       "      <td>-12.296043</td>\n",
       "      <td>1.999796</td>\n",
       "      <td>57.085625</td>\n",
       "    </tr>\n",
       "    <tr>\n",
       "      <th>84461</th>\n",
       "      <td>5ltQ6</td>\n",
       "      <td>18.213839</td>\n",
       "      <td>2.191999</td>\n",
       "      <td>3.993869</td>\n",
       "      <td>107.813044</td>\n",
       "    </tr>\n",
       "    <tr>\n",
       "      <th>1305</th>\n",
       "      <td>LHZR0</td>\n",
       "      <td>11.170835</td>\n",
       "      <td>-1.945066</td>\n",
       "      <td>3.002872</td>\n",
       "      <td>80.859783</td>\n",
       "    </tr>\n",
       "    <tr>\n",
       "      <th>41906</th>\n",
       "      <td>LHZR0</td>\n",
       "      <td>-8.989672</td>\n",
       "      <td>-4.286607</td>\n",
       "      <td>2.009139</td>\n",
       "      <td>57.085625</td>\n",
       "    </tr>\n",
       "    <tr>\n",
       "      <th>2721</th>\n",
       "      <td>bfPNe</td>\n",
       "      <td>-9.494442</td>\n",
       "      <td>-5.463692</td>\n",
       "      <td>4.006042</td>\n",
       "      <td>110.992147</td>\n",
       "    </tr>\n",
       "    <tr>\n",
       "      <th>82178</th>\n",
       "      <td>bfPNe</td>\n",
       "      <td>-6.202799</td>\n",
       "      <td>-4.820045</td>\n",
       "      <td>2.995107</td>\n",
       "      <td>84.038886</td>\n",
       "    </tr>\n",
       "    <tr>\n",
       "      <th>47591</th>\n",
       "      <td>wt4Uk</td>\n",
       "      <td>-9.091098</td>\n",
       "      <td>-8.109279</td>\n",
       "      <td>-0.002314</td>\n",
       "      <td>3.179103</td>\n",
       "    </tr>\n",
       "    <tr>\n",
       "      <th>82873</th>\n",
       "      <td>wt4Uk</td>\n",
       "      <td>10.259972</td>\n",
       "      <td>-9.376355</td>\n",
       "      <td>4.994297</td>\n",
       "      <td>134.766305</td>\n",
       "    </tr>\n",
       "  </tbody>\n",
       "</table>\n",
       "</div>"
      ],
      "text/plain": [
       "          id         f0         f1        f2     product\n",
       "5849   5ltQ6  -3.435401 -12.296043  1.999796   57.085625\n",
       "84461  5ltQ6  18.213839   2.191999  3.993869  107.813044\n",
       "1305   LHZR0  11.170835  -1.945066  3.002872   80.859783\n",
       "41906  LHZR0  -8.989672  -4.286607  2.009139   57.085625\n",
       "2721   bfPNe  -9.494442  -5.463692  4.006042  110.992147\n",
       "82178  bfPNe  -6.202799  -4.820045  2.995107   84.038886\n",
       "47591  wt4Uk  -9.091098  -8.109279 -0.002314    3.179103\n",
       "82873  wt4Uk  10.259972  -9.376355  4.994297  134.766305"
      ]
     },
     "metadata": {},
     "output_type": "display_data"
    },
    {
     "name": "stdout",
     "output_type": "stream",
     "text": [
      "\n",
      "Дубликаты по id = 4\n"
     ]
    },
    {
     "data": {
      "text/html": [
       "<div>\n",
       "<style scoped>\n",
       "    .dataframe tbody tr th:only-of-type {\n",
       "        vertical-align: middle;\n",
       "    }\n",
       "\n",
       "    .dataframe tbody tr th {\n",
       "        vertical-align: top;\n",
       "    }\n",
       "\n",
       "    .dataframe thead th {\n",
       "        text-align: right;\n",
       "    }\n",
       "</style>\n",
       "<table border=\"1\" class=\"dataframe\">\n",
       "  <thead>\n",
       "    <tr style=\"text-align: right;\">\n",
       "      <th></th>\n",
       "      <th>id</th>\n",
       "      <th>f0</th>\n",
       "      <th>f1</th>\n",
       "      <th>f2</th>\n",
       "      <th>product</th>\n",
       "    </tr>\n",
       "  </thead>\n",
       "  <tbody>\n",
       "    <tr>\n",
       "      <th>45404</th>\n",
       "      <td>KUPhW</td>\n",
       "      <td>0.231846</td>\n",
       "      <td>-1.698941</td>\n",
       "      <td>4.990775</td>\n",
       "      <td>11.716299</td>\n",
       "    </tr>\n",
       "    <tr>\n",
       "      <th>55967</th>\n",
       "      <td>KUPhW</td>\n",
       "      <td>1.211150</td>\n",
       "      <td>3.176408</td>\n",
       "      <td>5.543540</td>\n",
       "      <td>132.831802</td>\n",
       "    </tr>\n",
       "    <tr>\n",
       "      <th>11449</th>\n",
       "      <td>VF7Jo</td>\n",
       "      <td>2.122656</td>\n",
       "      <td>-0.858275</td>\n",
       "      <td>5.746001</td>\n",
       "      <td>181.716817</td>\n",
       "    </tr>\n",
       "    <tr>\n",
       "      <th>49564</th>\n",
       "      <td>VF7Jo</td>\n",
       "      <td>-0.883115</td>\n",
       "      <td>0.560537</td>\n",
       "      <td>0.723601</td>\n",
       "      <td>136.233420</td>\n",
       "    </tr>\n",
       "    <tr>\n",
       "      <th>44378</th>\n",
       "      <td>Vcm5J</td>\n",
       "      <td>-1.229484</td>\n",
       "      <td>-2.439204</td>\n",
       "      <td>1.222909</td>\n",
       "      <td>137.968290</td>\n",
       "    </tr>\n",
       "    <tr>\n",
       "      <th>95090</th>\n",
       "      <td>Vcm5J</td>\n",
       "      <td>2.587702</td>\n",
       "      <td>1.986875</td>\n",
       "      <td>2.482245</td>\n",
       "      <td>92.327572</td>\n",
       "    </tr>\n",
       "    <tr>\n",
       "      <th>28039</th>\n",
       "      <td>xCHr8</td>\n",
       "      <td>1.633027</td>\n",
       "      <td>0.368135</td>\n",
       "      <td>-2.378367</td>\n",
       "      <td>6.120525</td>\n",
       "    </tr>\n",
       "    <tr>\n",
       "      <th>43233</th>\n",
       "      <td>xCHr8</td>\n",
       "      <td>-0.847066</td>\n",
       "      <td>2.101796</td>\n",
       "      <td>5.597130</td>\n",
       "      <td>184.388641</td>\n",
       "    </tr>\n",
       "  </tbody>\n",
       "</table>\n",
       "</div>"
      ],
      "text/plain": [
       "          id        f0        f1        f2     product\n",
       "45404  KUPhW  0.231846 -1.698941  4.990775   11.716299\n",
       "55967  KUPhW  1.211150  3.176408  5.543540  132.831802\n",
       "11449  VF7Jo  2.122656 -0.858275  5.746001  181.716817\n",
       "49564  VF7Jo -0.883115  0.560537  0.723601  136.233420\n",
       "44378  Vcm5J -1.229484 -2.439204  1.222909  137.968290\n",
       "95090  Vcm5J  2.587702  1.986875  2.482245   92.327572\n",
       "28039  xCHr8  1.633027  0.368135 -2.378367    6.120525\n",
       "43233  xCHr8 -0.847066  2.101796  5.597130  184.388641"
      ]
     },
     "metadata": {},
     "output_type": "display_data"
    },
    {
     "name": "stdout",
     "output_type": "stream",
     "text": [
      "\n"
     ]
    }
   ],
   "source": [
    "for data in [data_0, data_1, data_2]:\n",
    "    print('Дубликаты по id =', data.id.duplicated().sum())\n",
    "    display(data[data.id.duplicated(keep=False)].sort_values(by='id'))\n",
    "    print()\n",
    "    data.drop_duplicates(subset='id', keep='first', inplace=True)"
   ]
  },
  {
   "cell_type": "code",
   "execution_count": 11,
   "metadata": {},
   "outputs": [
    {
     "name": "stdout",
     "output_type": "stream",
     "text": [
      "Дубликаты по id = 0\n"
     ]
    },
    {
     "data": {
      "text/html": [
       "<div>\n",
       "<style scoped>\n",
       "    .dataframe tbody tr th:only-of-type {\n",
       "        vertical-align: middle;\n",
       "    }\n",
       "\n",
       "    .dataframe tbody tr th {\n",
       "        vertical-align: top;\n",
       "    }\n",
       "\n",
       "    .dataframe thead th {\n",
       "        text-align: right;\n",
       "    }\n",
       "</style>\n",
       "<table border=\"1\" class=\"dataframe\">\n",
       "  <thead>\n",
       "    <tr style=\"text-align: right;\">\n",
       "      <th></th>\n",
       "      <th>id</th>\n",
       "      <th>f0</th>\n",
       "      <th>f1</th>\n",
       "      <th>f2</th>\n",
       "      <th>product</th>\n",
       "    </tr>\n",
       "  </thead>\n",
       "  <tbody>\n",
       "  </tbody>\n",
       "</table>\n",
       "</div>"
      ],
      "text/plain": [
       "Empty DataFrame\n",
       "Columns: [id, f0, f1, f2, product]\n",
       "Index: []"
      ]
     },
     "metadata": {},
     "output_type": "display_data"
    },
    {
     "name": "stdout",
     "output_type": "stream",
     "text": [
      "\n",
      "Дубликаты по id = 0\n"
     ]
    },
    {
     "data": {
      "text/html": [
       "<div>\n",
       "<style scoped>\n",
       "    .dataframe tbody tr th:only-of-type {\n",
       "        vertical-align: middle;\n",
       "    }\n",
       "\n",
       "    .dataframe tbody tr th {\n",
       "        vertical-align: top;\n",
       "    }\n",
       "\n",
       "    .dataframe thead th {\n",
       "        text-align: right;\n",
       "    }\n",
       "</style>\n",
       "<table border=\"1\" class=\"dataframe\">\n",
       "  <thead>\n",
       "    <tr style=\"text-align: right;\">\n",
       "      <th></th>\n",
       "      <th>id</th>\n",
       "      <th>f0</th>\n",
       "      <th>f1</th>\n",
       "      <th>f2</th>\n",
       "      <th>product</th>\n",
       "    </tr>\n",
       "  </thead>\n",
       "  <tbody>\n",
       "  </tbody>\n",
       "</table>\n",
       "</div>"
      ],
      "text/plain": [
       "Empty DataFrame\n",
       "Columns: [id, f0, f1, f2, product]\n",
       "Index: []"
      ]
     },
     "metadata": {},
     "output_type": "display_data"
    },
    {
     "name": "stdout",
     "output_type": "stream",
     "text": [
      "\n",
      "Дубликаты по id = 0\n"
     ]
    },
    {
     "data": {
      "text/html": [
       "<div>\n",
       "<style scoped>\n",
       "    .dataframe tbody tr th:only-of-type {\n",
       "        vertical-align: middle;\n",
       "    }\n",
       "\n",
       "    .dataframe tbody tr th {\n",
       "        vertical-align: top;\n",
       "    }\n",
       "\n",
       "    .dataframe thead th {\n",
       "        text-align: right;\n",
       "    }\n",
       "</style>\n",
       "<table border=\"1\" class=\"dataframe\">\n",
       "  <thead>\n",
       "    <tr style=\"text-align: right;\">\n",
       "      <th></th>\n",
       "      <th>id</th>\n",
       "      <th>f0</th>\n",
       "      <th>f1</th>\n",
       "      <th>f2</th>\n",
       "      <th>product</th>\n",
       "    </tr>\n",
       "  </thead>\n",
       "  <tbody>\n",
       "  </tbody>\n",
       "</table>\n",
       "</div>"
      ],
      "text/plain": [
       "Empty DataFrame\n",
       "Columns: [id, f0, f1, f2, product]\n",
       "Index: []"
      ]
     },
     "metadata": {},
     "output_type": "display_data"
    },
    {
     "name": "stdout",
     "output_type": "stream",
     "text": [
      "\n"
     ]
    }
   ],
   "source": [
    "for data in [data_0, data_1, data_2]:\n",
    "    print('Дубликаты по id =', data.id.duplicated().sum())\n",
    "    display(data[data.id.duplicated(keep=False)].sort_values(by='id'))\n",
    "    print()"
   ]
  },
  {
   "cell_type": "markdown",
   "metadata": {},
   "source": [
    "Нашли 10 дубликатов, удалили их, проверили. Честно говоря, мне кажется, что на результаты это не сильно повлияет, ведь у нас 100000 строк в каждом дата-фрейме. Но надо так надо."
   ]
  },
  {
   "cell_type": "code",
   "execution_count": 12,
   "metadata": {},
   "outputs": [],
   "source": [
    "data_0.drop('id', axis=1, inplace=True)\n",
    "data_1.drop('id', axis=1, inplace=True)\n",
    "data_2.drop('id', axis=1, inplace=True)"
   ]
  },
  {
   "cell_type": "code",
   "execution_count": 13,
   "metadata": {},
   "outputs": [
    {
     "data": {
      "image/png": "[encoded data removed]",
      "text/plain": [
       "<Figure size 864x432 with 2 Axes>"
      ]
     },
     "metadata": {
      "needs_background": "light"
     },
     "output_type": "display_data"
    },
    {
     "data": {
      "image/png": "[encoded data removed]",
      "text/plain": [
       "<Figure size 864x432 with 2 Axes>"
      ]
     },
     "metadata": {
      "needs_background": "light"
     },
     "output_type": "display_data"
    },
    {
     "data": {
      "image/png": "[encoded data removed]",
      "text/plain": [
       "<Figure size 864x432 with 2 Axes>"
      ]
     },
     "metadata": {
      "needs_background": "light"
     },
     "output_type": "display_data"
    },
    {
     "data": {
      "image/png": "[encoded data removed]",
      "text/plain": [
       "<Figure size 864x432 with 2 Axes>"
      ]
     },
     "metadata": {
      "needs_background": "light"
     },
     "output_type": "display_data"
    }
   ],
   "source": [
    "def plot_features(data_0):\n",
    "    import matplotlib.pyplot as plt\n",
    "    import seaborn as sns\n",
    "\n",
    "    for column in data_0.columns:\n",
    "        if column != 'id':\n",
    "            if data_0[column].dtype in ['int64', 'float64']:\n",
    "                fig, axes = plt.subplots(1, 2, figsize=(12, 6))\n",
    "                sns.histplot(data_0[column], kde=False, bins=20, ax=axes[0])\n",
    "                axes[0].set_title(f'Гистограмма {column}')\n",
    "                axes[0].set_xlabel(column)\n",
    "                axes[0].set_ylabel('Количество')\n",
    "\n",
    "                sns.boxplot(x=data_0[column], ax=axes[1])\n",
    "                axes[1].set_title(f'Ящик с усами {column}')\n",
    "                axes[1].set_xlabel(column)\n",
    "                plt.show()\n",
    "            else:\n",
    "                plt.figure(figsize=(8, 6))\n",
    "                counts = data_0[column].value_counts()\n",
    "                plt.pie(counts, labels=counts.index, autopct='%1.1f%%')\n",
    "                plt.title(f'Диаграма {column}')\n",
    "                plt.show()\n",
    "\n",
    "plot_features(data_0)"
   ]
  },
  {
   "cell_type": "code",
   "execution_count": 14,
   "metadata": {},
   "outputs": [
    {
     "data": {
      "image/png": "[encoded data removed]",
      "text/plain": [
       "<Figure size 864x432 with 2 Axes>"
      ]
     },
     "metadata": {
      "needs_background": "light"
     },
     "output_type": "display_data"
    },
    {
     "data": {
      "image/png": "[encoded data removed]",
      "text/plain": [
       "<Figure size 864x432 with 2 Axes>"
      ]
     },
     "metadata": {
      "needs_background": "light"
     },
     "output_type": "display_data"
    },
    {
     "data": {
      "image/png": "[encoded data removed]",
      "text/plain": [
       "<Figure size 864x432 with 2 Axes>"
      ]
     },
     "metadata": {
      "needs_background": "light"
     },
     "output_type": "display_data"
    },
    {
     "data": {
      "image/png": "[encoded data removed]",
      "text/plain": [
       "<Figure size 864x432 with 2 Axes>"
      ]
     },
     "metadata": {
      "needs_background": "light"
     },
     "output_type": "display_data"
    }
   ],
   "source": [
    "plot_features(data_1)"
   ]
  },
  {
   "cell_type": "code",
   "execution_count": 15,
   "metadata": {},
   "outputs": [
    {
     "data": {
      "image/png": "[encoded data removed]",
      "text/plain": [
       "<Figure size 864x432 with 2 Axes>"
      ]
     },
     "metadata": {
      "needs_background": "light"
     },
     "output_type": "display_data"
    },
    {
     "data": {
      "image/png": "[encoded data removed]",
      "text/plain": [
       "<Figure size 864x432 with 2 Axes>"
      ]
     },
     "metadata": {
      "needs_background": "light"
     },
     "output_type": "display_data"
    },
    {
     "data": {
      "image/png": "[encoded data removed]",
      "text/plain": [
       "<Figure size 864x432 with 2 Axes>"
      ]
     },
     "metadata": {
      "needs_background": "light"
     },
     "output_type": "display_data"
    },
    {
     "data": {
      "image/png": "[encoded data removed]",
      "text/plain": [
       "<Figure size 864x432 with 2 Axes>"
      ]
     },
     "metadata": {
      "needs_background": "light"
     },
     "output_type": "display_data"
    }
   ],
   "source": [
    "plot_features(data_2)"
   ]
  },
  {
   "cell_type": "markdown",
   "metadata": {},
   "source": [
    "Посмотрели данные на графиках. Да, выбросы похоже есть, по ящику с усами это видно. Еще, во втором регионе признаки f2 и product  - это не нормальное распределение. Почему нельзя сказать, у нас совсем нет дополнительных данных. Возможно дело в сборе информации по данному показателю, человеческий фактор или оборудование."
   ]
  },
  {
   "cell_type": "code",
   "execution_count": 16,
   "metadata": {},
   "outputs": [
    {
     "data": {
      "image/png": "[encoded data removed]",
      "text/plain": [
       "<Figure size 720x576 with 2 Axes>"
      ]
     },
     "metadata": {
      "needs_background": "light"
     },
     "output_type": "display_data"
    }
   ],
   "source": [
    "def plot_correlation_matrix(data):\n",
    "    \n",
    "    # Создание матрицы корреляции\n",
    "    correlation_matrix = data.corr()\n",
    "\n",
    "    # Построение тепловой карты\n",
    "    plt.figure(figsize=(10, 8))\n",
    "    sns.heatmap(correlation_matrix, annot=True, cmap=\"YlGnBu\")\n",
    "    plt.title('Матрица корреляции непрерывных данных')\n",
    "    plt.show()\n",
    "    \n",
    "plot_correlation_matrix(data_0)"
   ]
  },
  {
   "cell_type": "code",
   "execution_count": 17,
   "metadata": {},
   "outputs": [
    {
     "data": {
      "image/png": "[encoded data removed]",
      "text/plain": [
       "<Figure size 720x576 with 2 Axes>"
      ]
     },
     "metadata": {
      "needs_background": "light"
     },
     "output_type": "display_data"
    }
   ],
   "source": [
    "plot_correlation_matrix(data_1)"
   ]
  },
  {
   "cell_type": "code",
   "execution_count": 18,
   "metadata": {},
   "outputs": [
    {
     "data": {
      "image/png": "[encoded data removed]",
      "text/plain": [
       "<Figure size 720x576 with 2 Axes>"
      ]
     },
     "metadata": {
      "needs_background": "light"
     },
     "output_type": "display_data"
    }
   ],
   "source": [
    "plot_correlation_matrix(data_2)"
   ]
  },
  {
   "cell_type": "markdown",
   "metadata": {},
   "source": [
    "В целом f2 коррелируюет с целевым признаком."
   ]
  },
  {
   "cell_type": "markdown",
   "metadata": {},
   "source": [
    "<div class=\"alert alert-block alert-info\">\n",
    "<b>Совет:</b> Можно было бы еще выдвинуть предположение, откуда такая высокая корреляция во 2 регионе с целевым признаком могла возникнуть\n",
    "</div>"
   ]
  },
  {
   "cell_type": "markdown",
   "metadata": {},
   "source": [
    "\n",
    "\n",
    "<div class=\"alert alert-block alert-success\">\n",
    "<b>Успех:</b> Данные осмотрены хорошо, особенно радует, что изучены корреляции, так как мы планируем использовать линейные модели, а для них это важно. \n",
    "</div>\n",
    "\n",
    "\n",
    "\n",
    "\n",
    "<div class=\"alert alert-block alert-info\">\n",
    "<b>Совет:</b>  Советую обратить внимание на библиотеки sweetviz и ydata_profiling помогут в проведении более тщательного EDA анализа. Исследовательский анализ можно делать и с помощью ручного вызова функций дефолтных библиотек. Данные библиотеки хороши для максимизации комфорта презентации результатов анализа бизнес-пользователям.  \n",
    "\n",
    "Очень просты в использоовании, на вход кладется датафрейм: ydata_profiling.ProfileReport(df) \n",
    "</div>\n"
   ]
  },
  {
   "cell_type": "markdown",
   "metadata": {},
   "source": [
    "## Обучение и проверка модели"
   ]
  },
  {
   "cell_type": "code",
   "execution_count": 19,
   "metadata": {},
   "outputs": [
    {
     "name": "stdout",
     "output_type": "stream",
     "text": [
      "Средний запас предсказанного сырья: 92.60984027552014\n",
      "RMSE модели: 37.68508926201444\n"
     ]
    }
   ],
   "source": [
    "X = data_0.drop('product', axis=1)\n",
    "y = data_0['product']  \n",
    "X_train, X_valid, y_train, y_valid = train_test_split(X, y, test_size=0.25, random_state=42)\n",
    "\n",
    "# Обучение модели линейной регрессии\n",
    "model = LinearRegression()\n",
    "model.fit(X_train, y_train)\n",
    "\n",
    "# Предсказания на валидационной выборке\n",
    "predictions = model.predict(X_valid)\n",
    "\n",
    "# Сохранение предсказаний и правильных ответов\n",
    "results = pd.DataFrame({'Prediction': predictions, 'Actual': y_valid})\n",
    "results.to_csv('predictions.csv', index=False)\n",
    "\n",
    "# Вывод среднего запаса предсказанного сырья и RMSE модели\n",
    "mean_predicted = np.mean(predictions)\n",
    "rmse = np.sqrt(mean_squared_error(y_valid, predictions))\n",
    "print(\"Средний запас предсказанного сырья:\", mean_predicted)\n",
    "print(\"RMSE модели:\", rmse)"
   ]
  },
  {
   "cell_type": "code",
   "execution_count": 20,
   "metadata": {},
   "outputs": [
    {
     "name": "stdout",
     "output_type": "stream",
     "text": [
      "Средний запас предсказанного сырья для региона Регион 0: 92.60984027552014\n",
      "RMSE модели для региона Регион 0: 37.68508926201444\n",
      "Средний запас предсказанного сырья для региона Регион 1: 68.57703454115173\n",
      "RMSE модели для региона Регион 1: 0.8928265978121422\n",
      "Средний запас предсказанного сырья для региона Регион 2: 94.93478722287514\n",
      "RMSE модели для региона Регион 2: 40.080822438088305\n"
     ]
    }
   ],
   "source": [
    "def train_and_evaluate_model_for_region(region_data, region_name):\n",
    "    X = region_data.drop('product', axis=1)\n",
    "    y = region_data['product']\n",
    "    X_train, X_valid, y_train, y_valid = train_test_split(X, y, test_size=0.25, random_state=42)\n",
    "    \n",
    "    model = LinearRegression()\n",
    "    model.fit(X_train, y_train)\n",
    "    \n",
    "    predictions = model.predict(X_valid)\n",
    "    \n",
    "    mse = mean_squared_error(y_valid, predictions)\n",
    "    rmse = np.sqrt(mse)\n",
    "    \n",
    "    print(f\"Средний запас предсказанного сырья для региона {region_name}:\", np.mean(predictions))\n",
    "    print(f\"RMSE модели для региона {region_name}:\", rmse)\n",
    "    \n",
    "    return model, predictions, y_valid\n",
    "\n",
    "# Пример использования функции для каждого региона\n",
    "model_0, predictions_0, y_valid_0 = train_and_evaluate_model_for_region(data_0, \"Регион 0\")\n",
    "model_1, predictions_1, y_valid_1 = train_and_evaluate_model_for_region(data_1, \"Регион 1\")\n",
    "model_2, predictions_2, y_valid_2 = train_and_evaluate_model_for_region(data_2, \"Регион 2\")"
   ]
  },
  {
   "cell_type": "markdown",
   "metadata": {},
   "source": [
    "Лучшие показатели дает первая модель для первого региона соответственно. Метрика RMSE меньше всего в ней. Со второй моделью  дела совсем плохи, скорее всего дело в странных данных, которые мы уведели а графиках на предыдущем шаге."
   ]
  },
  {
   "cell_type": "markdown",
   "metadata": {},
   "source": [
    "## Подготовка к расчёту прибыли"
   ]
  },
  {
   "cell_type": "code",
   "execution_count": 21,
   "metadata": {},
   "outputs": [],
   "source": [
    "wells = 200                 #200 лучших точек для разработки\n",
    "budget = 10000000000        #бюджет на разработку скважин в регионе — 10 млрд рублей\n",
    "revenue = 450000            #тысяча баррелей сырья приносит 450 тыс рублей дохода"
   ]
  },
  {
   "cell_type": "code",
   "execution_count": 22,
   "metadata": {},
   "outputs": [
    {
     "name": "stdout",
     "output_type": "stream",
     "text": [
      "Минимальный объем сырья разработки новой скважины = 111.111 тыс.бар.\n"
     ]
    }
   ],
   "source": [
    "break_even_point = budget / revenue / wells \n",
    "print('Минимальный объем сырья разработки новой скважины =', round(break_even_point, 3), 'тыс.бар.')"
   ]
  },
  {
   "cell_type": "code",
   "execution_count": 23,
   "metadata": {},
   "outputs": [
    {
     "name": "stdout",
     "output_type": "stream",
     "text": [
      "Средний запас сырья на скважину в первом регионе 92.49968421774354\n",
      "Средний запас сырья на скважину во втором регионе 68.82391591804064\n",
      "Средний запас сырья на скважину в третьем регионе 94.99834211933378\n"
     ]
    }
   ],
   "source": [
    "print('Средний запас сырья на скважину в первом регионе', data_0['product'].mean())\n",
    "print('Средний запас сырья на скважину во втором регионе', data_1['product'].mean())\n",
    "print('Средний запас сырья на скважину в третьем регионе', data_2['product'].mean())"
   ]
  },
  {
   "cell_type": "markdown",
   "metadata": {},
   "source": [
    "В итоге, с учетом наших вводных касающихся рентабельност, экономически целесообразно рзрабатывать скважины объем сырья которых выше 111.111 тыс. бар"
   ]
  },
  {
   "cell_type": "markdown",
   "metadata": {},
   "source": [
    "## Расчёт прибыли и рисков "
   ]
  },
  {
   "cell_type": "code",
   "execution_count": 24,
   "metadata": {},
   "outputs": [],
   "source": [
    "def profit_calc(target, probabilities, revenue, count): \n",
    "    probs_sorted = probabilities.sort_values(ascending=False) \n",
    "    selected = target[probs_sorted.index][:count]             \n",
    "    return revenue * selected.sum() - budget                 "
   ]
  },
  {
   "cell_type": "code",
   "execution_count": 25,
   "metadata": {},
   "outputs": [
    {
     "name": "stdout",
     "output_type": "stream",
     "text": [
      "Для региона 1 :\n",
      "Средняя выручка = 409 млн.\n",
      "Доверительный интервал: [ -131536028.702 : 944395582.755 ]\n",
      "Риск - 7 %\n",
      "Для региона 2 :\n",
      "Средняя выручка = 537 млн.\n",
      "Доверительный интервал: [ 114527902.902 : 970787910.995 ]\n",
      "Риск - 1 %\n",
      "Для региона 3 :\n",
      "Средняя выручка = 354 млн.\n",
      "Доверительный интервал: [ -159194031.191 : 875652502.871 ]\n",
      "Риск - 10 %\n"
     ]
    }
   ],
   "source": [
    "reg = 1\n",
    "for dataset in [data_0, data_1, data_2]:\n",
    "    features = dataset.drop(['product'], axis=1)  \n",
    "    target = dataset['product']  \n",
    "\n",
    "    features_train, features_valid, target_train, target_valid = train_test_split(features,\n",
    "                                                                                  target,\n",
    "                                                                                  test_size=0.25,\n",
    "                                                                                  random_state=12345)\n",
    "\n",
    "    model = LinearRegression() \n",
    "    model.fit(features_train, target_train) \n",
    "    predictions_valid = model.predict(features_valid) \n",
    "    \n",
    "    predictions_valid_ = pd.Series(predictions_valid)                                            \n",
    "    target_valid_ = pd.Series(target_valid).reset_index(drop=True) \n",
    "    state = np.random.RandomState(12345)\n",
    "    \n",
    "    values = []\n",
    "    \n",
    "    for i in range(1000):\n",
    "        indices = state.choice(target_valid_.index, size=500, replace=True) \n",
    "        target_subsample = target_valid_[indices]\n",
    "        probs_subsample = predictions_valid_[indices]\n",
    "        values.append(profit_calc(target_subsample, probs_subsample, revenue, wells))\n",
    "\n",
    "    values = pd.Series(values)\n",
    "\n",
    "    mean = values.mean()\n",
    "    lower = values.quantile(.025)\n",
    "    upper = values.quantile(.975)\n",
    "    risk = round(st.percentileofscore(values, 0))\n",
    "    \n",
    "    print('Для региона', reg, ':')\n",
    "    print('Средняя выручка =', round((round(mean, 3))/1000000), 'млн.')\n",
    "    print('Доверительный интервал: [', round(lower,3), ':', round(upper,3), ']')\n",
    "    print('Риск -', risk, '%')\n",
    "    \n",
    "    reg += 1"
   ]
  },
  {
   "cell_type": "markdown",
   "metadata": {},
   "source": [
    "Исходя из полученных данных, наиболее подходящим для добычи нефти представляется регион 2. Он показывает самую высокую среднюю выручку в размере 537 млн. и наименьший риск убытков (1%). Доверительный интервал для средней прибыли также демонстрирует наиболее узкий диапазон для региона 2, что свидетельствует о более высокой уверенности в прогнозируемой прибыли.\n",
    "\n",
    "Поэтому, рекомендуется выбрать регион 2 для разработки скважин из-за более благоприятных перспектив по отношению к риску и потенциальной прибыли."
   ]
  },
  {
   "cell_type": "markdown",
   "metadata": {},
   "source": [
    "## Общий вывод\n",
    "\n",
    "1. На первом шаге мы загрузили и подготовили данные для дальнейшей работы. Бегло просмотрели содержание, проверили данные на стандартные ошибки. Явных дубликатов не нашли. Нам нужно было что-то сделать с айди, потому что по условию задачи, нужно будет обучить три модели линейной регрессии, а судя по характеристике данных id у нас object и судя по содержанию столбцов представляют собой буквы и цифры. И, по идее нужно удалить строки с повторяющимися айдишками, что мы и сделали. Нашли 10 дубликатов, хотя они врядли бы на что-то повлияли.. Но мы сделали все по фэншую. После удалили столбцы с айди.\n",
    "\n",
    "Далее при помощи функции, пострили графики для всех файлов.  Посмотрели данные на графиках. Да, выбросы похоже есть, по ящику с усами это видно. Еще, во втором регионе признаки f2 и product - это не нормальное распределение. Почему нельзя сказать, у нас совсем нет дополнительных данных. Возможно дело в сборе информации по данному показателю, человеческий фактор или оборудование.\n",
    "\n",
    "Построили матрицы корреляции, чтобы посмотреть как данные влияют друг на дргуа. У нас только цифры, впереди модель линейной регреессии. Нам отличсно подходит корреляция Пирсона, ведь мы имеем дело с непрерывными данными. Посмотрели, В целом f2 коррелируюет с целевым признаком во всех трех файлах.\n",
    "\n",
    "2.  Обученили и проверили модель линейной регрессии. \n",
    "Лучшие показатели получили у первой модели для первого региона соответственно. Метрика RMSE меньше всего в ней. Со второй моделью дела совсем плохи, скорее всего дело в странных данных, которые мы уведели а графиках на предыдущем шаге.\n",
    "\n",
    "3. На третьем шаге провели подготовку к расчету прибыли. Внесли все данные нам показатели в константы Пайтон.  \n",
    "Посчитали минимальный объем сырья разработки новой скважины = 111.111 тыс.бар.  \n",
    "Средний запас сырья на скважину в первом регионе 92.49968421774354  \n",
    "Средний запас сырья на скважину во втором регионе 68.82391591804064  \n",
    "Средний запас сырья на скважину в третьем регионе 94.99834211933378  \n",
    "\n",
    "Таким образом на третьем шаге доказали, что далеко не все скважины нам подходят.\n",
    "\n",
    "4. Провели процедуру *Bootstrap*, как и требоавлось. \n",
    "Выяснили все необходимы показатели для каждого региона, сделали вывод и выбрали регион номер 2 для дальнейшей разработки.\n",
    "\n",
    "\n",
    "Для региона 1 :  \n",
    "Средняя выручка = 409 млн.  \n",
    "Доверительный интервал: [ -131536028.702 : 944395582.755 ]  \n",
    "Риск - 7 %  \n",
    "Для региона 2 :  \n",
    "Средняя выручка = 537 млн.  \n",
    "Доверительный интервал: [ 114527902.902 : 970787910.995 ]  \n",
    "Риск - 1 %  \n",
    "Для региона 3 :  \n",
    "Средняя выручка = 354 млн.  \n",
    "Доверительный интервал: [ -159194031.191 : 875652502.871 ]  \n",
    "Риск - 10 %  \n",
    "Исходя из полученных данных, наиболее подходящим для добычи нефти представляется регион 2. Он показывает самую высокую среднюю выручку в размере 537 млн. и наименьший риск убытков (1%). Доверительный интервал для средней прибыли также демонстрирует наиболее узкий диапазон для региона 2, что свидетельствует о более высокой уверенности в прогнозируемой прибыли.\n",
    "\n",
    "Поэтому, рекомендуется выбрать регион 2 для разработки скважин из-за более благоприятных перспектив по отношению к риску и потенциальной прибыли."
   ]
  },
  {
   "cell_type": "markdown",
   "metadata": {},
   "source": [
    "## Чек-лист готовности проекта"
   ]
  },
  {
   "cell_type": "markdown",
   "metadata": {},
   "source": [
    "Поставьте 'x' в выполненных пунктах. Далее нажмите Shift+Enter."
   ]
  },
  {
   "cell_type": "markdown",
   "metadata": {},
   "source": [
    "- [x]  Jupyter Notebook открыт\n",
    "- [x]  Весь код выполняется без ошибок\n",
    "- [x]  Ячейки с кодом расположены в порядке исполнения\n",
    "- [x]  Выполнен шаг 1: данные подготовлены\n",
    "- [x]  Выполнен шаг 2: модели обучены и проверены\n",
    "    - [x]  Данные корректно разбиты на обучающую и валидационную выборки\n",
    "    - [x]  Модели обучены, предсказания сделаны\n",
    "    - [x]  Предсказания и правильные ответы на валидационной выборке сохранены\n",
    "    - [x]  На экране напечатаны результаты\n",
    "    - [x]  Сделаны выводы\n",
    "- [x]  Выполнен шаг 3: проведена подготовка к расчёту прибыли\n",
    "    - [x]  Для всех ключевых значений созданы константы Python\n",
    "    - [x]  Посчитано минимальное среднее количество продукта в месторождениях региона, достаточное для разработки\n",
    "    - [x]  По предыдущему пункту сделаны выводы\n",
    "    - [x]  Написана функция расчёта прибыли\n",
    "- [x]  Выполнен шаг 4: посчитаны риски и прибыль\n",
    "    - [x]  Проведена процедура *Bootstrap*\n",
    "    - [x]  Все параметры бутстрепа соответствуют условию\n",
    "    - [x]  Найдены все нужные величины\n",
    "    - [x]  Предложен регион для разработки месторождения\n",
    "    - [x]  Выбор региона обоснован"
   ]
  },
  {
   "cell_type": "code",
   "execution_count": null,
   "metadata": {},
   "outputs": [],
   "source": []
  }
 ],
 "metadata": {
  "ExecuteTimeLog": [
   {
    "duration": 413,
    "start_time": "2024-02-05T15:08:13.922Z"
   },
   {
    "duration": 1629,
    "start_time": "2024-02-05T15:08:15.923Z"
   },
   {
    "duration": 441,
    "start_time": "2024-02-05T15:08:27.483Z"
   },
   {
    "duration": 86,
    "start_time": "2024-02-05T15:12:56.525Z"
   },
   {
    "duration": 49,
    "start_time": "2024-02-05T15:13:08.146Z"
   },
   {
    "duration": 37,
    "start_time": "2024-02-05T15:13:26.272Z"
   },
   {
    "duration": 38,
    "start_time": "2024-02-05T15:13:45.017Z"
   },
   {
    "duration": 38,
    "start_time": "2024-02-05T15:13:59.065Z"
   },
   {
    "duration": 1079,
    "start_time": "2024-02-05T15:22:52.224Z"
   },
   {
    "duration": 15,
    "start_time": "2024-02-05T15:23:16.224Z"
   },
   {
    "duration": 17,
    "start_time": "2024-02-05T15:23:30.178Z"
   },
   {
    "duration": 372,
    "start_time": "2024-02-05T15:23:51.736Z"
   },
   {
    "duration": 342,
    "start_time": "2024-02-05T15:24:01.154Z"
   },
   {
    "duration": 1339,
    "start_time": "2024-02-05T15:24:20.755Z"
   },
   {
    "duration": 1218,
    "start_time": "2024-02-05T15:24:52.327Z"
   },
   {
    "duration": 1354,
    "start_time": "2024-02-05T15:25:15.707Z"
   },
   {
    "duration": 52,
    "start_time": "2024-02-05T15:26:50.961Z"
   },
   {
    "duration": 141,
    "start_time": "2024-02-05T15:27:53.117Z"
   },
   {
    "duration": 4,
    "start_time": "2024-02-05T15:34:21.004Z"
   },
   {
    "duration": 3,
    "start_time": "2024-02-05T15:34:28.016Z"
   },
   {
    "duration": 4,
    "start_time": "2024-02-05T15:34:44.232Z"
   },
   {
    "duration": 22,
    "start_time": "2024-02-05T15:45:32.732Z"
   },
   {
    "duration": 20,
    "start_time": "2024-02-05T15:45:41.593Z"
   },
   {
    "duration": 23,
    "start_time": "2024-02-05T15:45:50.557Z"
   },
   {
    "duration": 20,
    "start_time": "2024-02-05T15:45:55.579Z"
   },
   {
    "duration": 3,
    "start_time": "2024-02-05T15:46:19.892Z"
   },
   {
    "duration": 445,
    "start_time": "2024-02-05T15:46:20.338Z"
   },
   {
    "duration": 41,
    "start_time": "2024-02-05T15:46:20.785Z"
   },
   {
    "duration": 53,
    "start_time": "2024-02-05T15:46:20.877Z"
   },
   {
    "duration": 44,
    "start_time": "2024-02-05T15:46:21.460Z"
   },
   {
    "duration": 173,
    "start_time": "2024-02-05T15:46:21.859Z"
   },
   {
    "duration": 1308,
    "start_time": "2024-02-05T15:46:22.293Z"
   },
   {
    "duration": 1377,
    "start_time": "2024-02-05T15:46:29.420Z"
   },
   {
    "duration": 1425,
    "start_time": "2024-02-05T15:46:30.799Z"
   },
   {
    "duration": 452,
    "start_time": "2024-02-05T15:46:34.120Z"
   },
   {
    "duration": 357,
    "start_time": "2024-02-05T15:47:22.605Z"
   },
   {
    "duration": 384,
    "start_time": "2024-02-05T15:47:23.767Z"
   },
   {
    "duration": 358,
    "start_time": "2024-02-05T15:47:24.662Z"
   },
   {
    "duration": 327,
    "start_time": "2024-02-05T15:56:23.471Z"
   },
   {
    "duration": 423,
    "start_time": "2024-02-05T15:56:24.496Z"
   },
   {
    "duration": 38,
    "start_time": "2024-02-05T15:56:24.921Z"
   },
   {
    "duration": 41,
    "start_time": "2024-02-05T15:56:25.394Z"
   },
   {
    "duration": 37,
    "start_time": "2024-02-05T15:56:26.234Z"
   },
   {
    "duration": 137,
    "start_time": "2024-02-05T15:56:27.198Z"
   },
   {
    "duration": 1323,
    "start_time": "2024-02-05T15:56:28.881Z"
   },
   {
    "duration": 1200,
    "start_time": "2024-02-05T15:56:32.606Z"
   },
   {
    "duration": 1333,
    "start_time": "2024-02-05T15:56:34.406Z"
   },
   {
    "duration": 344,
    "start_time": "2024-02-05T15:56:36.096Z"
   },
   {
    "duration": 353,
    "start_time": "2024-02-05T15:56:36.687Z"
   },
   {
    "duration": 364,
    "start_time": "2024-02-05T15:56:37.683Z"
   },
   {
    "duration": 408,
    "start_time": "2024-02-05T15:56:45.233Z"
   },
   {
    "duration": 344,
    "start_time": "2024-02-05T15:56:47.914Z"
   },
   {
    "duration": 385,
    "start_time": "2024-02-05T15:57:31.763Z"
   },
   {
    "duration": 25,
    "start_time": "2024-02-05T15:59:49.197Z"
   },
   {
    "duration": 53,
    "start_time": "2024-02-05T16:00:02.628Z"
   },
   {
    "duration": 16,
    "start_time": "2024-02-05T16:01:08.635Z"
   },
   {
    "duration": 17,
    "start_time": "2024-02-05T16:01:37.637Z"
   },
   {
    "duration": 16,
    "start_time": "2024-02-05T16:01:41.438Z"
   },
   {
    "duration": 5,
    "start_time": "2024-02-05T16:17:24.784Z"
   },
   {
    "duration": 94,
    "start_time": "2024-02-05T16:17:35.002Z"
   },
   {
    "duration": 11,
    "start_time": "2024-02-05T16:18:36.341Z"
   },
   {
    "duration": 1537,
    "start_time": "2024-02-05T16:18:45.639Z"
   },
   {
    "duration": 469,
    "start_time": "2024-02-05T16:18:47.179Z"
   },
   {
    "duration": 44,
    "start_time": "2024-02-05T16:18:47.650Z"
   },
   {
    "duration": 50,
    "start_time": "2024-02-05T16:18:47.696Z"
   },
   {
    "duration": 56,
    "start_time": "2024-02-05T16:18:47.749Z"
   },
   {
    "duration": 163,
    "start_time": "2024-02-05T16:18:47.807Z"
   },
   {
    "duration": 32,
    "start_time": "2024-02-05T16:18:47.972Z"
   },
   {
    "duration": 17,
    "start_time": "2024-02-05T16:18:48.006Z"
   },
   {
    "duration": 18,
    "start_time": "2024-02-05T16:18:48.024Z"
   },
   {
    "duration": 152,
    "start_time": "2024-02-05T16:18:48.044Z"
   },
   {
    "duration": 0,
    "start_time": "2024-02-05T16:18:48.197Z"
   },
   {
    "duration": 0,
    "start_time": "2024-02-05T16:18:48.199Z"
   },
   {
    "duration": 0,
    "start_time": "2024-02-05T16:18:48.200Z"
   },
   {
    "duration": 0,
    "start_time": "2024-02-05T16:18:48.201Z"
   },
   {
    "duration": 1,
    "start_time": "2024-02-05T16:18:48.202Z"
   },
   {
    "duration": 0,
    "start_time": "2024-02-05T16:18:48.204Z"
   },
   {
    "duration": 0,
    "start_time": "2024-02-05T16:18:48.205Z"
   },
   {
    "duration": 80,
    "start_time": "2024-02-05T16:19:22.972Z"
   },
   {
    "duration": 4,
    "start_time": "2024-02-05T16:19:56.964Z"
   },
   {
    "duration": 96,
    "start_time": "2024-02-05T16:20:00.971Z"
   },
   {
    "duration": 11,
    "start_time": "2024-02-05T16:20:51.104Z"
   },
   {
    "duration": 126,
    "start_time": "2024-02-05T16:22:14.570Z"
   },
   {
    "duration": 115,
    "start_time": "2024-02-05T16:22:47.399Z"
   },
   {
    "duration": 204,
    "start_time": "2024-02-05T16:24:08.072Z"
   },
   {
    "duration": 102,
    "start_time": "2024-02-05T16:24:35.719Z"
   },
   {
    "duration": 203,
    "start_time": "2024-02-05T16:24:47.188Z"
   },
   {
    "duration": 1888,
    "start_time": "2024-02-05T16:25:02.282Z"
   },
   {
    "duration": 448,
    "start_time": "2024-02-05T16:25:04.172Z"
   },
   {
    "duration": 41,
    "start_time": "2024-02-05T16:25:04.622Z"
   },
   {
    "duration": 56,
    "start_time": "2024-02-05T16:25:04.664Z"
   },
   {
    "duration": 37,
    "start_time": "2024-02-05T16:25:04.722Z"
   },
   {
    "duration": 163,
    "start_time": "2024-02-05T16:25:04.761Z"
   },
   {
    "duration": 16,
    "start_time": "2024-02-05T16:25:04.925Z"
   },
   {
    "duration": 23,
    "start_time": "2024-02-05T16:25:04.942Z"
   },
   {
    "duration": 30,
    "start_time": "2024-02-05T16:25:04.966Z"
   },
   {
    "duration": 228,
    "start_time": "2024-02-05T16:25:04.997Z"
   },
   {
    "duration": 122,
    "start_time": "2024-02-05T16:25:05.227Z"
   },
   {
    "duration": 1294,
    "start_time": "2024-02-05T16:25:05.351Z"
   },
   {
    "duration": 1318,
    "start_time": "2024-02-05T16:25:06.647Z"
   },
   {
    "duration": 1404,
    "start_time": "2024-02-05T16:25:07.967Z"
   },
   {
    "duration": 363,
    "start_time": "2024-02-05T16:25:09.372Z"
   },
   {
    "duration": 393,
    "start_time": "2024-02-05T16:25:09.737Z"
   },
   {
    "duration": 372,
    "start_time": "2024-02-05T16:25:10.132Z"
   },
   {
    "duration": 171,
    "start_time": "2024-02-05T16:25:10.506Z"
   },
   {
    "duration": 13,
    "start_time": "2024-02-05T16:32:05.951Z"
   },
   {
    "duration": 16,
    "start_time": "2024-02-05T16:32:09.143Z"
   },
   {
    "duration": 9,
    "start_time": "2024-02-05T16:32:31.478Z"
   },
   {
    "duration": 9,
    "start_time": "2024-02-05T16:32:50.651Z"
   },
   {
    "duration": 1566,
    "start_time": "2024-02-05T16:32:56.956Z"
   },
   {
    "duration": 441,
    "start_time": "2024-02-05T16:32:58.524Z"
   },
   {
    "duration": 48,
    "start_time": "2024-02-05T16:32:58.969Z"
   },
   {
    "duration": 40,
    "start_time": "2024-02-05T16:32:59.019Z"
   },
   {
    "duration": 55,
    "start_time": "2024-02-05T16:32:59.062Z"
   },
   {
    "duration": 151,
    "start_time": "2024-02-05T16:32:59.119Z"
   },
   {
    "duration": 29,
    "start_time": "2024-02-05T16:32:59.272Z"
   },
   {
    "duration": 15,
    "start_time": "2024-02-05T16:32:59.303Z"
   },
   {
    "duration": 15,
    "start_time": "2024-02-05T16:32:59.320Z"
   },
   {
    "duration": 268,
    "start_time": "2024-02-05T16:32:59.337Z"
   },
   {
    "duration": 125,
    "start_time": "2024-02-05T16:32:59.607Z"
   },
   {
    "duration": 17,
    "start_time": "2024-02-05T16:32:59.733Z"
   },
   {
    "duration": 1403,
    "start_time": "2024-02-05T16:32:59.752Z"
   },
   {
    "duration": 1351,
    "start_time": "2024-02-05T16:33:01.159Z"
   },
   {
    "duration": 1392,
    "start_time": "2024-02-05T16:33:02.512Z"
   },
   {
    "duration": 340,
    "start_time": "2024-02-05T16:33:03.906Z"
   },
   {
    "duration": 369,
    "start_time": "2024-02-05T16:33:04.248Z"
   },
   {
    "duration": 329,
    "start_time": "2024-02-05T16:33:04.619Z"
   },
   {
    "duration": 366,
    "start_time": "2024-02-05T16:33:04.950Z"
   },
   {
    "duration": 386,
    "start_time": "2024-02-05T16:53:06.774Z"
   },
   {
    "duration": 129,
    "start_time": "2024-02-05T16:55:09.079Z"
   },
   {
    "duration": 375,
    "start_time": "2024-02-05T16:55:45.523Z"
   },
   {
    "duration": 19,
    "start_time": "2024-02-05T16:57:45.767Z"
   },
   {
    "duration": 389,
    "start_time": "2024-02-05T16:58:11.006Z"
   },
   {
    "duration": 46,
    "start_time": "2024-02-07T13:30:17.854Z"
   },
   {
    "duration": 8,
    "start_time": "2024-02-07T13:32:16.090Z"
   },
   {
    "duration": 1573,
    "start_time": "2024-02-07T13:32:26.176Z"
   },
   {
    "duration": 758,
    "start_time": "2024-02-07T13:32:27.751Z"
   },
   {
    "duration": 48,
    "start_time": "2024-02-07T13:32:28.511Z"
   },
   {
    "duration": 38,
    "start_time": "2024-02-07T13:32:28.562Z"
   },
   {
    "duration": 46,
    "start_time": "2024-02-07T13:32:28.601Z"
   },
   {
    "duration": 130,
    "start_time": "2024-02-07T13:32:28.648Z"
   },
   {
    "duration": 14,
    "start_time": "2024-02-07T13:32:28.779Z"
   },
   {
    "duration": 35,
    "start_time": "2024-02-07T13:32:28.794Z"
   },
   {
    "duration": 14,
    "start_time": "2024-02-07T13:32:28.830Z"
   },
   {
    "duration": 208,
    "start_time": "2024-02-07T13:32:28.846Z"
   },
   {
    "duration": 114,
    "start_time": "2024-02-07T13:32:29.055Z"
   },
   {
    "duration": 12,
    "start_time": "2024-02-07T13:32:29.171Z"
   },
   {
    "duration": 1181,
    "start_time": "2024-02-07T13:32:29.184Z"
   },
   {
    "duration": 1170,
    "start_time": "2024-02-07T13:32:30.366Z"
   },
   {
    "duration": 1242,
    "start_time": "2024-02-07T13:32:31.538Z"
   },
   {
    "duration": 400,
    "start_time": "2024-02-07T13:32:32.782Z"
   },
   {
    "duration": 335,
    "start_time": "2024-02-07T13:32:33.184Z"
   },
   {
    "duration": 313,
    "start_time": "2024-02-07T13:32:33.521Z"
   },
   {
    "duration": 346,
    "start_time": "2024-02-07T13:32:33.836Z"
   },
   {
    "duration": 0,
    "start_time": "2024-02-07T13:32:34.184Z"
   },
   {
    "duration": 0,
    "start_time": "2024-02-07T13:32:34.185Z"
   },
   {
    "duration": 1263,
    "start_time": "2024-02-07T13:33:25.079Z"
   },
   {
    "duration": 378,
    "start_time": "2024-02-07T13:33:26.344Z"
   },
   {
    "duration": 42,
    "start_time": "2024-02-07T13:33:26.723Z"
   },
   {
    "duration": 57,
    "start_time": "2024-02-07T13:33:26.767Z"
   },
   {
    "duration": 34,
    "start_time": "2024-02-07T13:33:26.826Z"
   },
   {
    "duration": 138,
    "start_time": "2024-02-07T13:33:26.862Z"
   },
   {
    "duration": 26,
    "start_time": "2024-02-07T13:33:27.001Z"
   },
   {
    "duration": 13,
    "start_time": "2024-02-07T13:33:27.028Z"
   },
   {
    "duration": 15,
    "start_time": "2024-02-07T13:33:27.043Z"
   },
   {
    "duration": 208,
    "start_time": "2024-02-07T13:33:27.059Z"
   },
   {
    "duration": 104,
    "start_time": "2024-02-07T13:33:27.268Z"
   },
   {
    "duration": 13,
    "start_time": "2024-02-07T13:33:27.374Z"
   },
   {
    "duration": 1122,
    "start_time": "2024-02-07T13:33:27.389Z"
   },
   {
    "duration": 1108,
    "start_time": "2024-02-07T13:33:28.513Z"
   },
   {
    "duration": 1220,
    "start_time": "2024-02-07T13:33:29.623Z"
   },
   {
    "duration": 316,
    "start_time": "2024-02-07T13:33:30.844Z"
   },
   {
    "duration": 321,
    "start_time": "2024-02-07T13:33:31.162Z"
   },
   {
    "duration": 347,
    "start_time": "2024-02-07T13:33:31.485Z"
   },
   {
    "duration": 141,
    "start_time": "2024-02-07T13:33:31.834Z"
   },
   {
    "duration": 0,
    "start_time": "2024-02-07T13:33:31.977Z"
   },
   {
    "duration": 0,
    "start_time": "2024-02-07T13:33:31.978Z"
   },
   {
    "duration": 402,
    "start_time": "2024-02-07T13:33:52.322Z"
   },
   {
    "duration": 1280,
    "start_time": "2024-02-07T13:33:58.164Z"
   },
   {
    "duration": 398,
    "start_time": "2024-02-07T13:33:59.446Z"
   },
   {
    "duration": 38,
    "start_time": "2024-02-07T13:33:59.846Z"
   },
   {
    "duration": 64,
    "start_time": "2024-02-07T13:33:59.886Z"
   },
   {
    "duration": 32,
    "start_time": "2024-02-07T13:33:59.951Z"
   },
   {
    "duration": 155,
    "start_time": "2024-02-07T13:33:59.985Z"
   },
   {
    "duration": 17,
    "start_time": "2024-02-07T13:34:00.141Z"
   },
   {
    "duration": 43,
    "start_time": "2024-02-07T13:34:00.160Z"
   },
   {
    "duration": 19,
    "start_time": "2024-02-07T13:34:00.205Z"
   },
   {
    "duration": 210,
    "start_time": "2024-02-07T13:34:00.228Z"
   },
   {
    "duration": 119,
    "start_time": "2024-02-07T13:34:00.439Z"
   },
   {
    "duration": 15,
    "start_time": "2024-02-07T13:34:00.560Z"
   },
   {
    "duration": 1122,
    "start_time": "2024-02-07T13:34:00.576Z"
   },
   {
    "duration": 1162,
    "start_time": "2024-02-07T13:34:01.699Z"
   },
   {
    "duration": 1170,
    "start_time": "2024-02-07T13:34:02.862Z"
   },
   {
    "duration": 306,
    "start_time": "2024-02-07T13:34:04.033Z"
   },
   {
    "duration": 290,
    "start_time": "2024-02-07T13:34:04.341Z"
   },
   {
    "duration": 302,
    "start_time": "2024-02-07T13:34:04.633Z"
   },
   {
    "duration": 297,
    "start_time": "2024-02-07T13:34:04.936Z"
   },
   {
    "duration": 294,
    "start_time": "2024-02-07T13:34:05.235Z"
   },
   {
    "duration": 276,
    "start_time": "2024-02-07T13:34:05.531Z"
   },
   {
    "duration": 2,
    "start_time": "2024-02-07T13:37:34.069Z"
   },
   {
    "duration": 3,
    "start_time": "2024-02-07T13:38:02.890Z"
   },
   {
    "duration": 9,
    "start_time": "2024-02-07T13:40:03.300Z"
   },
   {
    "duration": 4,
    "start_time": "2024-02-07T13:40:07.681Z"
   },
   {
    "duration": 3,
    "start_time": "2024-02-07T13:40:08.195Z"
   },
   {
    "duration": 3,
    "start_time": "2024-02-07T13:41:04.814Z"
   },
   {
    "duration": 51,
    "start_time": "2024-02-11T13:12:54.413Z"
   },
   {
    "duration": 1687,
    "start_time": "2024-02-11T13:13:04.913Z"
   },
   {
    "duration": 862,
    "start_time": "2024-02-11T13:13:06.602Z"
   },
   {
    "duration": 46,
    "start_time": "2024-02-11T13:13:07.466Z"
   },
   {
    "duration": 48,
    "start_time": "2024-02-11T13:13:07.514Z"
   },
   {
    "duration": 38,
    "start_time": "2024-02-11T13:13:07.564Z"
   },
   {
    "duration": 163,
    "start_time": "2024-02-11T13:13:07.604Z"
   },
   {
    "duration": 16,
    "start_time": "2024-02-11T13:13:07.769Z"
   },
   {
    "duration": 15,
    "start_time": "2024-02-11T13:13:07.787Z"
   },
   {
    "duration": 16,
    "start_time": "2024-02-11T13:13:07.804Z"
   },
   {
    "duration": 275,
    "start_time": "2024-02-11T13:13:07.823Z"
   },
   {
    "duration": 137,
    "start_time": "2024-02-11T13:13:08.100Z"
   },
   {
    "duration": 14,
    "start_time": "2024-02-11T13:13:08.258Z"
   },
   {
    "duration": 1276,
    "start_time": "2024-02-11T13:13:08.282Z"
   },
   {
    "duration": 1323,
    "start_time": "2024-02-11T13:13:09.560Z"
   },
   {
    "duration": 1418,
    "start_time": "2024-02-11T13:13:10.884Z"
   },
   {
    "duration": 437,
    "start_time": "2024-02-11T13:13:12.303Z"
   },
   {
    "duration": 360,
    "start_time": "2024-02-11T13:13:12.742Z"
   },
   {
    "duration": 389,
    "start_time": "2024-02-11T13:13:13.104Z"
   },
   {
    "duration": 372,
    "start_time": "2024-02-11T13:13:13.495Z"
   },
   {
    "duration": 393,
    "start_time": "2024-02-11T13:13:13.869Z"
   },
   {
    "duration": 4,
    "start_time": "2024-02-11T13:13:14.264Z"
   },
   {
    "duration": 200,
    "start_time": "2024-02-11T13:13:14.270Z"
   },
   {
    "duration": 0,
    "start_time": "2024-02-11T13:13:14.471Z"
   },
   {
    "duration": 5,
    "start_time": "2024-02-11T13:13:43.226Z"
   },
   {
    "duration": 6,
    "start_time": "2024-02-11T13:14:22.428Z"
   },
   {
    "duration": 4,
    "start_time": "2024-02-11T13:14:59.480Z"
   },
   {
    "duration": 3,
    "start_time": "2024-02-11T13:19:10.778Z"
   },
   {
    "duration": 3,
    "start_time": "2024-02-11T13:19:49.266Z"
   },
   {
    "duration": 4,
    "start_time": "2024-02-11T13:25:28.067Z"
   },
   {
    "duration": 17,
    "start_time": "2024-02-11T13:25:45.091Z"
   },
   {
    "duration": 11,
    "start_time": "2024-02-11T13:25:55.617Z"
   },
   {
    "duration": 4,
    "start_time": "2024-02-11T13:29:33.584Z"
   },
   {
    "duration": 1636,
    "start_time": "2024-02-11T13:32:18.645Z"
   },
   {
    "duration": 1603,
    "start_time": "2024-02-11T13:33:06.353Z"
   },
   {
    "duration": 444,
    "start_time": "2024-02-11T13:33:07.958Z"
   },
   {
    "duration": 52,
    "start_time": "2024-02-11T13:33:08.406Z"
   },
   {
    "duration": 39,
    "start_time": "2024-02-11T13:33:08.461Z"
   },
   {
    "duration": 57,
    "start_time": "2024-02-11T13:33:08.502Z"
   },
   {
    "duration": 153,
    "start_time": "2024-02-11T13:33:08.560Z"
   },
   {
    "duration": 16,
    "start_time": "2024-02-11T13:33:08.715Z"
   },
   {
    "duration": 33,
    "start_time": "2024-02-11T13:33:08.733Z"
   },
   {
    "duration": 22,
    "start_time": "2024-02-11T13:33:08.769Z"
   },
   {
    "duration": 248,
    "start_time": "2024-02-11T13:33:08.793Z"
   },
   {
    "duration": 154,
    "start_time": "2024-02-11T13:33:09.043Z"
   },
   {
    "duration": 15,
    "start_time": "2024-02-11T13:33:09.199Z"
   },
   {
    "duration": 1308,
    "start_time": "2024-02-11T13:33:09.217Z"
   },
   {
    "duration": 1348,
    "start_time": "2024-02-11T13:33:10.527Z"
   },
   {
    "duration": 1385,
    "start_time": "2024-02-11T13:33:11.877Z"
   },
   {
    "duration": 347,
    "start_time": "2024-02-11T13:33:13.264Z"
   },
   {
    "duration": 379,
    "start_time": "2024-02-11T13:33:13.613Z"
   },
   {
    "duration": 355,
    "start_time": "2024-02-11T13:33:13.994Z"
   },
   {
    "duration": 369,
    "start_time": "2024-02-11T13:33:14.351Z"
   },
   {
    "duration": 356,
    "start_time": "2024-02-11T13:33:14.722Z"
   },
   {
    "duration": 80,
    "start_time": "2024-02-11T13:33:15.084Z"
   },
   {
    "duration": 103,
    "start_time": "2024-02-11T13:33:15.170Z"
   },
   {
    "duration": 12,
    "start_time": "2024-02-11T13:33:15.275Z"
   },
   {
    "duration": 5,
    "start_time": "2024-02-11T13:33:15.289Z"
   },
   {
    "duration": 4876,
    "start_time": "2024-02-11T13:33:15.296Z"
   },
   {
    "duration": 4923,
    "start_time": "2024-02-11T13:41:32.474Z"
   },
   {
    "duration": 5738,
    "start_time": "2024-02-11T13:47:14.224Z"
   },
   {
    "duration": 2059,
    "start_time": "2024-02-11T13:48:32.163Z"
   },
   {
    "duration": 1964,
    "start_time": "2024-02-11T13:49:02.333Z"
   },
   {
    "duration": 1985,
    "start_time": "2024-02-11T13:50:06.286Z"
   },
   {
    "duration": 5680,
    "start_time": "2024-02-11T13:50:18.069Z"
   },
   {
    "duration": 5682,
    "start_time": "2024-02-11T13:52:20.757Z"
   },
   {
    "duration": 5729,
    "start_time": "2024-02-11T13:53:11.719Z"
   },
   {
    "duration": 16,
    "start_time": "2024-02-11T13:54:42.829Z"
   },
   {
    "duration": 5676,
    "start_time": "2024-02-11T13:54:50.694Z"
   },
   {
    "duration": 1928,
    "start_time": "2024-02-11T13:57:02.288Z"
   },
   {
    "duration": 5683,
    "start_time": "2024-02-11T13:59:37.307Z"
   },
   {
    "duration": 5742,
    "start_time": "2024-02-11T14:00:13.328Z"
   },
   {
    "duration": 81,
    "start_time": "2024-02-11T14:00:59.464Z"
   },
   {
    "duration": 78,
    "start_time": "2024-02-11T14:01:14.028Z"
   },
   {
    "duration": 79,
    "start_time": "2024-02-11T14:01:20.268Z"
   },
   {
    "duration": 76,
    "start_time": "2024-02-11T14:01:31.330Z"
   },
   {
    "duration": 79,
    "start_time": "2024-02-11T14:01:38.752Z"
   },
   {
    "duration": 97,
    "start_time": "2024-02-11T14:01:43.966Z"
   },
   {
    "duration": 5885,
    "start_time": "2024-02-11T14:01:56.486Z"
   },
   {
    "duration": 22,
    "start_time": "2024-02-11T14:08:57.649Z"
   },
   {
    "duration": 152,
    "start_time": "2024-02-11T14:09:12.611Z"
   },
   {
    "duration": 4850,
    "start_time": "2024-02-11T14:09:33.582Z"
   },
   {
    "duration": 10,
    "start_time": "2024-02-11T14:13:14.643Z"
   },
   {
    "duration": 5720,
    "start_time": "2024-02-11T14:13:34.470Z"
   },
   {
    "duration": 5664,
    "start_time": "2024-02-11T14:13:56.814Z"
   },
   {
    "duration": 11,
    "start_time": "2024-02-11T14:21:28.701Z"
   },
   {
    "duration": 1565,
    "start_time": "2024-02-11T14:39:23.538Z"
   },
   {
    "duration": 448,
    "start_time": "2024-02-11T14:39:25.105Z"
   },
   {
    "duration": 43,
    "start_time": "2024-02-11T14:39:25.555Z"
   },
   {
    "duration": 39,
    "start_time": "2024-02-11T14:39:25.601Z"
   },
   {
    "duration": 38,
    "start_time": "2024-02-11T14:39:25.658Z"
   },
   {
    "duration": 161,
    "start_time": "2024-02-11T14:39:25.698Z"
   },
   {
    "duration": 16,
    "start_time": "2024-02-11T14:39:25.861Z"
   },
   {
    "duration": 16,
    "start_time": "2024-02-11T14:39:25.878Z"
   },
   {
    "duration": 27,
    "start_time": "2024-02-11T14:39:25.895Z"
   },
   {
    "duration": 254,
    "start_time": "2024-02-11T14:39:25.923Z"
   },
   {
    "duration": 118,
    "start_time": "2024-02-11T14:39:26.178Z"
   },
   {
    "duration": 14,
    "start_time": "2024-02-11T14:39:26.297Z"
   },
   {
    "duration": 1303,
    "start_time": "2024-02-11T14:39:26.313Z"
   },
   {
    "duration": 1318,
    "start_time": "2024-02-11T14:39:27.619Z"
   },
   {
    "duration": 1416,
    "start_time": "2024-02-11T14:39:28.939Z"
   },
   {
    "duration": 375,
    "start_time": "2024-02-11T14:39:30.357Z"
   },
   {
    "duration": 377,
    "start_time": "2024-02-11T14:39:30.734Z"
   },
   {
    "duration": 385,
    "start_time": "2024-02-11T14:39:31.113Z"
   },
   {
    "duration": 314,
    "start_time": "2024-02-11T14:39:31.499Z"
   },
   {
    "duration": 359,
    "start_time": "2024-02-11T14:39:31.816Z"
   },
   {
    "duration": 4,
    "start_time": "2024-02-11T14:39:32.258Z"
   },
   {
    "duration": 129,
    "start_time": "2024-02-11T14:39:32.264Z"
   },
   {
    "duration": 27,
    "start_time": "2024-02-11T14:39:32.394Z"
   },
   {
    "duration": 36,
    "start_time": "2024-02-11T14:39:32.423Z"
   },
   {
    "duration": 5698,
    "start_time": "2024-02-11T14:39:32.461Z"
   }
  ],
  "kernelspec": {
   "display_name": "Python 3 (ipykernel)",
   "language": "python",
   "name": "python3"
  },
  "language_info": {
   "codemirror_mode": {
    "name": "ipython",
    "version": 3
   },
   "file_extension": ".py",
   "mimetype": "text/x-python",
   "name": "python",
   "nbconvert_exporter": "python",
   "pygments_lexer": "ipython3",
   "version": "3.11.8"
  },
  "toc": {
   "base_numbering": 1,
   "nav_menu": {},
   "number_sections": true,
   "sideBar": true,
   "skip_h1_title": true,
   "title_cell": "Table of Contents",
   "title_sidebar": "Contents",
   "toc_cell": false,
   "toc_position": {},
   "toc_section_display": true,
   "toc_window_display": false
  }
 },
 "nbformat": 4,
 "nbformat_minor": 4
}
